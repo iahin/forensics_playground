{
 "cells": [
  {
   "cell_type": "code",
   "execution_count": 2,
   "id": "cc4ca8a8",
   "metadata": {},
   "outputs": [],
   "source": [
    "from karateclub.dataset import GraphSetReader\n",
    "from karateclub import FeatherGraph, Graph2Vec, IGE, GeoScattering, GL2Vec, NetLSD, SF, FGSD\n",
    "from sklearn.preprocessing import StandardScaler\n",
    "from sklearn.neighbors import LocalOutlierFactor\n",
    "import matplotlib.pyplot as plt\n",
    "\n",
    "from torch_geometric.datasets import TUDataset\n",
    "import networkx as nx\n",
    "import torch\n",
    "import itertools\n",
    "import numpy as np\n",
    "import random"
   ]
  },
  {
   "cell_type": "code",
   "execution_count": 3,
   "id": "d0988bef",
   "metadata": {},
   "outputs": [],
   "source": [
    "protein_data = TUDataset(r'C:\\Users\\16sic\\Documents\\GitHub\\conference_draft\\src\\\\', r'PROTEINS')"
   ]
  },
  {
   "cell_type": "code",
   "execution_count": 4,
   "id": "359f89b0",
   "metadata": {},
   "outputs": [],
   "source": [
    "protein_data = protein_data.shuffle()\n",
    "get_all_edge = [data.edge_index for data in protein_data]\n",
    "get_all_edget = [np.vstack((x,y)).T for x,y in get_all_edge]\n",
    "newedgelist = []\n",
    "for x in range(len(get_all_edget)):\n",
    "    G = nx.Graph()\n",
    "    G.add_edges_from(get_all_edget[x])\n",
    "    newedgelist.append(G)\n",
    "get_all_target = [data.y.item() for data in protein_data]"
   ]
  },
  {
   "cell_type": "code",
   "execution_count": 5,
   "id": "1d1e297c",
   "metadata": {},
   "outputs": [],
   "source": [
    "reader = GraphSetReader(\"reddit10k\") #  two types - discussion and non-discussion based ones.\n",
    "graphlist = reader.get_graphs()[:100]\n",
    "targetlist = reader.get_target()[:100]"
   ]
  },
  {
   "cell_type": "code",
   "execution_count": 6,
   "id": "06e38835",
   "metadata": {},
   "outputs": [],
   "source": [
    "reddit_bag = [(x, y) for x, y in zip(graphlist, targetlist)]\n",
    "protein_bag = [(x,y) for x,y in zip(newedgelist, get_all_target)]"
   ]
  },
  {
   "cell_type": "code",
   "execution_count": 7,
   "id": "623d4c29",
   "metadata": {},
   "outputs": [],
   "source": [
    "scaler = StandardScaler()\n",
    "\n",
    "X_train = [x for x, y in reddit_bag][:10]\n",
    "y_train = [y for x, y in reddit_bag][:10]\n",
    "model = FeatherGraph()\n",
    "model.fit(X_train)\n",
    "train_embed = model.get_embedding()\n",
    "train_embed = scaler.fit_transform(train_embed)\n",
    "\n",
    "X_validation = [x for x, y in reddit_bag][11:51]\n",
    "y_validation = [y for x, y in reddit_bag][11:51]\n",
    "\n",
    "X_test = [x for x, y in reddit_bag][52:71]\n",
    "y_test = [y for x, y in reddit_bag][52:71]\n",
    "model = FeatherGraph()\n",
    "model.fit(X_test)\n",
    "test_embed = model.get_embedding()\n",
    "test_embed = scaler.fit_transform(test_embed)\n",
    "\n",
    "X_anmaly = [x for x, y in protein_bag][:3]\n",
    "Y_anmaly = [y for x, y in protein_bag][:3]\n",
    "model = FeatherGraph()\n",
    "model.fit(X_anmaly)\n",
    "anomaly_embed = model.get_embedding()\n",
    "anomaly_embed = scaler.fit_transform(anomaly_embed)"
   ]
  },
  {
   "cell_type": "code",
   "execution_count": 10,
   "id": "4064f273",
   "metadata": {
    "scrolled": true
   },
   "outputs": [
    {
     "data": {
      "text/plain": [
       "Text(0, 0.5, 'Spend_Score')"
      ]
     },
     "execution_count": 10,
     "metadata": {},
     "output_type": "execute_result"
    },
    {
     "data": {
      "image/png": "[encoded data removed]",
      "text/plain": [
       "<Figure size 432x288 with 1 Axes>"
      ]
     },
     "metadata": {
      "needs_background": "light"
     },
     "output_type": "display_data"
    }
   ],
   "source": [
    "np.random.seed(42)\n",
    "\n",
    "# Generate train data\n",
    "X_inliers = train_embed\n",
    "\n",
    "# Generate some outliers\n",
    "X_outliers = anomaly_embed\n",
    "X = np.r_[X_inliers, X_outliers]\n",
    "\n",
    "n_outliers = len(X_outliers)\n",
    "ground_truth = np.ones(len(X), dtype=int)\n",
    "ground_truth[-n_outliers:] = -1\n",
    "\n",
    "# fit the model for outlier detection (default)\n",
    "clf = LocalOutlierFactor(n_neighbors=5, contamination=0.01)\n",
    "# use fit_predict to compute the predicted labels of the training samples\n",
    "# (when LOF is used for outlier detection, the estimator has no predict,\n",
    "# decision_function and score_samples methods).\n",
    "y_pred = clf.fit_predict(X)\n",
    "n_errors = (y_pred != ground_truth).sum()\n",
    "X_scores = clf.negative_outlier_factor_\n",
    "\n",
    "plt.title(\"Local Outlier Factor (LOF)\")\n",
    "plt.scatter(X[:, 0], X[:, 1], color='k', s=3., label='Data points')\n",
    "# plot circles with radius proportional to the outlier scores\n",
    "radius = (X_scores.max() - X_scores) / (X_scores.max() - X_scores.min())\n",
    "plt.scatter(X[:, 0], X[:, 1], s=1000 * radius, edgecolors='r',\n",
    "            facecolors='none', label='Outlier scores')\n",
    "plt.axis('tight')\n",
    "plt.xlim((-5, 5))\n",
    "plt.ylim((-5, 5))\n",
    "plt.xlabel(\"prediction errors: %d\" % (n_errors))\n",
    "legend = plt.legend(loc='upper left')\n",
    "legend.legendHandles[0]._sizes = [10]\n",
    "legend.legendHandles[1]._sizes = [20]\n",
    "plt.show()"
   ]
  },
  {
   "cell_type": "code",
   "execution_count": null,
   "id": "ccd3cd75",
   "metadata": {},
   "outputs": [],
   "source": []
  }
 ],
 "metadata": {
  "interpreter": {
   "hash": "70f84977f3612f557306c4dfae0287d8329a637c86b28ceb4c5cb5c418fab322"
  },
  "kernelspec": {
   "display_name": "Python 3.7.6 64-bit",
   "name": "python3"
  },
  "language_info": {
   "codemirror_mode": {
    "name": "ipython",
    "version": 3
   },
   "file_extension": ".py",
   "mimetype": "text/x-python",
   "name": "python",
   "nbconvert_exporter": "python",
   "pygments_lexer": "ipython3",
   "version": "3.7.6"
  }
 },
 "nbformat": 4,
 "nbformat_minor": 5
}
