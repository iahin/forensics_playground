{
 "cells": [
  {
   "cell_type": "code",
   "execution_count": 1,
   "metadata": {},
   "outputs": [],
   "source": [
    "import torch\n",
    "from torch_geometric.datasets import TUDataset"
   ]
  },
  {
   "cell_type": "code",
   "execution_count": 2,
   "metadata": {},
   "outputs": [],
   "source": [
    "dataset = TUDataset(root='data/TUDataset', name='MUTAG')"
   ]
  },
  {
   "cell_type": "code",
   "execution_count": 3,
   "metadata": {},
   "outputs": [],
   "source": [
    "data = dataset[0]  # Get the first graph object."
   ]
  },
  {
   "cell_type": "code",
   "execution_count": 4,
   "metadata": {
    "scrolled": true
   },
   "outputs": [
    {
     "data": {
      "text/plain": [
       "tensor([[1., 0., 0., 0.],\n",
       "        [1., 0., 0., 0.],\n",
       "        [1., 0., 0., 0.],\n",
       "        [1., 0., 0., 0.],\n",
       "        [1., 0., 0., 0.],\n",
       "        [1., 0., 0., 0.],\n",
       "        [1., 0., 0., 0.],\n",
       "        [1., 0., 0., 0.],\n",
       "        [1., 0., 0., 0.],\n",
       "        [1., 0., 0., 0.],\n",
       "        [1., 0., 0., 0.],\n",
       "        [1., 0., 0., 0.],\n",
       "        [1., 0., 0., 0.],\n",
       "        [1., 0., 0., 0.],\n",
       "        [1., 0., 0., 0.],\n",
       "        [1., 0., 0., 0.],\n",
       "        [1., 0., 0., 0.],\n",
       "        [1., 0., 0., 0.],\n",
       "        [1., 0., 0., 0.],\n",
       "        [1., 0., 0., 0.],\n",
       "        [1., 0., 0., 0.],\n",
       "        [1., 0., 0., 0.],\n",
       "        [1., 0., 0., 0.],\n",
       "        [1., 0., 0., 0.],\n",
       "        [1., 0., 0., 0.],\n",
       "        [1., 0., 0., 0.],\n",
       "        [1., 0., 0., 0.],\n",
       "        [1., 0., 0., 0.],\n",
       "        [1., 0., 0., 0.],\n",
       "        [1., 0., 0., 0.],\n",
       "        [0., 1., 0., 0.],\n",
       "        [1., 0., 0., 0.],\n",
       "        [1., 0., 0., 0.],\n",
       "        [0., 1., 0., 0.],\n",
       "        [0., 0., 1., 0.],\n",
       "        [0., 1., 0., 0.],\n",
       "        [0., 0., 1., 0.],\n",
       "        [0., 1., 0., 0.]])"
      ]
     },
     "execution_count": 4,
     "metadata": {},
     "output_type": "execute_result"
    }
   ],
   "source": [
    "data.edge_attr"
   ]
  },
  {
   "cell_type": "code",
   "execution_count": 5,
   "metadata": {},
   "outputs": [
    {
     "name": "stdout",
     "output_type": "stream",
     "text": [
      "Number of nodes: 17\n",
      "Number of edges: 38\n",
      "Average node degree: 2.24\n",
      "Contains isolated nodes: False\n",
      "Contains self-loops: False\n",
      "Is undirected: True\n"
     ]
    }
   ],
   "source": [
    "# Gather some statistics about the first graph.\n",
    "print(f'Number of nodes: {data.num_nodes}')\n",
    "print(f'Number of edges: {data.num_edges}')\n",
    "print(f'Average node degree: {data.num_edges / data.num_nodes:.2f}')\n",
    "print(f'Contains isolated nodes: {data.contains_isolated_nodes()}')\n",
    "print(f'Contains self-loops: {data.contains_self_loops()}')\n",
    "print(f'Is undirected: {data.is_undirected()}')"
   ]
  },
  {
   "cell_type": "code",
   "execution_count": 13,
   "metadata": {},
   "outputs": [
    {
     "name": "stdout",
     "output_type": "stream",
     "text": [
      "Number of training graphs: 100\n",
      "Number of test graphs: 50\n"
     ]
    }
   ],
   "source": [
    "torch.manual_seed(12345)\n",
    "dataset = dataset.shuffle()\n",
    "\n",
    "train_dataset = dataset[:100]\n",
    "test_dataset = dataset[100:150]\n",
    "\n",
    "print(f'Number of training graphs: {len(train_dataset)}')\n",
    "print(f'Number of test graphs: {len(test_dataset)}')"
   ]
  },
  {
   "cell_type": "code",
   "execution_count": 15,
   "metadata": {
    "scrolled": true
   },
   "outputs": [
    {
     "data": {
      "text/plain": [
       "tensor([[1., 0., 0., 0.],\n",
       "        [1., 0., 0., 0.],\n",
       "        [1., 0., 0., 0.],\n",
       "        [1., 0., 0., 0.],\n",
       "        [1., 0., 0., 0.],\n",
       "        [1., 0., 0., 0.],\n",
       "        [1., 0., 0., 0.],\n",
       "        [1., 0., 0., 0.],\n",
       "        [1., 0., 0., 0.],\n",
       "        [1., 0., 0., 0.],\n",
       "        [1., 0., 0., 0.],\n",
       "        [1., 0., 0., 0.],\n",
       "        [0., 1., 0., 0.],\n",
       "        [1., 0., 0., 0.],\n",
       "        [1., 0., 0., 0.],\n",
       "        [0., 1., 0., 0.],\n",
       "        [0., 0., 1., 0.],\n",
       "        [0., 1., 0., 0.],\n",
       "        [0., 0., 1., 0.],\n",
       "        [0., 1., 0., 0.],\n",
       "        [1., 0., 0., 0.],\n",
       "        [1., 0., 0., 0.],\n",
       "        [1., 0., 0., 0.],\n",
       "        [1., 0., 0., 0.],\n",
       "        [1., 0., 0., 0.],\n",
       "        [1., 0., 0., 0.],\n",
       "        [1., 0., 0., 0.],\n",
       "        [1., 0., 0., 0.],\n",
       "        [1., 0., 0., 0.],\n",
       "        [1., 0., 0., 0.],\n",
       "        [1., 0., 0., 0.],\n",
       "        [0., 1., 0., 0.],\n",
       "        [1., 0., 0., 0.],\n",
       "        [1., 0., 0., 0.],\n",
       "        [1., 0., 0., 0.],\n",
       "        [1., 0., 0., 0.],\n",
       "        [1., 0., 0., 0.],\n",
       "        [1., 0., 0., 0.],\n",
       "        [1., 0., 0., 0.],\n",
       "        [0., 1., 0., 0.],\n",
       "        [0., 0., 1., 0.],\n",
       "        [0., 1., 0., 0.],\n",
       "        [0., 0., 1., 0.],\n",
       "        [0., 1., 0., 0.]])"
      ]
     },
     "execution_count": 15,
     "metadata": {},
     "output_type": "execute_result"
    }
   ],
   "source": [
    "dasd = train_dataset[1]\n",
    "dasd.edge_attr"
   ]
  },
  {
   "cell_type": "code",
   "execution_count": 16,
   "metadata": {},
   "outputs": [
    {
     "name": "stdout",
     "output_type": "stream",
     "text": [
      "Step 1:\n",
      "=======\n",
      "Number of graphs in the current batch: 64\n",
      "Batch(batch=[1137], edge_attr=[2520, 4], edge_index=[2, 2520], x=[1137, 7], y=[64])\n",
      "Dasd <class 'torch.Tensor'>\n",
      "Step 2:\n",
      "=======\n",
      "Number of graphs in the current batch: 36\n",
      "Batch(batch=[674], edge_attr=[1484, 4], edge_index=[2, 1484], x=[674, 7], y=[36])\n",
      "Dasd <class 'torch.Tensor'>\n"
     ]
    }
   ],
   "source": [
    "from torch_geometric.data import DataLoader\n",
    "\n",
    "train_loader = DataLoader(train_dataset, batch_size=64, shuffle=True)\n",
    "test_loader = DataLoader(test_dataset, batch_size=64, shuffle=False)\n",
    "\n",
    "for step, data in enumerate(train_loader):\n",
    "    print(f'Step {step + 1}:')\n",
    "    print('=======')\n",
    "    print(f'Number of graphs in the current batch: {data.num_graphs}')\n",
    "    print(data)\n",
    "    print(\"Dasd\", type(data.y))\n",
    "    "
   ]
  },
  {
   "cell_type": "code",
   "execution_count": 17,
   "metadata": {},
   "outputs": [
    {
     "name": "stdout",
     "output_type": "stream",
     "text": [
      "GCN(\n",
      "  (conv1): GCNConv(7, 64)\n",
      "  (conv2): GCNConv(64, 64)\n",
      "  (conv3): GCNConv(64, 64)\n",
      "  (lin): Linear(in_features=64, out_features=2, bias=True)\n",
      ")\n"
     ]
    }
   ],
   "source": [
    "from torch.nn import Linear\n",
    "import torch.nn.functional as F\n",
    "from torch_geometric.nn import GCNConv\n",
    "from torch_geometric.nn import global_mean_pool\n",
    "\n",
    "\n",
    "class GCN(torch.nn.Module):\n",
    "    def __init__(self, hidden_channels):\n",
    "        super(GCN, self).__init__()\n",
    "        torch.manual_seed(12345)\n",
    "        self.conv1 = GCNConv(dataset.num_node_features, hidden_channels)\n",
    "        self.conv2 = GCNConv(hidden_channels, hidden_channels)\n",
    "        self.conv3 = GCNConv(hidden_channels, hidden_channels)\n",
    "        self.lin = Linear(hidden_channels, dataset.num_classes)\n",
    "\n",
    "    def forward(self, x, edge_index, batch):\n",
    "        # 1. Obtain node embeddings \n",
    "        x = self.conv1(x, edge_index)\n",
    "        x = x.relu()\n",
    "        x = self.conv2(x, edge_index)\n",
    "        x = x.relu()\n",
    "        x = self.conv3(x, edge_index)\n",
    "\n",
    "        # 2. Readout layer\n",
    "        x = global_mean_pool(x, batch)  # [batch_size, hidden_channels]\n",
    "\n",
    "        # 3. Apply a final classifier\n",
    "        x = F.dropout(x, p=0.5, training=self.training)\n",
    "        x = self.lin(x)\n",
    "        \n",
    "        return x\n",
    "\n",
    "model = GCN(hidden_channels=64)\n",
    "print(model)"
   ]
  },
  {
   "cell_type": "code",
   "execution_count": 18,
   "metadata": {
    "scrolled": true
   },
   "outputs": [
    {
     "name": "stdout",
     "output_type": "stream",
     "text": [
      "Epoch: 001, Train Acc: 0.6700, Test Acc: 0.7200\n",
      "Epoch: 002, Train Acc: 0.6700, Test Acc: 0.7200\n",
      "Epoch: 003, Train Acc: 0.6700, Test Acc: 0.7200\n",
      "Epoch: 004, Train Acc: 0.6700, Test Acc: 0.7200\n",
      "Epoch: 005, Train Acc: 0.6700, Test Acc: 0.7200\n",
      "Epoch: 006, Train Acc: 0.6700, Test Acc: 0.7200\n",
      "Epoch: 007, Train Acc: 0.6700, Test Acc: 0.7200\n",
      "Epoch: 008, Train Acc: 0.6700, Test Acc: 0.7200\n",
      "Epoch: 009, Train Acc: 0.6800, Test Acc: 0.7200\n",
      "Epoch: 010, Train Acc: 0.7300, Test Acc: 0.7400\n",
      "Epoch: 011, Train Acc: 0.7600, Test Acc: 0.7400\n",
      "Epoch: 012, Train Acc: 0.7400, Test Acc: 0.7200\n",
      "Epoch: 013, Train Acc: 0.7400, Test Acc: 0.7400\n",
      "Epoch: 014, Train Acc: 0.7400, Test Acc: 0.7600\n",
      "Epoch: 015, Train Acc: 0.7400, Test Acc: 0.7400\n",
      "Epoch: 016, Train Acc: 0.7100, Test Acc: 0.7600\n",
      "Epoch: 017, Train Acc: 0.7000, Test Acc: 0.7600\n",
      "Epoch: 018, Train Acc: 0.7100, Test Acc: 0.7600\n",
      "Epoch: 019, Train Acc: 0.7400, Test Acc: 0.7200\n",
      "Epoch: 020, Train Acc: 0.7600, Test Acc: 0.7200\n",
      "Epoch: 021, Train Acc: 0.7600, Test Acc: 0.7200\n",
      "Epoch: 022, Train Acc: 0.7600, Test Acc: 0.7200\n",
      "Epoch: 023, Train Acc: 0.7600, Test Acc: 0.7200\n",
      "Epoch: 024, Train Acc: 0.7600, Test Acc: 0.7200\n",
      "Epoch: 025, Train Acc: 0.7400, Test Acc: 0.7200\n",
      "Epoch: 026, Train Acc: 0.7600, Test Acc: 0.7200\n",
      "Epoch: 027, Train Acc: 0.7600, Test Acc: 0.7400\n",
      "Epoch: 028, Train Acc: 0.7600, Test Acc: 0.7200\n",
      "Epoch: 029, Train Acc: 0.7600, Test Acc: 0.7200\n",
      "Epoch: 030, Train Acc: 0.7600, Test Acc: 0.7200\n",
      "Epoch: 031, Train Acc: 0.7500, Test Acc: 0.7400\n",
      "Epoch: 032, Train Acc: 0.7400, Test Acc: 0.7600\n",
      "Epoch: 033, Train Acc: 0.7500, Test Acc: 0.7400\n",
      "Epoch: 034, Train Acc: 0.7800, Test Acc: 0.7400\n",
      "Epoch: 035, Train Acc: 0.7800, Test Acc: 0.7600\n",
      "Epoch: 036, Train Acc: 0.7500, Test Acc: 0.7600\n",
      "Epoch: 037, Train Acc: 0.7600, Test Acc: 0.7600\n",
      "Epoch: 038, Train Acc: 0.7700, Test Acc: 0.7600\n",
      "Epoch: 039, Train Acc: 0.7400, Test Acc: 0.7600\n",
      "Epoch: 040, Train Acc: 0.7600, Test Acc: 0.7800\n",
      "Epoch: 041, Train Acc: 0.7600, Test Acc: 0.7800\n",
      "Epoch: 042, Train Acc: 0.7600, Test Acc: 0.7800\n",
      "Epoch: 043, Train Acc: 0.7600, Test Acc: 0.7600\n",
      "Epoch: 044, Train Acc: 0.7600, Test Acc: 0.7200\n",
      "Epoch: 045, Train Acc: 0.7500, Test Acc: 0.7800\n",
      "Epoch: 046, Train Acc: 0.7600, Test Acc: 0.7800\n",
      "Epoch: 047, Train Acc: 0.7700, Test Acc: 0.8000\n",
      "Epoch: 048, Train Acc: 0.7500, Test Acc: 0.7600\n",
      "Epoch: 049, Train Acc: 0.7700, Test Acc: 0.7400\n",
      "Epoch: 050, Train Acc: 0.7500, Test Acc: 0.8000\n",
      "Epoch: 051, Train Acc: 0.7600, Test Acc: 0.7600\n",
      "Epoch: 052, Train Acc: 0.7700, Test Acc: 0.8000\n",
      "Epoch: 053, Train Acc: 0.7600, Test Acc: 0.7600\n",
      "Epoch: 054, Train Acc: 0.7400, Test Acc: 0.7400\n",
      "Epoch: 055, Train Acc: 0.7500, Test Acc: 0.8000\n",
      "Epoch: 056, Train Acc: 0.7600, Test Acc: 0.8200\n",
      "Epoch: 057, Train Acc: 0.7600, Test Acc: 0.8000\n",
      "Epoch: 058, Train Acc: 0.7700, Test Acc: 0.7800\n",
      "Epoch: 059, Train Acc: 0.7600, Test Acc: 0.7400\n",
      "Epoch: 060, Train Acc: 0.7600, Test Acc: 0.7800\n",
      "Epoch: 061, Train Acc: 0.7500, Test Acc: 0.8000\n",
      "Epoch: 062, Train Acc: 0.7500, Test Acc: 0.8000\n",
      "Epoch: 063, Train Acc: 0.7600, Test Acc: 0.8000\n",
      "Epoch: 064, Train Acc: 0.7500, Test Acc: 0.8200\n",
      "Epoch: 065, Train Acc: 0.7500, Test Acc: 0.8000\n",
      "Epoch: 066, Train Acc: 0.7600, Test Acc: 0.8000\n",
      "Epoch: 067, Train Acc: 0.7500, Test Acc: 0.8000\n",
      "Epoch: 068, Train Acc: 0.7500, Test Acc: 0.8200\n",
      "Epoch: 069, Train Acc: 0.7500, Test Acc: 0.8000\n",
      "Epoch: 070, Train Acc: 0.7500, Test Acc: 0.8000\n",
      "Epoch: 071, Train Acc: 0.7400, Test Acc: 0.7400\n",
      "Epoch: 072, Train Acc: 0.7400, Test Acc: 0.7400\n",
      "Epoch: 073, Train Acc: 0.7500, Test Acc: 0.8000\n",
      "Epoch: 074, Train Acc: 0.7600, Test Acc: 0.8200\n",
      "Epoch: 075, Train Acc: 0.7500, Test Acc: 0.8200\n",
      "Epoch: 076, Train Acc: 0.7500, Test Acc: 0.8000\n",
      "Epoch: 077, Train Acc: 0.7600, Test Acc: 0.7600\n",
      "Epoch: 078, Train Acc: 0.7500, Test Acc: 0.7800\n",
      "Epoch: 079, Train Acc: 0.7500, Test Acc: 0.8200\n",
      "Epoch: 080, Train Acc: 0.7500, Test Acc: 0.8200\n",
      "Epoch: 081, Train Acc: 0.7500, Test Acc: 0.8200\n",
      "Epoch: 082, Train Acc: 0.7400, Test Acc: 0.7600\n",
      "Epoch: 083, Train Acc: 0.7400, Test Acc: 0.7600\n",
      "Epoch: 084, Train Acc: 0.7400, Test Acc: 0.7600\n",
      "Epoch: 085, Train Acc: 0.7500, Test Acc: 0.7800\n",
      "Epoch: 086, Train Acc: 0.7700, Test Acc: 0.8200\n",
      "Epoch: 087, Train Acc: 0.7600, Test Acc: 0.7800\n",
      "Epoch: 088, Train Acc: 0.7600, Test Acc: 0.7600\n",
      "Epoch: 089, Train Acc: 0.7500, Test Acc: 0.7800\n",
      "Epoch: 090, Train Acc: 0.7500, Test Acc: 0.7800\n",
      "Epoch: 091, Train Acc: 0.7700, Test Acc: 0.8000\n",
      "Epoch: 092, Train Acc: 0.7800, Test Acc: 0.8000\n",
      "Epoch: 093, Train Acc: 0.7800, Test Acc: 0.7800\n",
      "Epoch: 094, Train Acc: 0.7600, Test Acc: 0.7600\n",
      "Epoch: 095, Train Acc: 0.7800, Test Acc: 0.7800\n",
      "Epoch: 096, Train Acc: 0.7500, Test Acc: 0.7400\n",
      "Epoch: 097, Train Acc: 0.7700, Test Acc: 0.7800\n",
      "Epoch: 098, Train Acc: 0.7500, Test Acc: 0.7200\n",
      "Epoch: 099, Train Acc: 0.7800, Test Acc: 0.8000\n",
      "Epoch: 100, Train Acc: 0.7900, Test Acc: 0.8000\n",
      "Epoch: 101, Train Acc: 0.7500, Test Acc: 0.7400\n",
      "Epoch: 102, Train Acc: 0.7700, Test Acc: 0.7400\n",
      "Epoch: 103, Train Acc: 0.7900, Test Acc: 0.7600\n",
      "Epoch: 104, Train Acc: 0.8100, Test Acc: 0.8000\n",
      "Epoch: 105, Train Acc: 0.7700, Test Acc: 0.7800\n",
      "Epoch: 106, Train Acc: 0.7800, Test Acc: 0.7600\n",
      "Epoch: 107, Train Acc: 0.8000, Test Acc: 0.8000\n",
      "Epoch: 108, Train Acc: 0.7600, Test Acc: 0.7600\n",
      "Epoch: 109, Train Acc: 0.7900, Test Acc: 0.7800\n",
      "Epoch: 110, Train Acc: 0.7800, Test Acc: 0.7800\n",
      "Epoch: 111, Train Acc: 0.7900, Test Acc: 0.7800\n",
      "Epoch: 112, Train Acc: 0.7900, Test Acc: 0.8000\n",
      "Epoch: 113, Train Acc: 0.8000, Test Acc: 0.8000\n",
      "Epoch: 114, Train Acc: 0.8000, Test Acc: 0.8000\n",
      "Epoch: 115, Train Acc: 0.8000, Test Acc: 0.8000\n",
      "Epoch: 116, Train Acc: 0.7900, Test Acc: 0.7800\n",
      "Epoch: 117, Train Acc: 0.8200, Test Acc: 0.7800\n",
      "Epoch: 118, Train Acc: 0.8100, Test Acc: 0.7800\n",
      "Epoch: 119, Train Acc: 0.8200, Test Acc: 0.7600\n",
      "Epoch: 120, Train Acc: 0.8000, Test Acc: 0.7400\n",
      "Epoch: 121, Train Acc: 0.8100, Test Acc: 0.7800\n",
      "Epoch: 122, Train Acc: 0.8100, Test Acc: 0.7600\n",
      "Epoch: 123, Train Acc: 0.8300, Test Acc: 0.7800\n",
      "Epoch: 124, Train Acc: 0.8000, Test Acc: 0.7600\n",
      "Epoch: 125, Train Acc: 0.8100, Test Acc: 0.7800\n",
      "Epoch: 126, Train Acc: 0.8200, Test Acc: 0.8000\n",
      "Epoch: 127, Train Acc: 0.8300, Test Acc: 0.7400\n",
      "Epoch: 128, Train Acc: 0.8100, Test Acc: 0.7800\n",
      "Epoch: 129, Train Acc: 0.8200, Test Acc: 0.7600\n",
      "Epoch: 130, Train Acc: 0.8200, Test Acc: 0.7400\n",
      "Epoch: 131, Train Acc: 0.8400, Test Acc: 0.7600\n",
      "Epoch: 132, Train Acc: 0.8300, Test Acc: 0.7600\n",
      "Epoch: 133, Train Acc: 0.8200, Test Acc: 0.8000\n",
      "Epoch: 134, Train Acc: 0.8300, Test Acc: 0.7600\n",
      "Epoch: 135, Train Acc: 0.8200, Test Acc: 0.8000\n",
      "Epoch: 136, Train Acc: 0.8400, Test Acc: 0.7800\n",
      "Epoch: 137, Train Acc: 0.7400, Test Acc: 0.7200\n",
      "Epoch: 138, Train Acc: 0.8300, Test Acc: 0.7800\n",
      "Epoch: 139, Train Acc: 0.8000, Test Acc: 0.8200\n",
      "Epoch: 140, Train Acc: 0.8300, Test Acc: 0.7800\n",
      "Epoch: 141, Train Acc: 0.7800, Test Acc: 0.7200\n",
      "Epoch: 142, Train Acc: 0.8200, Test Acc: 0.7600\n",
      "Epoch: 143, Train Acc: 0.8200, Test Acc: 0.7800\n",
      "Epoch: 144, Train Acc: 0.8300, Test Acc: 0.7400\n",
      "Epoch: 145, Train Acc: 0.8300, Test Acc: 0.7600\n",
      "Epoch: 146, Train Acc: 0.8200, Test Acc: 0.7600\n",
      "Epoch: 147, Train Acc: 0.8300, Test Acc: 0.7600\n",
      "Epoch: 148, Train Acc: 0.8300, Test Acc: 0.7600\n",
      "Epoch: 149, Train Acc: 0.8200, Test Acc: 0.7400\n",
      "Epoch: 150, Train Acc: 0.8400, Test Acc: 0.7400\n",
      "Epoch: 151, Train Acc: 0.8200, Test Acc: 0.7800\n",
      "Epoch: 152, Train Acc: 0.8200, Test Acc: 0.7800\n",
      "Epoch: 153, Train Acc: 0.8200, Test Acc: 0.7600\n",
      "Epoch: 154, Train Acc: 0.8200, Test Acc: 0.7600\n",
      "Epoch: 155, Train Acc: 0.8300, Test Acc: 0.7600\n",
      "Epoch: 156, Train Acc: 0.8300, Test Acc: 0.7800\n",
      "Epoch: 157, Train Acc: 0.8200, Test Acc: 0.7400\n",
      "Epoch: 158, Train Acc: 0.8400, Test Acc: 0.7400\n",
      "Epoch: 159, Train Acc: 0.8300, Test Acc: 0.7400\n",
      "Epoch: 160, Train Acc: 0.8300, Test Acc: 0.7400\n",
      "Epoch: 161, Train Acc: 0.8300, Test Acc: 0.7200\n",
      "Epoch: 162, Train Acc: 0.8300, Test Acc: 0.7800\n",
      "Epoch: 163, Train Acc: 0.8300, Test Acc: 0.7800\n",
      "Epoch: 164, Train Acc: 0.8200, Test Acc: 0.7400\n",
      "Epoch: 165, Train Acc: 0.8300, Test Acc: 0.8000\n",
      "Epoch: 166, Train Acc: 0.8300, Test Acc: 0.8000\n",
      "Epoch: 167, Train Acc: 0.8300, Test Acc: 0.7600\n",
      "Epoch: 168, Train Acc: 0.8400, Test Acc: 0.7600\n",
      "Epoch: 169, Train Acc: 0.8500, Test Acc: 0.7400\n",
      "Epoch: 170, Train Acc: 0.8400, Test Acc: 0.7600\n",
      "Epoch: 171, Train Acc: 0.8300, Test Acc: 0.7400\n",
      "Epoch: 172, Train Acc: 0.8200, Test Acc: 0.7600\n",
      "Epoch: 173, Train Acc: 0.8400, Test Acc: 0.7800\n"
     ]
    },
    {
     "name": "stdout",
     "output_type": "stream",
     "text": [
      "Epoch: 174, Train Acc: 0.8300, Test Acc: 0.7200\n",
      "Epoch: 175, Train Acc: 0.8400, Test Acc: 0.7800\n",
      "Epoch: 176, Train Acc: 0.8300, Test Acc: 0.7600\n",
      "Epoch: 177, Train Acc: 0.8400, Test Acc: 0.7800\n",
      "Epoch: 178, Train Acc: 0.8300, Test Acc: 0.8000\n",
      "Epoch: 179, Train Acc: 0.8300, Test Acc: 0.7400\n",
      "Epoch: 180, Train Acc: 0.8200, Test Acc: 0.7600\n",
      "Epoch: 181, Train Acc: 0.8500, Test Acc: 0.7600\n",
      "Epoch: 182, Train Acc: 0.8200, Test Acc: 0.7600\n",
      "Epoch: 183, Train Acc: 0.8500, Test Acc: 0.7600\n",
      "Epoch: 184, Train Acc: 0.8200, Test Acc: 0.7800\n",
      "Epoch: 185, Train Acc: 0.8200, Test Acc: 0.7400\n",
      "Epoch: 186, Train Acc: 0.8400, Test Acc: 0.7400\n",
      "Epoch: 187, Train Acc: 0.8500, Test Acc: 0.7600\n",
      "Epoch: 188, Train Acc: 0.8400, Test Acc: 0.7400\n",
      "Epoch: 189, Train Acc: 0.8100, Test Acc: 0.7400\n",
      "Epoch: 190, Train Acc: 0.8300, Test Acc: 0.7800\n",
      "Epoch: 191, Train Acc: 0.8400, Test Acc: 0.7600\n",
      "Epoch: 192, Train Acc: 0.8400, Test Acc: 0.7400\n",
      "Epoch: 193, Train Acc: 0.8200, Test Acc: 0.7400\n",
      "Epoch: 194, Train Acc: 0.8100, Test Acc: 0.7400\n",
      "Epoch: 195, Train Acc: 0.8000, Test Acc: 0.7200\n",
      "Epoch: 196, Train Acc: 0.8300, Test Acc: 0.7200\n",
      "Epoch: 197, Train Acc: 0.8400, Test Acc: 0.8000\n",
      "Epoch: 198, Train Acc: 0.8300, Test Acc: 0.7600\n",
      "Epoch: 199, Train Acc: 0.8200, Test Acc: 0.7400\n",
      "Epoch: 200, Train Acc: 0.8300, Test Acc: 0.7800\n"
     ]
    }
   ],
   "source": [
    "model = GCN(hidden_channels=64)\n",
    "optimizer = torch.optim.Adam(model.parameters(), lr=0.01)\n",
    "criterion = torch.nn.CrossEntropyLoss()\n",
    "\n",
    "def train():\n",
    "    model.train()\n",
    "\n",
    "    for data in train_loader:  # Iterate in batches over the training dataset.\n",
    "         out = model(data.x, data.edge_index, data.batch)  # Perform a single forward pass.\n",
    "         loss = criterion(out, data.y)  # Compute the loss.\n",
    "         loss.backward()  # Derive gradients.\n",
    "         optimizer.step()  # Update parameters based on gradients.\n",
    "         optimizer.zero_grad()  # Clear gradients.\n",
    "\n",
    "def test(loader):\n",
    "     model.eval()\n",
    "\n",
    "     correct = 0\n",
    "     for data in loader:  # Iterate in batches over the training/test dataset.\n",
    "         out = model(data.x, data.edge_index, data.batch)  \n",
    "         pred = out.argmax(dim=1)  # Use the class with highest probability.\n",
    "         correct += int((pred == data.y).sum())  # Check against ground-truth labels.\n",
    "     return correct / len(loader.dataset)  # Derive ratio of correct predictions.\n",
    "\n",
    "\n",
    "for epoch in range(1, 201):\n",
    "    train()\n",
    "    train_acc = test(train_loader)\n",
    "    test_acc = test(test_loader)\n",
    "    print(f'Epoch: {epoch:03d}, Train Acc: {train_acc:.4f}, Test Acc: {test_acc:.4f}')"
   ]
  },
  {
   "cell_type": "code",
   "execution_count": 11,
   "metadata": {},
   "outputs": [
    {
     "name": "stdout",
     "output_type": "stream",
     "text": [
      "tensor([1, 0, 1, 1, 0, 0, 1, 1, 1, 0])\n"
     ]
    }
   ],
   "source": [
    "sample1 = DataLoader(train_dataset, batch_size=10, shuffle=True)\n",
    "\n",
    "sample1 = iter(sample1)\n",
    "sample1 = next(sample1)\n",
    "\n",
    "edgelist = sample1.edge_index.t().contiguous()\n",
    "edgelist = edgelist.tolist()\n",
    "print(sample1.y)"
   ]
  },
  {
   "cell_type": "code",
   "execution_count": 12,
   "metadata": {},
   "outputs": [],
   "source": [
    "import networkx as nx\n",
    "from pyvis.network import Network\n",
    "\n",
    "G = nx.Graph(edgelist)\n",
    "\n",
    "# view the result in pyviz\n",
    "nt = Network(width=\"1000\", height=\"500\")\n",
    "nt.show_buttons()\n",
    "nt.from_nx(G)\n",
    "nt.show(\"nx.html\")"
   ]
  }
 ],
 "metadata": {
  "kernelspec": {
   "display_name": "Python 3",
   "language": "python",
   "name": "python3"
  },
  "language_info": {
   "codemirror_mode": {
    "name": "ipython",
    "version": 3
   },
   "file_extension": ".py",
   "mimetype": "text/x-python",
   "name": "python",
   "nbconvert_exporter": "python",
   "pygments_lexer": "ipython3",
   "version": "3.7.9"
  }
 },
 "nbformat": 4,
 "nbformat_minor": 4
}
