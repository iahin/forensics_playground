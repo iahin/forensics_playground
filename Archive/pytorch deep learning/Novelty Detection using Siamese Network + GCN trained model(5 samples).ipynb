{
 "cells": [
  {
   "cell_type": "code",
   "execution_count": 1,
   "id": "b6fe422f",
   "metadata": {},
   "outputs": [],
   "source": [
    "import torch\n",
    "from torch import optim\n",
    "import torch.nn as nn\n",
    "import torch.nn.functional as F\n",
    "\n",
    "from torch_geometric.datasets import TUDataset\n",
    "from torch_geometric.data import Data\n",
    "from torch_geometric.data import DataLoader\n",
    "from torch_geometric.nn import GCNConv\n",
    "from torch_geometric.nn import global_mean_pool\n",
    "\n",
    "import networkx as nx\n",
    "from tqdm import tqdm\n",
    "import numpy as np\n",
    "import random\n",
    "import seaborn as sns\n",
    "import matplotlib.pyplot as plt\n",
    "\n",
    "from karateclub import DeepWalk\n",
    "from karateclub.dataset import GraphSetReader\n",
    "\n",
    "from sklearn.model_selection import train_test_split\n",
    "from sklearn.preprocessing import StandardScaler\n",
    "from sklearn.metrics import precision_recall_fscore_support\n",
    "from sklearn.metrics import roc_auc_score\n",
    "from sklearn.metrics import accuracy_score"
   ]
  },
  {
   "cell_type": "code",
   "execution_count": null,
   "id": "e6cf19ed",
   "metadata": {},
   "outputs": [],
   "source": [
    "seed = 42\n",
    "torch.manual_seed(seed)\n",
    "np.random.seed(seed)\n",
    "random.seed(seed)"
   ]
  },
  {
   "cell_type": "markdown",
   "id": "1542fc53",
   "metadata": {},
   "source": [
    "# Get and prepare data"
   ]
  },
  {
   "cell_type": "code",
   "execution_count": null,
   "id": "0538d92f",
   "metadata": {},
   "outputs": [],
   "source": [
    "def chunkwise(t, size=2):\n",
    "    it = iter(t)\n",
    "    newzipped = zip(*[it]*size)\n",
    "    newlist = [list(x) for x in newzipped]\n",
    "    return newlist\n",
    "\n",
    "def validation_sampler(sample_split, classpick=None):\n",
    "    newbag = []\n",
    "    loader = []\n",
    "    if classpick:\n",
    "        for c in classpick:\n",
    "            for x,y in sample_split:\n",
    "                if y==c:\n",
    "                    newbag.append((x, y))\n",
    "                    break\n",
    "    else:\n",
    "        newbag = sample_split\n",
    "    for img, y in newbag:\n",
    "        dataload = Data(\n",
    "            img=img,\n",
    "            y=torch.tensor(y)\n",
    "        )\n",
    "        loader.append(dataload)\n",
    "    \n",
    "    return loader"
   ]
  },
  {
   "cell_type": "code",
   "execution_count": 2,
   "id": "739316b4",
   "metadata": {},
   "outputs": [
    {
     "ename": "NameError",
     "evalue": "name 'GraphSetReader' is not defined",
     "output_type": "error",
     "traceback": [
      "\u001b[1;31m---------------------------------------------------------------------------\u001b[0m",
      "\u001b[1;31mNameError\u001b[0m                                 Traceback (most recent call last)",
      "\u001b[1;32m<ipython-input-2-29996eb51054>\u001b[0m in \u001b[0;36m<module>\u001b[1;34m\u001b[0m\n\u001b[1;32m----> 1\u001b[1;33m \u001b[0mreddit_data\u001b[0m \u001b[1;33m=\u001b[0m \u001b[0mGraphSetReader\u001b[0m\u001b[1;33m(\u001b[0m\u001b[1;34m\"reddit10k\"\u001b[0m\u001b[1;33m)\u001b[0m \u001b[1;31m#  two types - discussion and non-discussion based ones.\u001b[0m\u001b[1;33m\u001b[0m\u001b[1;33m\u001b[0m\u001b[0m\n\u001b[0m\u001b[0;32m      2\u001b[0m \u001b[0mprotein_data\u001b[0m \u001b[1;33m=\u001b[0m \u001b[0mTUDataset\u001b[0m\u001b[1;33m(\u001b[0m\u001b[1;34mr'C:\\Users\\16sic\\Documents\\GitHub\\conference_draft\\src\\\\'\u001b[0m\u001b[1;33m,\u001b[0m \u001b[1;34mr'PROTEINS'\u001b[0m\u001b[1;33m)\u001b[0m\u001b[1;33m\u001b[0m\u001b[1;33m\u001b[0m\u001b[0m\n",
      "\u001b[1;31mNameError\u001b[0m: name 'GraphSetReader' is not defined"
     ]
    }
   ],
   "source": [
    "reddit_data = GraphSetReader(\"reddit10k\") #  two types - discussion and non-discussion based ones.\n",
    "protein_data = TUDataset(r'C:\\Users\\16sic\\Documents\\GitHub\\conference_draft\\src\\\\', r'PROTEINS')"
   ]
  },
  {
   "cell_type": "code",
   "execution_count": 36,
   "id": "dbfe2d93",
   "metadata": {},
   "outputs": [],
   "source": [
    "protein_data = protein_data.shuffle()\n",
    "get_all_edge = [data.edge_index for data in protein_data]\n",
    "get_all_edget = [np.vstack((x,y)).T for x,y in get_all_edge]\n",
    "protein_edgelist = []\n",
    "for x in range(len(get_all_edget)):\n",
    "    G = nx.Graph()\n",
    "    G.add_edges_from(get_all_edget[x])\n",
    "    newedgelist.append(G)\n",
    "get_all_target = [data.y.item() for data in protein_data]"
   ]
  },
  {
   "cell_type": "code",
   "execution_count": 37,
   "id": "d8d721bf",
   "metadata": {},
   "outputs": [],
   "source": [
    "reddit_graphlist = reddit_data.get_graphs()[:100]\n",
    "reddit_targetlist = reddit_data.get_target()[:100]"
   ]
  },
  {
   "cell_type": "code",
   "execution_count": 63,
   "id": "015a033c",
   "metadata": {},
   "outputs": [],
   "source": [
    "reddit_bag = [(x,y) for x,y in zip(reddit_graphlist, reddit_targetlist)][50:55]\n",
    "protein_bag = [(x,y) for x,y in zip(newedgelist, get_all_target)][20:25]"
   ]
  },
  {
   "cell_type": "code",
   "execution_count": 64,
   "id": "649fb9a0",
   "metadata": {},
   "outputs": [
    {
     "name": "stderr",
     "output_type": "stream",
     "text": [
      "c:\\users\\16sic\\appdata\\local\\programs\\python\\python37\\lib\\site-packages\\numpy\\core\\_asarray.py:171: VisibleDeprecationWarning: Creating an ndarray from ragged nested sequences (which is a list-or-tuple of lists-or-tuples-or ndarrays with different lengths or shapes) is deprecated. If you meant to do this, you must specify 'dtype=object' when creating the ndarray.\n",
      "  return array(a, dtype, copy=False, order=order, subok=True)\n"
     ]
    }
   ],
   "source": [
    "loader = validation_sampler(np.vstack((reddit_bag, protein_bag)))\n",
    "dataloader = DataLoader(loader, batch_size=1, shuffle=False)"
   ]
  },
  {
   "cell_type": "markdown",
   "id": "efc03c14",
   "metadata": {},
   "source": [
    "# Load model created from \"Siamese Network + GCN with graph Data\" script"
   ]
  },
  {
   "cell_type": "code",
   "execution_count": 65,
   "id": "76a8b2d5",
   "metadata": {},
   "outputs": [],
   "source": [
    "class ContrastiveLoss(torch.nn.Module):\n",
    "    \"\"\"\n",
    "    Contrastive loss function.\n",
    "    Based on: http://yann.lecun.com/exdb/publis/pdf/hadsell-chopra-lecun-06.pdf\n",
    "    \"\"\"\n",
    "    def __init__(self, margin=2.0):\n",
    "        super(ContrastiveLoss, self).__init__()\n",
    "        self.margin = margin\n",
    "    def forward(self, output1, output2, label):\n",
    "        output1 = torch.norm(output1)\n",
    "        output2 = torch.norm(output2)\n",
    "        \n",
    "        euclidean_distance = torch.abs(output1 - output2)\n",
    "        \n",
    "        #euclidean_distance = F.pairwise_distance(output1, output2, keepdim = True)\n",
    "        loss_contrastive = torch.mean((1-label) * torch.pow(euclidean_distance, 2) +\n",
    "                                      (label) * torch.pow(torch.clamp(self.margin - euclidean_distance, min=0.0), 2))\n",
    "        return loss_contrastive"
   ]
  },
  {
   "cell_type": "code",
   "execution_count": 66,
   "id": "f6574920",
   "metadata": {},
   "outputs": [],
   "source": [
    "class SiameseNetwork_GCN(nn.Module):\n",
    "    def __init__(self):\n",
    "        super(SiameseNetwork_GCN, self).__init__()        \n",
    "        self.conv1 = GCNConv(16, 64)\n",
    "        self.conv2 = GCNConv(64, 64)\n",
    "        self.conv3 = GCNConv(64, 64)\n",
    "        self.lin = nn.Linear(64,2)\n",
    "\n",
    "    def forward_once(self, x):\n",
    "        G = x[0]\n",
    "        edges = G.edges()\n",
    "        edgelist = list(zip(*edges))\n",
    "        col1 = list(edgelist[0])\n",
    "        col2 = list(edgelist[1])\n",
    "        edge_index = torch.tensor([col1, col2])\n",
    "        \n",
    "        model = DeepWalk(dimensions=16)\n",
    "        model.fit(G)\n",
    "        \n",
    "        x_embed = model.get_embedding()\n",
    "        x_embed = torch.from_numpy(x_embed)\n",
    "        \n",
    "        x = self.conv1(x_embed, edge_index)\n",
    "        x = x.relu()\n",
    "        x = self.conv2(x, edge_index)\n",
    "        x = x.relu()\n",
    "        x = self.conv3(x, edge_index)\n",
    "        \n",
    "        x = F.dropout(x, p=0.5, training=self.training)\n",
    "        x = self.lin(x)\n",
    "        \n",
    "        return x\n",
    "\n",
    "    def forward(self, input1, input2):\n",
    "        output1 = self.forward_once(input1)\n",
    "        output2 = self.forward_once(input2)\n",
    "        return output1, output2"
   ]
  },
  {
   "cell_type": "code",
   "execution_count": 67,
   "id": "6d8ccadd",
   "metadata": {},
   "outputs": [],
   "source": [
    "model_name = './data/siamese_gcn.pth'\n",
    "model = torch.load(model_name)\n",
    "criterion = ContrastiveLoss()\n",
    "optimizer = optim.Adam(net.parameters(), lr=0.0005)"
   ]
  },
  {
   "cell_type": "code",
   "execution_count": 68,
   "id": "3e0e1910",
   "metadata": {},
   "outputs": [],
   "source": [
    "class0 = [x for x,y in reddit_bag if y==0][0]\n",
    "class1 = [x for x,y in reddit_bag if y==1][0]"
   ]
  },
  {
   "cell_type": "code",
   "execution_count": 69,
   "id": "119e4903",
   "metadata": {},
   "outputs": [],
   "source": [
    "model.eval()\n",
    "loss_dist = []\n",
    "for data in dataloader:\n",
    "    sample1, sample2 = net([class0], data.img)\n",
    "    output1 = torch.norm(sample1)\n",
    "    output2 = torch.norm(sample2)\n",
    "    class0_euc_score = torch.abs(output1 - output2)\n",
    "\n",
    "    sample1, sample2 = net([class1], data.img)\n",
    "    output1 = torch.norm(sample1)\n",
    "    output2 = torch.norm(sample2)\n",
    "    class1_euc_score = torch.abs(output1 - output2)\n",
    "    \n",
    "    meanloss = (class0_euc_score + class1_euc_score).sum()\n",
    "    loss_dist.append(meanloss.item())"
   ]
  },
  {
   "cell_type": "markdown",
   "id": "4aaa0964",
   "metadata": {},
   "source": [
    "\"In both the below plots of the loss values, you noticed a vertical line. These lines are an estimated threshold value for which we will determine a loss value is or is not an anomaly. In the loss distribution plot, if the value exceed (to the right) of the red line, we will consider that data as an anomaly. There is a blue line that represents a lower threshold (anything below) but is not relevant for this example of data.\" from https://benjoe.medium.com/anomaly-detection-using-pytorch-autoencoder-and-mnist-31c5c2186329"
   ]
  },
  {
   "cell_type": "code",
   "execution_count": 71,
   "id": "f1d3a4e9",
   "metadata": {},
   "outputs": [
    {
     "name": "stderr",
     "output_type": "stream",
     "text": [
      "c:\\users\\16sic\\appdata\\local\\programs\\python\\python37\\lib\\site-packages\\seaborn\\distributions.py:2557: FutureWarning: `distplot` is a deprecated function and will be removed in a future version. Please adapt your code to use either `displot` (a figure-level function with similar flexibility) or `histplot` (an axes-level function for histograms).\n",
      "  warnings.warn(msg, FutureWarning)\n"
     ]
    },
    {
     "data": {
      "text/plain": [
       "<matplotlib.lines.Line2D at 0x2db2f44e688>"
      ]
     },
     "execution_count": 71,
     "metadata": {},
     "output_type": "execute_result"
    },
    {
     "data": {
      "image/png": "[encoded data removed]",
      "text/plain": [
       "<Figure size 640x480 with 1 Axes>"
      ]
     },
     "metadata": {
      "needs_background": "light"
     },
     "output_type": "display_data"
    },
    {
     "data": {
      "image/png": "[encoded data removed]",
      "text/plain": [
       "<Figure size 864x432 with 1 Axes>"
      ]
     },
     "metadata": {
      "needs_background": "light"
     },
     "output_type": "display_data"
    }
   ],
   "source": [
    "# Outlier threshold\n",
    "plt.figure(figsize=(8, 6), dpi=80)\n",
    "plt.axhline(3.0, 0.0, 1)\n",
    "#plt.ylim(2.0,3.0)\n",
    "plt.xticks([i for i in range(len(loader))])\n",
    "plt.axvspan(len(reddit_bag), len(reddit_bag)+len(protein_bag)-1, color='red', alpha=0.5)\n",
    "\n",
    "loss_sc = []\n",
    "for i, x in enumerate(loss_dist):\n",
    "    loss_sc.append((i,x))\n",
    "plt.scatter(*zip(*loss_sc))\n",
    "\n",
    "# loss distribution\n",
    "lower_threshold = 2.1\n",
    "upper_threshold = 3.0\n",
    "plt.figure(figsize=(12,6))\n",
    "plt.title('Loss Distribution')\n",
    "sns.distplot(loss_dist,bins=100,kde=True, color='blue')\n",
    "plt.axvline(upper_threshold, 0.0, 10, color='r')\n",
    "plt.axvline(lower_threshold, 0.0, 10, color='b')"
   ]
  },
  {
   "cell_type": "code",
   "execution_count": null,
   "id": "53fc8086",
   "metadata": {},
   "outputs": [],
   "source": []
  }
 ],
 "metadata": {
  "kernelspec": {
   "display_name": "Python 3",
   "language": "python",
   "name": "python3"
  },
  "language_info": {
   "codemirror_mode": {
    "name": "ipython",
    "version": 3
   },
   "file_extension": ".py",
   "mimetype": "text/x-python",
   "name": "python",
   "nbconvert_exporter": "python",
   "pygments_lexer": "ipython3",
   "version": "3.7.6"
  }
 },
 "nbformat": 4,
 "nbformat_minor": 5
}
