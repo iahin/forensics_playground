{
 "cells": [
  {
   "cell_type": "code",
   "execution_count": 1,
   "id": "9ead0533",
   "metadata": {},
   "outputs": [],
   "source": [
    "from sklearn.cluster import KMeans\n",
    "from sklearn.datasets import make_blobs\n",
    "import matplotlib.pyplot as plt\n",
    "import networkx as nx\n",
    "import pandas as pd\n",
    "import numpy as np\n",
    "import random\n",
    "from tqdm import tqdm\n",
    "from karateclub.dataset import GraphSetReader\n",
    "from sklearn.manifold import TSNE\n",
    "from sklearn.model_selection import train_test_split\n",
    "from sklearn.metrics import accuracy_score, f1_score\n",
    "\n",
    "from karateclub import LDP, GL2Vec, Graph2Vec\n",
    "\n",
    "import glob\n",
    "from py2neo import NodeMatcher, Graph, Node, Relationship"
   ]
  },
  {
   "cell_type": "code",
   "execution_count": 3,
   "id": "1ceb8048",
   "metadata": {},
   "outputs": [],
   "source": [
    "graph = Graph(password=\"12345\")\n",
    "\n",
    "def graphdata1(label_n1, value_n1, link, label_n2, value_n2):\n",
    "    node1 = graph.nodes.match(label_n1, name=value_n1).first()\n",
    "    node2 = graph.nodes.match(label_n2, name=value_n2).first()\n",
    "    if not node1:\n",
    "        node1 = Node(label_n1, name=value_n1)\n",
    "    if not node2:\n",
    "        node2 = Node(label_n2, name=value_n2)\n",
    "    newnodelink = Relationship(node1, link, node2)\n",
    "    graph.create(newnodelink)\n",
    "    \n",
    "def getgraphsample(filename):\n",
    "    df = pd.read_csv(filename)\n",
    "    \n",
    "    for index, row in df.iterrows():\n",
    "        graphdata1(row['u_label'], row['u_value'], row['link'], row['v_label'], row['v_value'])\n",
    "    \n",
    "    G = nx.Graph()\n",
    "    \n",
    "    cquery = \"\"\"\n",
    "    MATCH (u)-[r]->(v) \n",
    "    RETURN u.name as u_name, type(r) as link, v.name as v_name\n",
    "    \"\"\"\n",
    "    getalllinks = graph.run(cquery).to_data_frame()\n",
    "    node1 = pd.factorize( getalllinks['u_name'] )[0]\n",
    "    node2 = pd.factorize( getalllinks['v_name'] )[0]\n",
    "    \n",
    "    for u, v in zip(node1, node2):\n",
    "        G.add_node(u, feature = getalllinks['u_name'])\n",
    "        G.add_node(v, feature = getalllinks['v_name'])\n",
    "        G.add_edge(u, v, featuree = getalllinks['link'])\n",
    "        \n",
    "    return G"
   ]
  },
  {
   "cell_type": "code",
   "execution_count": 4,
   "id": "83cfff8c",
   "metadata": {},
   "outputs": [],
   "source": [
    "X_train = []\n",
    "y_train = []\n",
    "\n",
    "for file in glob.glob(\"data/*.csv\"):\n",
    "    graph.delete_all()\n",
    "    X_train.append(getgraphsample(file))\n",
    "    y_train.append(file.split('_')[2])\n",
    "    \n",
    "y_train = pd.factorize(y_train)[0]"
   ]
  },
  {
   "cell_type": "code",
   "execution_count": 5,
   "id": "7687fcd1",
   "metadata": {},
   "outputs": [
    {
     "data": {
      "text/plain": [
       "[<networkx.classes.graph.Graph at 0x22f502aa488>,\n",
       " <networkx.classes.graph.Graph at 0x22f02acd608>,\n",
       " <networkx.classes.graph.Graph at 0x22f502aac88>,\n",
       " <networkx.classes.graph.Graph at 0x22f04c6c888>,\n",
       " <networkx.classes.graph.Graph at 0x22f02af07c8>,\n",
       " <networkx.classes.graph.Graph at 0x22f04c91748>,\n",
       " <networkx.classes.graph.Graph at 0x22f02ae33c8>,\n",
       " <networkx.classes.graph.Graph at 0x22f04c88688>,\n",
       " <networkx.classes.graph.Graph at 0x22f04c9a6c8>]"
      ]
     },
     "execution_count": 5,
     "metadata": {},
     "output_type": "execute_result"
    }
   ],
   "source": [
    "X_train"
   ]
  },
  {
   "cell_type": "code",
   "execution_count": 531,
   "id": "e9517c4f",
   "metadata": {},
   "outputs": [
    {
     "data": {
      "image/png": "[encoded data removed]",
      "text/plain": [
       "<Figure size 432x288 with 1 Axes>"
      ]
     },
     "metadata": {},
     "output_type": "display_data"
    }
   ],
   "source": [
    "nx.draw(graphdata[1])"
   ]
  },
  {
   "cell_type": "code",
   "execution_count": 9,
   "id": "fd8c8e20",
   "metadata": {},
   "outputs": [],
   "source": [
    "def kmeans(dim, epo):\n",
    "    model = Graph2Vec(dimensions=dim, epochs=epo)\n",
    "    model.fit(X_train)\n",
    "    X_embedding = model.get_embedding()\n",
    "\n",
    "    initkmeans = KMeans(n_clusters=3, random_state=47)\n",
    "    y_pred = initkmeans.fit_predict(X_embedding)\n",
    "    f1score = f1_score(y_train, y_pred, average='micro')\n",
    "    print(y_train, y_pred)\n",
    "    return f1score"
   ]
  },
  {
   "cell_type": "code",
   "execution_count": 10,
   "id": "0bb50980",
   "metadata": {},
   "outputs": [
    {
     "name": "stdout",
     "output_type": "stream",
     "text": [
      "[0 0 0 0 1 1 1 1 2] [2 2 0 1 1 2 0 2 0]\n",
      "0.2222222222222222\n"
     ]
    },
    {
     "name": "stderr",
     "output_type": "stream",
     "text": [
      "c:\\users\\16sic\\appdata\\local\\programs\\python\\python37\\lib\\site-packages\\gensim\\models\\doc2vec.py:315: UserWarning: The parameter `iter` is deprecated, will be removed in 4.0.0, use `epochs` instead.\n",
      "  warnings.warn(\"The parameter `iter` is deprecated, will be removed in 4.0.0, use `epochs` instead.\")\n"
     ]
    }
   ],
   "source": [
    "print(kmeans(50,100))"
   ]
  },
  {
   "cell_type": "code",
   "execution_count": null,
   "id": "3d5afd7c",
   "metadata": {},
   "outputs": [],
   "source": []
  }
 ],
 "metadata": {
  "kernelspec": {
   "display_name": "Python 3",
   "language": "python",
   "name": "python3"
  },
  "language_info": {
   "codemirror_mode": {
    "name": "ipython",
    "version": 3
   },
   "file_extension": ".py",
   "mimetype": "text/x-python",
   "name": "python",
   "nbconvert_exporter": "python",
   "pygments_lexer": "ipython3",
   "version": "3.7.6"
  }
 },
 "nbformat": 4,
 "nbformat_minor": 5
}
