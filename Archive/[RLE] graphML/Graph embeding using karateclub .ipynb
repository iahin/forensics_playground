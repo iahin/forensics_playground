{
 "cells": [
  {
   "cell_type": "code",
   "execution_count": 1,
   "metadata": {},
   "outputs": [],
   "source": [
    "from karateclub.dataset import GraphSetReader\n",
    "from karateclub import DeepWalk\n",
    "import numpy as np\n",
    "from sklearn.model_selection import train_test_split\n",
    "import random\n",
    "\n",
    "import networkx as nx\n",
    "from pyvis.network import Network\n",
    "\n",
    "from tqdm import tqdm\n",
    "\n",
    "from torch_geometric.data import Data\n",
    "import torch"
   ]
  },
  {
   "cell_type": "code",
   "execution_count": 2,
   "metadata": {},
   "outputs": [],
   "source": [
    "reader = GraphSetReader(\"reddit10k\")\n",
    "\n",
    "graphs = reader.get_graphs()[:250]\n",
    "Y_label = reader.get_target()[:250]\n"
   ]
  },
  {
   "cell_type": "code",
   "execution_count": 7,
   "metadata": {},
   "outputs": [
    {
     "data": {
      "text/plain": [
       "NodeView((0, 2, 1, 5, 4, 6, 7, 8, 9, 10, 3))"
      ]
     },
     "execution_count": 7,
     "metadata": {},
     "output_type": "execute_result"
    }
   ],
   "source": [
    "something = graphs[0]\n",
    "something.nodes"
   ]
  },
  {
   "cell_type": "code",
   "execution_count": 308,
   "metadata": {},
   "outputs": [
    {
     "name": "stderr",
     "output_type": "stream",
     "text": [
      "100%|████████████████████| 250/250 [00:10<00:00, 23.16it/s]\n"
     ]
    }
   ],
   "source": [
    "X_embedlist = []\n",
    "for item in tqdm(graphs):\n",
    "    model = DeepWalk(dimensions=128, walk_length=5, walk_number=80, window_size=5, workers=4)\n",
    "    model.fit(item)\n",
    "    X_embedding = model.get_embedding()\n",
    "    X_embedlist.append(X_embedding)"
   ]
  },
  {
   "cell_type": "code",
   "execution_count": 309,
   "metadata": {},
   "outputs": [],
   "source": [
    "X_train, X_test, y_train, y_test, graph_train, graph_test = train_test_split(X_embedlist, Y_label, graphs, test_size=0.2, random_state=42)"
   ]
  },
  {
   "cell_type": "code",
   "execution_count": 310,
   "metadata": {
    "scrolled": true
   },
   "outputs": [],
   "source": [
    "def dataloading(embedlist, label, graphs):\n",
    "    datalist = []\n",
    "\n",
    "    for item in zip(embedlist, label, graphs):\n",
    "        item_X = torch.tensor(item[0], dtype=torch.float)\n",
    "        item_Y = torch.tensor(item[1])\n",
    "        edgeindex = torch.tensor(np.array(item[2].edges).T, dtype=torch.long)\n",
    "        datalist.append(Data(x=item_X, y=item_Y, edge_index=edgeindex))\n",
    "    return datalist\n",
    "\n",
    "train_data = dataloading(X_train, y_train, graph_train)\n",
    "test_data = dataloading(X_test, y_test, graph_test)"
   ]
  },
  {
   "cell_type": "code",
   "execution_count": 311,
   "metadata": {},
   "outputs": [],
   "source": [
    "from torch_geometric.data import DataLoader\n",
    "train_loader = DataLoader(train_data, batch_size=64, shuffle=True)\n",
    "test_loader = DataLoader(test_data, batch_size=64, shuffle=True)"
   ]
  },
  {
   "cell_type": "code",
   "execution_count": 312,
   "metadata": {},
   "outputs": [],
   "source": [
    "from torch.nn import Linear\n",
    "import torch.nn.functional as F\n",
    "from torch_geometric.nn import GCNConv\n",
    "from torch_geometric.nn import global_mean_pool\n",
    "\n",
    "\n",
    "class GCN(torch.nn.Module):\n",
    "    def __init__(self, num_node_features, num_classes, hidden_channels):\n",
    "        super(GCN, self).__init__()\n",
    "        torch.manual_seed(12345)\n",
    "        self.conv1 = GCNConv(num_node_features, hidden_channels)\n",
    "        self.conv2 = GCNConv(hidden_channels, hidden_channels)\n",
    "        self.conv3 = GCNConv(hidden_channels, hidden_channels)\n",
    "        self.lin = Linear(hidden_channels, num_classes)\n",
    "\n",
    "    def forward(self, x, edge_index, batch):\n",
    "        # 1. Obtain node embeddings \n",
    "        x = self.conv1(x, edge_index)\n",
    "        x = x.relu()\n",
    "        x = self.conv2(x, edge_index)\n",
    "        x = x.relu()\n",
    "        x = self.conv3(x, edge_index)\n",
    "\n",
    "        # 2. Readout layer\n",
    "        x = global_mean_pool(x, batch)  # [batch_size, hidden_channels]\n",
    "\n",
    "        # 3. Apply a final classifier\n",
    "        x = F.dropout(x, p=0.5, training=self.training)\n",
    "        x = self.lin(x)\n",
    "        \n",
    "        return x\n"
   ]
  },
  {
   "cell_type": "code",
   "execution_count": 313,
   "metadata": {},
   "outputs": [
    {
     "name": "stdout",
     "output_type": "stream",
     "text": [
      "GCN(\n",
      "  (conv1): GCNConv(128, 64)\n",
      "  (conv2): GCNConv(64, 64)\n",
      "  (conv3): GCNConv(64, 64)\n",
      "  (lin): Linear(in_features=64, out_features=2, bias=True)\n",
      ")\n"
     ]
    }
   ],
   "source": [
    "num_class = len(set(Y_label))\n",
    "node_dim = X_train[0].shape[1]\n",
    "model = GCN(node_dim, num_class, hidden_channels=64)\n",
    "print(model)"
   ]
  },
  {
   "cell_type": "code",
   "execution_count": 314,
   "metadata": {
    "scrolled": true
   },
   "outputs": [
    {
     "name": "stdout",
     "output_type": "stream",
     "text": [
      "Epoch: 001, Train Acc: 0.6350, Test Acc: 0.6800\n",
      "Epoch: 002, Train Acc: 0.6550, Test Acc: 0.6600\n",
      "Epoch: 003, Train Acc: 0.6550, Test Acc: 0.6600\n",
      "Epoch: 004, Train Acc: 0.6700, Test Acc: 0.6600\n",
      "Epoch: 005, Train Acc: 0.6650, Test Acc: 0.6800\n",
      "Epoch: 006, Train Acc: 0.6800, Test Acc: 0.7000\n",
      "Epoch: 007, Train Acc: 0.6950, Test Acc: 0.6400\n",
      "Epoch: 008, Train Acc: 0.7000, Test Acc: 0.7000\n",
      "Epoch: 009, Train Acc: 0.7150, Test Acc: 0.6400\n",
      "Epoch: 010, Train Acc: 0.7300, Test Acc: 0.7000\n",
      "Epoch: 011, Train Acc: 0.7100, Test Acc: 0.6800\n",
      "Epoch: 012, Train Acc: 0.7000, Test Acc: 0.6200\n",
      "Epoch: 013, Train Acc: 0.7000, Test Acc: 0.7200\n",
      "Epoch: 014, Train Acc: 0.7050, Test Acc: 0.7200\n",
      "Epoch: 015, Train Acc: 0.7300, Test Acc: 0.6200\n",
      "Epoch: 016, Train Acc: 0.7250, Test Acc: 0.6600\n",
      "Epoch: 017, Train Acc: 0.7200, Test Acc: 0.7000\n",
      "Epoch: 018, Train Acc: 0.7400, Test Acc: 0.6800\n",
      "Epoch: 019, Train Acc: 0.7500, Test Acc: 0.6000\n",
      "Epoch: 020, Train Acc: 0.7550, Test Acc: 0.5400\n",
      "Epoch: 021, Train Acc: 0.7350, Test Acc: 0.6200\n",
      "Epoch: 022, Train Acc: 0.7450, Test Acc: 0.7200\n",
      "Epoch: 023, Train Acc: 0.7550, Test Acc: 0.7200\n",
      "Epoch: 024, Train Acc: 0.7900, Test Acc: 0.6800\n",
      "Epoch: 025, Train Acc: 0.7600, Test Acc: 0.5400\n",
      "Epoch: 026, Train Acc: 0.7800, Test Acc: 0.6600\n",
      "Epoch: 027, Train Acc: 0.6850, Test Acc: 0.5000\n",
      "Epoch: 028, Train Acc: 0.7450, Test Acc: 0.6000\n",
      "Epoch: 029, Train Acc: 0.7700, Test Acc: 0.6800\n",
      "Epoch: 030, Train Acc: 0.6950, Test Acc: 0.5200\n",
      "Epoch: 031, Train Acc: 0.7950, Test Acc: 0.6800\n",
      "Epoch: 032, Train Acc: 0.7800, Test Acc: 0.7200\n",
      "Epoch: 033, Train Acc: 0.7650, Test Acc: 0.5600\n",
      "Epoch: 034, Train Acc: 0.8200, Test Acc: 0.6400\n",
      "Epoch: 035, Train Acc: 0.8100, Test Acc: 0.6800\n",
      "Epoch: 036, Train Acc: 0.7900, Test Acc: 0.5600\n",
      "Epoch: 037, Train Acc: 0.8050, Test Acc: 0.6800\n",
      "Epoch: 038, Train Acc: 0.8200, Test Acc: 0.6800\n",
      "Epoch: 039, Train Acc: 0.8300, Test Acc: 0.6400\n",
      "Epoch: 040, Train Acc: 0.7650, Test Acc: 0.7000\n",
      "Epoch: 041, Train Acc: 0.7650, Test Acc: 0.7000\n",
      "Epoch: 042, Train Acc: 0.7950, Test Acc: 0.7200\n",
      "Epoch: 043, Train Acc: 0.8250, Test Acc: 0.6800\n",
      "Epoch: 044, Train Acc: 0.8100, Test Acc: 0.7200\n",
      "Epoch: 045, Train Acc: 0.8200, Test Acc: 0.6800\n",
      "Epoch: 046, Train Acc: 0.8450, Test Acc: 0.6000\n",
      "Epoch: 047, Train Acc: 0.8200, Test Acc: 0.6800\n",
      "Epoch: 048, Train Acc: 0.8200, Test Acc: 0.6800\n",
      "Epoch: 049, Train Acc: 0.8250, Test Acc: 0.6200\n",
      "Epoch: 050, Train Acc: 0.8200, Test Acc: 0.6600\n",
      "Epoch: 051, Train Acc: 0.8000, Test Acc: 0.6600\n",
      "Epoch: 052, Train Acc: 0.8250, Test Acc: 0.6800\n",
      "Epoch: 053, Train Acc: 0.7900, Test Acc: 0.6000\n",
      "Epoch: 054, Train Acc: 0.8150, Test Acc: 0.6200\n",
      "Epoch: 055, Train Acc: 0.8300, Test Acc: 0.6200\n",
      "Epoch: 056, Train Acc: 0.8250, Test Acc: 0.6400\n",
      "Epoch: 057, Train Acc: 0.8350, Test Acc: 0.6200\n",
      "Epoch: 058, Train Acc: 0.8000, Test Acc: 0.6200\n",
      "Epoch: 059, Train Acc: 0.8300, Test Acc: 0.6800\n",
      "Epoch: 060, Train Acc: 0.8550, Test Acc: 0.6600\n",
      "Epoch: 061, Train Acc: 0.8500, Test Acc: 0.6800\n",
      "Epoch: 062, Train Acc: 0.8500, Test Acc: 0.6600\n",
      "Epoch: 063, Train Acc: 0.8400, Test Acc: 0.6600\n",
      "Epoch: 064, Train Acc: 0.8600, Test Acc: 0.7200\n",
      "Epoch: 065, Train Acc: 0.7950, Test Acc: 0.7200\n",
      "Epoch: 066, Train Acc: 0.8150, Test Acc: 0.7200\n",
      "Epoch: 067, Train Acc: 0.8100, Test Acc: 0.7000\n",
      "Epoch: 068, Train Acc: 0.8350, Test Acc: 0.7000\n",
      "Epoch: 069, Train Acc: 0.8550, Test Acc: 0.7000\n",
      "Epoch: 070, Train Acc: 0.8600, Test Acc: 0.6600\n",
      "Epoch: 071, Train Acc: 0.8500, Test Acc: 0.6200\n",
      "Epoch: 072, Train Acc: 0.8600, Test Acc: 0.6600\n",
      "Epoch: 073, Train Acc: 0.8650, Test Acc: 0.6800\n",
      "Epoch: 074, Train Acc: 0.8550, Test Acc: 0.6800\n",
      "Epoch: 075, Train Acc: 0.8450, Test Acc: 0.6600\n",
      "Epoch: 076, Train Acc: 0.8400, Test Acc: 0.6400\n",
      "Epoch: 077, Train Acc: 0.8750, Test Acc: 0.6200\n",
      "Epoch: 078, Train Acc: 0.8750, Test Acc: 0.7000\n",
      "Epoch: 079, Train Acc: 0.8650, Test Acc: 0.6600\n",
      "Epoch: 080, Train Acc: 0.8800, Test Acc: 0.6400\n",
      "Epoch: 081, Train Acc: 0.8800, Test Acc: 0.6800\n",
      "Epoch: 082, Train Acc: 0.8500, Test Acc: 0.7000\n",
      "Epoch: 083, Train Acc: 0.8500, Test Acc: 0.6600\n",
      "Epoch: 084, Train Acc: 0.8900, Test Acc: 0.6600\n",
      "Epoch: 085, Train Acc: 0.8600, Test Acc: 0.6600\n",
      "Epoch: 086, Train Acc: 0.8150, Test Acc: 0.6600\n",
      "Epoch: 087, Train Acc: 0.8200, Test Acc: 0.7000\n",
      "Epoch: 088, Train Acc: 0.8650, Test Acc: 0.7000\n",
      "Epoch: 089, Train Acc: 0.8700, Test Acc: 0.6800\n",
      "Epoch: 090, Train Acc: 0.8900, Test Acc: 0.6600\n",
      "Epoch: 091, Train Acc: 0.8650, Test Acc: 0.6200\n",
      "Epoch: 092, Train Acc: 0.8800, Test Acc: 0.6200\n",
      "Epoch: 093, Train Acc: 0.8550, Test Acc: 0.7000\n",
      "Epoch: 094, Train Acc: 0.8800, Test Acc: 0.6400\n",
      "Epoch: 095, Train Acc: 0.8400, Test Acc: 0.6800\n",
      "Epoch: 096, Train Acc: 0.8800, Test Acc: 0.7200\n",
      "Epoch: 097, Train Acc: 0.8850, Test Acc: 0.6400\n",
      "Epoch: 098, Train Acc: 0.8000, Test Acc: 0.7000\n",
      "Epoch: 099, Train Acc: 0.8500, Test Acc: 0.6800\n",
      "Epoch: 100, Train Acc: 0.8550, Test Acc: 0.7200\n",
      "Epoch: 101, Train Acc: 0.8650, Test Acc: 0.7000\n",
      "Epoch: 102, Train Acc: 0.8850, Test Acc: 0.7200\n",
      "Epoch: 103, Train Acc: 0.8900, Test Acc: 0.7000\n",
      "Epoch: 104, Train Acc: 0.8750, Test Acc: 0.7000\n",
      "Epoch: 105, Train Acc: 0.8800, Test Acc: 0.7000\n",
      "Epoch: 106, Train Acc: 0.8800, Test Acc: 0.6600\n",
      "Epoch: 107, Train Acc: 0.8900, Test Acc: 0.7400\n",
      "Epoch: 108, Train Acc: 0.8350, Test Acc: 0.7600\n",
      "Epoch: 109, Train Acc: 0.7950, Test Acc: 0.6000\n",
      "Epoch: 110, Train Acc: 0.7850, Test Acc: 0.7000\n",
      "Epoch: 111, Train Acc: 0.7800, Test Acc: 0.6400\n",
      "Epoch: 112, Train Acc: 0.7450, Test Acc: 0.6000\n",
      "Epoch: 113, Train Acc: 0.8100, Test Acc: 0.7000\n",
      "Epoch: 114, Train Acc: 0.8250, Test Acc: 0.7200\n",
      "Epoch: 115, Train Acc: 0.8650, Test Acc: 0.7200\n",
      "Epoch: 116, Train Acc: 0.8650, Test Acc: 0.7000\n",
      "Epoch: 117, Train Acc: 0.8700, Test Acc: 0.6200\n",
      "Epoch: 118, Train Acc: 0.8600, Test Acc: 0.6200\n",
      "Epoch: 119, Train Acc: 0.8650, Test Acc: 0.6200\n",
      "Epoch: 120, Train Acc: 0.8750, Test Acc: 0.6600\n",
      "Epoch: 121, Train Acc: 0.8300, Test Acc: 0.6200\n",
      "Epoch: 122, Train Acc: 0.8750, Test Acc: 0.6600\n",
      "Epoch: 123, Train Acc: 0.8800, Test Acc: 0.6400\n",
      "Epoch: 124, Train Acc: 0.8850, Test Acc: 0.6400\n",
      "Epoch: 125, Train Acc: 0.9000, Test Acc: 0.6400\n",
      "Epoch: 126, Train Acc: 0.8650, Test Acc: 0.6000\n",
      "Epoch: 127, Train Acc: 0.8400, Test Acc: 0.6000\n",
      "Epoch: 128, Train Acc: 0.8850, Test Acc: 0.5800\n",
      "Epoch: 129, Train Acc: 0.9000, Test Acc: 0.6400\n",
      "Epoch: 130, Train Acc: 0.8900, Test Acc: 0.6200\n",
      "Epoch: 131, Train Acc: 0.8850, Test Acc: 0.6400\n",
      "Epoch: 132, Train Acc: 0.8900, Test Acc: 0.6600\n",
      "Epoch: 133, Train Acc: 0.8850, Test Acc: 0.6400\n",
      "Epoch: 134, Train Acc: 0.8800, Test Acc: 0.6400\n",
      "Epoch: 135, Train Acc: 0.8950, Test Acc: 0.6400\n",
      "Epoch: 136, Train Acc: 0.8800, Test Acc: 0.6600\n",
      "Epoch: 137, Train Acc: 0.8950, Test Acc: 0.6800\n",
      "Epoch: 138, Train Acc: 0.9000, Test Acc: 0.6400\n",
      "Epoch: 139, Train Acc: 0.8750, Test Acc: 0.6200\n",
      "Epoch: 140, Train Acc: 0.8850, Test Acc: 0.6600\n",
      "Epoch: 141, Train Acc: 0.9050, Test Acc: 0.6800\n",
      "Epoch: 142, Train Acc: 0.8850, Test Acc: 0.6400\n",
      "Epoch: 143, Train Acc: 0.8900, Test Acc: 0.6200\n",
      "Epoch: 144, Train Acc: 0.8400, Test Acc: 0.6400\n",
      "Epoch: 145, Train Acc: 0.8400, Test Acc: 0.7400\n",
      "Epoch: 146, Train Acc: 0.8750, Test Acc: 0.6600\n",
      "Epoch: 147, Train Acc: 0.8650, Test Acc: 0.6200\n",
      "Epoch: 148, Train Acc: 0.8850, Test Acc: 0.6800\n",
      "Epoch: 149, Train Acc: 0.8950, Test Acc: 0.7000\n",
      "Epoch: 150, Train Acc: 0.9100, Test Acc: 0.6600\n",
      "Epoch: 151, Train Acc: 0.8850, Test Acc: 0.6600\n",
      "Epoch: 152, Train Acc: 0.9150, Test Acc: 0.6800\n",
      "Epoch: 153, Train Acc: 0.8900, Test Acc: 0.6200\n",
      "Epoch: 154, Train Acc: 0.8850, Test Acc: 0.6400\n",
      "Epoch: 155, Train Acc: 0.8800, Test Acc: 0.6600\n",
      "Epoch: 156, Train Acc: 0.8750, Test Acc: 0.6800\n",
      "Epoch: 157, Train Acc: 0.8950, Test Acc: 0.6600\n",
      "Epoch: 158, Train Acc: 0.8850, Test Acc: 0.7000\n",
      "Epoch: 159, Train Acc: 0.9000, Test Acc: 0.6800\n",
      "Epoch: 160, Train Acc: 0.8850, Test Acc: 0.6800\n",
      "Epoch: 161, Train Acc: 0.9100, Test Acc: 0.7000\n",
      "Epoch: 162, Train Acc: 0.8900, Test Acc: 0.6800\n",
      "Epoch: 163, Train Acc: 0.9000, Test Acc: 0.7000\n",
      "Epoch: 164, Train Acc: 0.9100, Test Acc: 0.7000\n",
      "Epoch: 165, Train Acc: 0.8700, Test Acc: 0.6800\n",
      "Epoch: 166, Train Acc: 0.9050, Test Acc: 0.6800\n",
      "Epoch: 167, Train Acc: 0.8950, Test Acc: 0.7000\n",
      "Epoch: 168, Train Acc: 0.9050, Test Acc: 0.7000\n",
      "Epoch: 169, Train Acc: 0.9200, Test Acc: 0.7000\n",
      "Epoch: 170, Train Acc: 0.9200, Test Acc: 0.7200\n",
      "Epoch: 171, Train Acc: 0.9200, Test Acc: 0.7200\n"
     ]
    },
    {
     "name": "stdout",
     "output_type": "stream",
     "text": [
      "Epoch: 172, Train Acc: 0.9050, Test Acc: 0.7000\n",
      "Epoch: 173, Train Acc: 0.8550, Test Acc: 0.6800\n",
      "Epoch: 174, Train Acc: 0.9100, Test Acc: 0.7000\n",
      "Epoch: 175, Train Acc: 0.9200, Test Acc: 0.6800\n",
      "Epoch: 176, Train Acc: 0.9100, Test Acc: 0.7200\n",
      "Epoch: 177, Train Acc: 0.8400, Test Acc: 0.6400\n",
      "Epoch: 178, Train Acc: 0.8650, Test Acc: 0.6600\n",
      "Epoch: 179, Train Acc: 0.8900, Test Acc: 0.7200\n",
      "Epoch: 180, Train Acc: 0.8700, Test Acc: 0.6600\n",
      "Epoch: 181, Train Acc: 0.8850, Test Acc: 0.6600\n",
      "Epoch: 182, Train Acc: 0.8850, Test Acc: 0.6600\n",
      "Epoch: 183, Train Acc: 0.9050, Test Acc: 0.6400\n",
      "Epoch: 184, Train Acc: 0.9150, Test Acc: 0.7200\n",
      "Epoch: 185, Train Acc: 0.8850, Test Acc: 0.6600\n",
      "Epoch: 186, Train Acc: 0.9050, Test Acc: 0.7200\n",
      "Epoch: 187, Train Acc: 0.9100, Test Acc: 0.7200\n",
      "Epoch: 188, Train Acc: 0.9000, Test Acc: 0.6600\n",
      "Epoch: 189, Train Acc: 0.9000, Test Acc: 0.7200\n",
      "Epoch: 190, Train Acc: 0.9000, Test Acc: 0.7200\n",
      "Epoch: 191, Train Acc: 0.9100, Test Acc: 0.7200\n",
      "Epoch: 192, Train Acc: 0.9150, Test Acc: 0.7000\n",
      "Epoch: 193, Train Acc: 0.9100, Test Acc: 0.7200\n",
      "Epoch: 194, Train Acc: 0.9150, Test Acc: 0.7200\n",
      "Epoch: 195, Train Acc: 0.9050, Test Acc: 0.7000\n",
      "Epoch: 196, Train Acc: 0.8950, Test Acc: 0.7200\n",
      "Epoch: 197, Train Acc: 0.9100, Test Acc: 0.7000\n",
      "Epoch: 198, Train Acc: 0.9000, Test Acc: 0.7200\n",
      "Epoch: 199, Train Acc: 0.9300, Test Acc: 0.7200\n",
      "Epoch: 200, Train Acc: 0.8800, Test Acc: 0.6600\n"
     ]
    }
   ],
   "source": [
    "model = GCN(node_dim, num_class, hidden_channels=64)\n",
    "optimizer = torch.optim.Adam(model.parameters(), lr=0.01)\n",
    "criterion = torch.nn.CrossEntropyLoss()\n",
    "\n",
    "def train(train_loader):\n",
    "    model.train()\n",
    "\n",
    "    for data in train_loader:  # Iterate in batches over the training dataset.\n",
    "         out = model(data.x, data.edge_index, data.batch)  # Perform a single forward pass.\n",
    "         loss = criterion(out, data.y)  # Compute the loss.\n",
    "         loss.backward()  # Derive gradients.\n",
    "         optimizer.step()  # Update parameters based on gradients.\n",
    "         optimizer.zero_grad()  # Clear gradients.\n",
    "\n",
    "def test(test_loader):\n",
    "     model.eval()\n",
    "\n",
    "     correct = 0\n",
    "     for data in test_loader:  # Iterate in batches over the training/test dataset.\n",
    "         out = model(data.x, data.edge_index, data.batch)  \n",
    "         pred = out.argmax(dim=1)  # Use the class with highest probability.\n",
    "         correct += int((pred == data.y).sum())  # Check against ground-truth labels.\n",
    "     return correct / len(test_loader.dataset)  # Derive ratio of correct predictions.\n",
    "\n",
    "\n",
    "for epoch in range(1, 201):\n",
    "    train(train_loader)\n",
    "    train_acc = test(train_loader)\n",
    "    test_acc = test(test_loader)\n",
    "    print(f'Epoch: {epoch:03d}, Train Acc: {train_acc:.4f}, Test Acc: {test_acc:.4f}')"
   ]
  },
  {
   "cell_type": "code",
   "execution_count": 316,
   "metadata": {},
   "outputs": [
    {
     "data": {
      "text/plain": [
       "0"
      ]
     },
     "execution_count": 316,
     "metadata": {},
     "output_type": "execute_result"
    }
   ],
   "source": [
    "indexnum =45\n",
    "model.eval()\n",
    "out = model(train_data[indexnum].x, train_data[indexnum].edge_index, torch.tensor([0]))  \n",
    "pred = out.argmax(dim=1)\n",
    "pred = int(pred)\n",
    "pred"
   ]
  }
 ],
 "metadata": {
  "kernelspec": {
   "display_name": "Python 3",
   "language": "python",
   "name": "python3"
  },
  "language_info": {
   "codemirror_mode": {
    "name": "ipython",
    "version": 3
   },
   "file_extension": ".py",
   "mimetype": "text/x-python",
   "name": "python",
   "nbconvert_exporter": "python",
   "pygments_lexer": "ipython3",
   "version": "3.7.6"
  }
 },
 "nbformat": 4,
 "nbformat_minor": 4
}
