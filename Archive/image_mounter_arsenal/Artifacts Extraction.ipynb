{
 "cells": [
  {
   "cell_type": "code",
   "execution_count": 1,
   "id": "41e3150e",
   "metadata": {},
   "outputs": [],
   "source": [
    "import os\n",
    "import psutil\n",
    "import subprocess\n",
    "from pathlib import Path\n",
    "import shutil"
   ]
  },
  {
   "cell_type": "code",
   "execution_count": 2,
   "id": "e217bf86",
   "metadata": {},
   "outputs": [],
   "source": [
    "def mountimage(imagepath):\n",
    "    arsenalmount = r\".\\tools\\Arsenal-Image-Mounter\\aim_cli.exe\"\n",
    "    cmd = r\"{mounter} /mount /filename={imagepath}\".format(\n",
    "        mounter=arsenalmount, imagepath=imagepath)\n",
    "    print(cmd)\n",
    "    run_cmd = subprocess.Popen(cmd, close_fds=True)\n",
    "    return run_cmd\n",
    "\n",
    "def getmountpoint():\n",
    "    getdisks = psutil.disk_partitions()\n",
    "    mountpoint = getdisks[-1].mountpoint\n",
    "    return mountpoint"
   ]
  },
  {
   "cell_type": "code",
   "execution_count": 3,
   "id": "fcc26604",
   "metadata": {},
   "outputs": [
    {
     "name": "stdout",
     "output_type": "stream",
     "text": [
      ".\\tools\\Arsenal-Image-Mounter\\aim_cli.exe /mount /filename=.\\Slade-B1-hda.img\n"
     ]
    },
    {
     "data": {
      "text/plain": [
       "<subprocess.Popen at 0x1b0218e5ec8>"
      ]
     },
     "execution_count": 3,
     "metadata": {},
     "output_type": "execute_result"
    }
   ],
   "source": [
    "imagepath = r\".\\Slade-B1-hda.img\"\n",
    "mountimage(imagepath)"
   ]
  },
  {
   "cell_type": "code",
   "execution_count": 4,
   "id": "eeabecd8",
   "metadata": {},
   "outputs": [],
   "source": [
    "mount_point = getmountpoint()\n",
    "mount_point = Path(mount_point)\n",
    "evtx_root = Path(\"Windows/System32/winevt/Logs\")\n",
    "evtx_files = [\"Application.evtx\", \"Security.evtx\", \"System.evtx\", \"Windows PowerShell.evtx\"]\n",
    "\n",
    "target_dir = Path('extracted')"
   ]
  },
  {
   "cell_type": "code",
   "execution_count": 5,
   "id": "145fccfc",
   "metadata": {},
   "outputs": [
    {
     "name": "stdout",
     "output_type": "stream",
     "text": [
      "E:\\Windows\\System32\\winevt\\Logs\\Application.evtx\n",
      "E:\\Windows\\System32\\winevt\\Logs\\Security.evtx\n",
      "E:\\Windows\\System32\\winevt\\Logs\\System.evtx\n",
      "E:\\Windows\\System32\\winevt\\Logs\\Windows PowerShell.evtx\n"
     ]
    }
   ],
   "source": [
    "for file in evtx_files:\n",
    "    sourcefile = Path.joinpath(mount_point, evtx_root, file)\n",
    "    print(sourcefile)\n",
    "    shutil.copy(str(sourcefile), str(target_dir))"
   ]
  },
  {
   "cell_type": "code",
   "execution_count": null,
   "id": "a044ce6d",
   "metadata": {},
   "outputs": [],
   "source": []
  }
 ],
 "metadata": {
  "kernelspec": {
   "display_name": "Python 3",
   "language": "python",
   "name": "python3"
  },
  "language_info": {
   "codemirror_mode": {
    "name": "ipython",
    "version": 3
   },
   "file_extension": ".py",
   "mimetype": "text/x-python",
   "name": "python",
   "nbconvert_exporter": "python",
   "pygments_lexer": "ipython3",
   "version": "3.7.6"
  }
 },
 "nbformat": 4,
 "nbformat_minor": 5
}
