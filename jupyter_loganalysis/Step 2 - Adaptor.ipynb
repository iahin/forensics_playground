{
 "cells": [
  {
   "cell_type": "code",
   "execution_count": 1,
   "metadata": {},
   "outputs": [],
   "source": [
    "# Data structs, format and parsing\n",
    "import json\n",
    "from nested_lookup import nested_lookup, get_all_keys\n",
    "\n",
    "# Graph Data\n",
    "from py2neo import Graph, Node, Relationship, RelationshipMatch\n",
    "\n",
    "# Others\n",
    "from tqdm import tqdm\n",
    "\n",
    "from beagle.transformers import SysmonTransformer"
   ]
  },
  {
   "cell_type": "code",
   "execution_count": 2,
   "metadata": {
    "scrolled": true
   },
   "outputs": [],
   "source": [
    "outputDir = \".\\\\sample_dataset\\\\output\\\\\"\n",
    "outputfile_json = outputDir + \"preprocessed.json\"\n",
    "\n",
    "with open(outputfile_json) as f:\n",
    "    jsondata = json.load(f)\n"
   ]
  },
  {
   "cell_type": "code",
   "execution_count": 3,
   "metadata": {},
   "outputs": [],
   "source": [
    "\"\"\"Extract nested values from a JSON tree.\"\"\"\n",
    "def json_extract(obj, key):\n",
    "    \"\"\"Recursively fetch values from nested JSON.\"\"\"\n",
    "    arr = []\n",
    "\n",
    "    def extract(obj, arr, key):\n",
    "        \"\"\"Recursively search for values of key in JSON tree.\"\"\"\n",
    "        if isinstance(obj, dict):\n",
    "            for k, v in obj.items():\n",
    "                if isinstance(v, (dict, list)):\n",
    "                    extract(v, arr, key)\n",
    "                elif k == key:\n",
    "                    arr.append(v)\n",
    "        elif isinstance(obj, list):\n",
    "            for item in obj:\n",
    "                extract(item, arr, key)\n",
    "        return arr\n",
    "\n",
    "    values = extract(obj, arr, key)\n",
    "    return values"
   ]
  },
  {
   "cell_type": "code",
   "execution_count": 4,
   "metadata": {},
   "outputs": [
    {
     "data": {
      "text/plain": [
       "{'Event': {'#attributes': {'xmlns': 'http://schemas.microsoft.com/win/2004/08/events/event'},\n",
       "  'EventData': {'Status': '0x0',\n",
       "   'SubjectDomainName': 'HQCORP',\n",
       "   'SubjectLogonId': '0x2f336f',\n",
       "   'SubjectUserName': 'administrator',\n",
       "   'SubjectUserSid': 'S-1-5-21-1913345275-1711810662-261465553-500',\n",
       "   'Workstation': '2016DC'},\n",
       "  'System': {'Channel': 'Security',\n",
       "   'Computer': '2016dc.hqcorp.local',\n",
       "   'Correlation': {'#attributes': {'ActivityID': '3B48C871-DFE6-0000-A5C8-483BE6DFD201'}},\n",
       "   'EventID': 4794,\n",
       "   'EventRecordID': 3139859,\n",
       "   'Execution': {'#attributes': {'ProcessID': 792, 'ThreadID': 1648}},\n",
       "   'Keywords': '0x8020000000000000',\n",
       "   'Level': 0,\n",
       "   'Opcode': 0,\n",
       "   'Provider': {'#attributes': {'Guid': '54849625-5478-4994-A5BA-3E3B0328C30D',\n",
       "     'Name': 'Microsoft-Windows-Security-Auditing'}},\n",
       "   'Security': None,\n",
       "   'Task': 13824,\n",
       "   'TimeCreated': {'#attributes': {'SystemTime': '2017-06-09T19:21:26.968669Z'}},\n",
       "   'Version': 0}}}"
      ]
     },
     "execution_count": 4,
     "metadata": {},
     "output_type": "execute_result"
    }
   ],
   "source": [
    "jsondata[0]"
   ]
  },
  {
   "cell_type": "markdown",
   "metadata": {},
   "source": [
    "# Add to neo4j graph DB"
   ]
  },
  {
   "cell_type": "code",
   "execution_count": 5,
   "metadata": {},
   "outputs": [],
   "source": [
    "# set up authentication parameters\n",
    "graph = Graph(password=\"admin\")"
   ]
  },
  {
   "cell_type": "code",
   "execution_count": 44,
   "metadata": {},
   "outputs": [],
   "source": [
    "# Graph dumps\n",
    "graph.delete_all()"
   ]
  },
  {
   "cell_type": "code",
   "execution_count": 6,
   "metadata": {},
   "outputs": [],
   "source": [
    "def tuplepair(n1_n2_r, dictlist):\n",
    "    triplesList = []\n",
    "    n1 = n1_n2_r[0]\n",
    "    n2 = n1_n2_r[1]\n",
    "    r = n1_n2_r[2]\n",
    "    for ind, records in enumerate(dictlist):\n",
    "        node1 = json_extract(records, n1)\n",
    "        node2 = json_extract(records, n2)\n",
    "        \n",
    "        if node1 and node2:\n",
    "            triplesList.append({\n",
    "                \"node1type\" : n1,\n",
    "                \"node1label\" : str(node1[0]), #to convert to str so can query in str easily and not have to use int in cypher\n",
    "                \"node2type\" : n2,\n",
    "                \"node2label\": str(node2[0]),\n",
    "                \"relationship\": r,\n",
    "                \"logindex\" : ind\n",
    "            })\n",
    "    return triplesList\n",
    "\n",
    "def addRelationship(tripleList):\n",
    "    for dic in tripleList:\n",
    "        tx = graph.begin()\n",
    "        node1 = Node(dic[\"node1type\"], label = dic[\"node1label\"], index = dic[\"logindex\"])\n",
    "        node2 = Node(dic[\"node2type\"], label = dic[\"node2label\"])\n",
    "        newRelationship = Relationship(node1, dic[\"relationship\"], node2)\n",
    "        \n",
    "        tx.merge(newRelationship, dic[\"node1type\"], \"label\")\n",
    "        tx.commit()"
   ]
  },
  {
   "cell_type": "code",
   "execution_count": 7,
   "metadata": {},
   "outputs": [
    {
     "ename": "NameError",
     "evalue": "name 'availablekeys' is not defined",
     "output_type": "error",
     "traceback": [
      "\u001b[1;31m------------------------------------------------------------\u001b[0m",
      "\u001b[1;31mNameError\u001b[0m                  Traceback (most recent call last)",
      "\u001b[1;32m<ipython-input-7-ab44f138c7b2>\u001b[0m in \u001b[0;36m<module>\u001b[1;34m\u001b[0m\n\u001b[1;32m----> 1\u001b[1;33m \u001b[1;32mfor\u001b[0m \u001b[0mitems\u001b[0m \u001b[1;32min\u001b[0m \u001b[0mtqdm\u001b[0m\u001b[1;33m(\u001b[0m\u001b[0mavailablekeys\u001b[0m\u001b[1;33m)\u001b[0m\u001b[1;33m:\u001b[0m\u001b[1;33m\u001b[0m\u001b[1;33m\u001b[0m\u001b[0m\n\u001b[0m\u001b[0;32m      2\u001b[0m     \u001b[0mn1_n2_r\u001b[0m \u001b[1;33m=\u001b[0m \u001b[1;33m(\u001b[0m\u001b[1;34m\"Computer\"\u001b[0m\u001b[1;33m,\u001b[0m\u001b[0mitems\u001b[0m\u001b[1;33m,\u001b[0m \u001b[1;34m\"has\"\u001b[0m\u001b[1;33m)\u001b[0m\u001b[1;33m\u001b[0m\u001b[1;33m\u001b[0m\u001b[0m\n\u001b[0;32m      3\u001b[0m     \u001b[0mtuplelist\u001b[0m \u001b[1;33m=\u001b[0m \u001b[0mtuplepair\u001b[0m\u001b[1;33m(\u001b[0m\u001b[0mn1_n2_r\u001b[0m\u001b[1;33m,\u001b[0m \u001b[0mjsondata\u001b[0m\u001b[1;33m)\u001b[0m\u001b[1;33m\u001b[0m\u001b[1;33m\u001b[0m\u001b[0m\n\u001b[0;32m      4\u001b[0m     \u001b[0maddRelationship\u001b[0m\u001b[1;33m(\u001b[0m\u001b[0mtuplelist\u001b[0m\u001b[1;33m)\u001b[0m\u001b[1;33m\u001b[0m\u001b[1;33m\u001b[0m\u001b[0m\n",
      "\u001b[1;31mNameError\u001b[0m: name 'availablekeys' is not defined"
     ]
    }
   ],
   "source": [
    "for items in tqdm(availablekeys):\n",
    "    n1_n2_r = (\"Computer\",items, \"has\")\n",
    "    tuplelist = tuplepair(n1_n2_r, jsondata)\n",
    "    addRelationship(tuplelist)"
   ]
  },
  {
   "cell_type": "code",
   "execution_count": 10,
   "metadata": {},
   "outputs": [
    {
     "ename": "AttributeError",
     "evalue": "'Transaction' object has no attribute 'merge_one'",
     "output_type": "error",
     "traceback": [
      "\u001b[1;31m------------------------------------------------------------\u001b[0m",
      "\u001b[1;31mAttributeError\u001b[0m             Traceback (most recent call last)",
      "\u001b[1;32m<ipython-input-10-1768ccbbddd3>\u001b[0m in \u001b[0;36m<module>\u001b[1;34m\u001b[0m\n\u001b[0;32m      4\u001b[0m \u001b[0mnewRelationship\u001b[0m \u001b[1;33m=\u001b[0m \u001b[0mRelationship\u001b[0m\u001b[1;33m(\u001b[0m\u001b[0mnode1\u001b[0m\u001b[1;33m,\u001b[0m \u001b[1;34m\"start_process\"\u001b[0m \u001b[1;33m,\u001b[0m \u001b[0mnode2\u001b[0m\u001b[1;33m)\u001b[0m\u001b[1;33m\u001b[0m\u001b[1;33m\u001b[0m\u001b[0m\n\u001b[0;32m      5\u001b[0m \u001b[1;33m\u001b[0m\u001b[0m\n\u001b[1;32m----> 6\u001b[1;33m \u001b[0mtx\u001b[0m\u001b[1;33m.\u001b[0m\u001b[0mmerge_one\u001b[0m\u001b[1;33m(\u001b[0m\u001b[0mnewRelationship\u001b[0m\u001b[1;33m,\u001b[0m \u001b[1;34m\"host\"\u001b[0m\u001b[1;33m,\u001b[0m \u001b[1;34m\"name\"\u001b[0m\u001b[1;33m)\u001b[0m\u001b[1;33m\u001b[0m\u001b[1;33m\u001b[0m\u001b[0m\n\u001b[0m\u001b[0;32m      7\u001b[0m \u001b[0mtx\u001b[0m\u001b[1;33m.\u001b[0m\u001b[0mcommit\u001b[0m\u001b[1;33m(\u001b[0m\u001b[1;33m)\u001b[0m\u001b[1;33m\u001b[0m\u001b[1;33m\u001b[0m\u001b[0m\n",
      "\u001b[1;31mAttributeError\u001b[0m: 'Transaction' object has no attribute 'merge_one'"
     ]
    }
   ],
   "source": [
    "tx = graph.begin()\n",
    "node1 = Node(\"host\", name = \"PC123\")\n",
    "node2 = Node(\"Software\", name = \"Avenger\")\n",
    "newRelationship = Relationship(node1, \"start_process\" , node2)\n",
    "\n",
    "tx.mer(newRelationship, \"host\", \"name\")\n",
    "tx.commit()"
   ]
  },
  {
   "cell_type": "code",
   "execution_count": null,
   "metadata": {},
   "outputs": [],
   "source": []
  }
 ],
 "metadata": {
  "kernelspec": {
   "display_name": "Python 3",
   "language": "python",
   "name": "python3"
  },
  "language_info": {
   "codemirror_mode": {
    "name": "ipython",
    "version": 3
   },
   "file_extension": ".py",
   "mimetype": "text/x-python",
   "name": "python",
   "nbconvert_exporter": "python",
   "pygments_lexer": "ipython3",
   "version": "3.7.9"
  }
 },
 "nbformat": 4,
 "nbformat_minor": 4
}
