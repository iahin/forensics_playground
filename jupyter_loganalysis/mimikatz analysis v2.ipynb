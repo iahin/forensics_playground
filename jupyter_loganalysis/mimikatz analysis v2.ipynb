{
 "cells": [
  {
   "cell_type": "code",
   "execution_count": 1,
   "metadata": {},
   "outputs": [],
   "source": [
    "import json\n",
    "from tqdm import tqdm\n",
    "\n",
    "import pandas\n",
    "import networkx as nx\n",
    "from pyvis.network import Network\n",
    "\n",
    "from operator import itemgetter\n",
    "from datetime import datetime"
   ]
  },
  {
   "cell_type": "code",
   "execution_count": null,
   "metadata": {},
   "outputs": [],
   "source": [
    "filepath = r'C:\\Users\\A101889\\Documents\\GitHub\\SecurityAnalytics\\Playground\\sample_dataset\\mimikatz_logonpasswords_2020-08-07103224.json'\n",
    "\n",
    "with open(filepath) as f:\n",
    "    readfile = f.readlines()\n",
    "    \n",
    "sampledata = json.loads(readfile[0]) \n",
    "sampledata"
   ]
  },
  {
   "cell_type": "code",
   "execution_count": null,
   "metadata": {},
   "outputs": [],
   "source": []
  },
  {
   "cell_type": "code",
   "execution_count": 112,
   "metadata": {},
   "outputs": [],
   "source": [
    "G = nx.DiGraph()"
   ]
  },
  {
   "cell_type": "code",
   "execution_count": 113,
   "metadata": {},
   "outputs": [
    {
     "data": {
      "text/plain": [
       "['AccessList',\n",
       " 'AccessMask',\n",
       " 'AccessReason',\n",
       " 'AccountName',\n",
       " 'AccountType',\n",
       " 'ActivityID',\n",
       " 'Application',\n",
       " 'AuthenticationPackageName',\n",
       " 'CallTrace',\n",
       " 'Category',\n",
       " 'Channel',\n",
       " 'CommandLine',\n",
       " 'Company',\n",
       " 'ContextInfo',\n",
       " 'CurrentDirectory',\n",
       " 'Description',\n",
       " 'DestAddress',\n",
       " 'DestPort',\n",
       " 'DestinationHostname',\n",
       " 'DestinationIp',\n",
       " 'DestinationIsIpv6',\n",
       " 'DestinationPort',\n",
       " 'DestinationPortName',\n",
       " 'Details',\n",
       " 'Device',\n",
       " 'Direction',\n",
       " 'DisabledPrivilegeList',\n",
       " 'Domain',\n",
       " 'ElevatedToken',\n",
       " 'EnabledPrivilegeList',\n",
       " 'EventCountTotal',\n",
       " 'EventID',\n",
       " 'EventIdx',\n",
       " 'EventType',\n",
       " 'EventTypeOrignal',\n",
       " 'ExecutionProcessID',\n",
       " 'FilterRTID',\n",
       " 'GrantedAccess',\n",
       " 'GroupMembership',\n",
       " 'HandleId',\n",
       " 'Hashes',\n",
       " 'Hostname',\n",
       " 'Image',\n",
       " 'ImageLoaded',\n",
       " 'ImpersonationLevel',\n",
       " 'Initiated',\n",
       " 'IntegrityLevel',\n",
       " 'IpAddress',\n",
       " 'IpPort',\n",
       " 'KeyLength',\n",
       " 'Keywords',\n",
       " 'LayerName',\n",
       " 'LayerRTID',\n",
       " 'LmPackageName',\n",
       " 'LogonGuid',\n",
       " 'LogonId',\n",
       " 'LogonProcessName',\n",
       " 'LogonType',\n",
       " 'MandatoryLabel',\n",
       " 'Message',\n",
       " 'NewProcessId',\n",
       " 'NewProcessName',\n",
       " 'NewSd',\n",
       " 'ObjectName',\n",
       " 'ObjectServer',\n",
       " 'ObjectType',\n",
       " 'OldSd',\n",
       " 'Opcode',\n",
       " 'OpcodeValue',\n",
       " 'OriginalFileName',\n",
       " 'ParentCommandLine',\n",
       " 'ParentImage',\n",
       " 'ParentProcessGuid',\n",
       " 'ParentProcessId',\n",
       " 'ParentProcessName',\n",
       " 'Payload',\n",
       " 'PipeName',\n",
       " 'PrivilegeList',\n",
       " 'ProcessGuid',\n",
       " 'ProcessId',\n",
       " 'ProcessName',\n",
       " 'Product',\n",
       " 'Protocol',\n",
       " 'ProviderGuid',\n",
       " 'QueryName',\n",
       " 'QueryResults',\n",
       " 'QueryStatus',\n",
       " 'RecordNumber',\n",
       " 'RelativeTargetName',\n",
       " 'RemoteMachineID',\n",
       " 'RemoteUserID',\n",
       " 'ResourceAttributes',\n",
       " 'RestrictedAdminMode',\n",
       " 'RestrictedSidCount',\n",
       " 'RuleName',\n",
       " 'Service',\n",
       " 'Severity',\n",
       " 'SeverityValue',\n",
       " 'ShareLocalPath',\n",
       " 'ShareName',\n",
       " 'Signature',\n",
       " 'SignatureStatus',\n",
       " 'Signed',\n",
       " 'SourceAddress',\n",
       " 'SourceHandleId',\n",
       " 'SourceHostname',\n",
       " 'SourceImage',\n",
       " 'SourceIp',\n",
       " 'SourceIsIpv6',\n",
       " 'SourceModuleName',\n",
       " 'SourceModuleType',\n",
       " 'SourceName',\n",
       " 'SourcePort',\n",
       " 'SourcePortName',\n",
       " 'SourceProcessGUID',\n",
       " 'SourceProcessId',\n",
       " 'SourceThreadId',\n",
       " 'Status',\n",
       " 'SubjectDomainName',\n",
       " 'SubjectLogonId',\n",
       " 'SubjectUserName',\n",
       " 'SubjectUserSid',\n",
       " 'TargetDomainName',\n",
       " 'TargetFilename',\n",
       " 'TargetHandleId',\n",
       " 'TargetImage',\n",
       " 'TargetLinkedLogonId',\n",
       " 'TargetLogonId',\n",
       " 'TargetObject',\n",
       " 'TargetOutboundDomainName',\n",
       " 'TargetOutboundUserName',\n",
       " 'TargetProcessGUID',\n",
       " 'TargetProcessId',\n",
       " 'TargetUserName',\n",
       " 'TargetUserSid',\n",
       " 'Task',\n",
       " 'TerminalSessionId',\n",
       " 'ThreadID',\n",
       " 'TokenElevationType',\n",
       " 'TransactionId',\n",
       " 'TransmittedServices',\n",
       " 'User',\n",
       " 'UserID',\n",
       " 'VirtualAccount',\n",
       " 'WorkstationName',\n",
       " 'host',\n",
       " 'port',\n",
       " 'tags']"
      ]
     },
     "execution_count": 113,
     "metadata": {},
     "output_type": "execute_result"
    }
   ],
   "source": [
    "# get list of all attributes except timestamp and other irrelavent attributes\n",
    "uniqset = set()\n",
    "for data in readfile:\n",
    "    jsonobj = json.loads(data) \n",
    "    for keys in jsonobj.keys():\n",
    "        tempp = keys.lower()\n",
    "        matches = [\"time\", \"version\"]\n",
    "        if not any(x in tempp for x in matches):\n",
    "            uniqset.add(keys)\n",
    "\n",
    "uniqset = list(uniqset)\n",
    "sorted(uniqset)"
   ]
  },
  {
   "cell_type": "code",
   "execution_count": 118,
   "metadata": {},
   "outputs": [
    {
     "ename": "SyntaxError",
     "evalue": "invalid syntax (<ipython-input-118-17fb6223284c>, line 8)",
     "output_type": "error",
     "traceback": [
      "\u001b[1;36m  File \u001b[1;32m\"<ipython-input-118-17fb6223284c>\"\u001b[1;36m, line \u001b[1;32m8\u001b[0m\n\u001b[1;33m    G.add_edges_from( [ ( (jsonobj[pivot], dasd='asdas'), jsonobj[q]) ] )\u001b[0m\n\u001b[1;37m                                               ^\u001b[0m\n\u001b[1;31mSyntaxError\u001b[0m\u001b[1;31m:\u001b[0m invalid syntax\n"
     ]
    }
   ],
   "source": [
    "#find all unique hosts and add to graph as nodes with all its properties(attributes)\n",
    "pivot = \"Hostname\"\n",
    "queryAtr = ['EventID', 'Image', 'SourceIp']\n",
    "for item in tqdm(readfile):\n",
    "    jsonobj = json.loads(item)\n",
    "    for q in queryAtr:\n",
    "        if pivot in jsonobj.keys() and q in jsonobj.keys():\n",
    "            G.add_edges_from( [ ( jsonobj[pivot], jsonobj[q] ) ] )\n"
   ]
  },
  {
   "cell_type": "code",
   "execution_count": 115,
   "metadata": {},
   "outputs": [
    {
     "data": {
      "text/plain": [
       "NodeDataView({'MORDORDC.theshire.local': {}, 10: {}, 'WORKSTATION5.theshire.local': {}, 12: {}, 'C:\\\\windows\\\\System32\\\\WindowsPowerShell\\\\v1.0\\\\powershell.exe': {}, 5158: {}, 5156: {}, 3: {}, 'C:\\\\Windows\\\\System32\\\\WindowsPowerShell\\\\v1.0\\\\powershell.exe': {}, '172.18.39.5': {}, 'WORKSTATION6.theshire.local': {}, 'C:\\\\windows\\\\System32\\\\svchost.exe': {}, 800: {}, 4103: {}, 4672: {}, 'C:\\\\windows\\\\ADWS\\\\Microsoft.ActiveDirectory.WebServices.exe': {}, 4624: {}, 4627: {}, 4634: {}, 'C:\\\\windows\\\\system32\\\\svchost.exe': {}, 'C:\\\\Windows\\\\ADWS\\\\Microsoft.ActiveDirectory.WebServices.exe': {}, '0:0:0:0:0:0:0:1': {}, 'C:\\\\Windows\\\\System32\\\\lsass.exe': {}, 11: {}, 7: {}, 'C:\\\\Windows\\\\System32\\\\svchost.exe': {}, 'C:\\\\Windows\\\\System32\\\\dns.exe': {}, '172.18.38.5': {}, 5: {}, 'C:\\\\Windows\\\\System32\\\\SearchProtocolHost.exe': {}, 'C:\\\\Windows\\\\System32\\\\SearchFilterHost.exe': {}, 4689: {}, 4703: {}, 9: {}, 13: {}, 'C:\\\\Windows\\\\System32\\\\backgroundTaskHost.exe': {}, 'C:\\\\windows\\\\system32\\\\backgroundTaskHost.exe': {}, 600: {}, 400: {}, 'C:\\\\windows\\\\system32\\\\wbem\\\\wmiprvse.exe': {}, 'C:\\\\windows\\\\system32\\\\lsass.exe': {}, 17: {}, 18: {}, 4690: {}, 4658: {}, 4656: {}, 1: {}, 'C:\\\\Windows\\\\System32\\\\whoami.exe': {}, 4663: {}, 4688: {}, 5857: {}, 5140: {}, 5145: {}, 4670: {}, 22: {}, 'C:\\\\Windows\\\\System32\\\\wbem\\\\WmiPrvSE.exe': {}, 'fe80:0:0:0:3816:b2ee:1b9b:324b': {}, 'System': {}, 4673: {}, 'C:\\\\windows\\\\Explorer.EXE': {}, 'C:\\\\Windows\\\\System32\\\\audiodg.exe': {}, 'C:\\\\windows\\\\system32\\\\SearchIndexer.exe': {}, 'C:\\\\windows\\\\system32\\\\DFSRs.exe': {}, 'C:\\\\Windows\\\\System32\\\\dfsrs.exe': {}, 'C:\\\\windows\\\\system32\\\\dns.exe': {}})"
      ]
     },
     "execution_count": 115,
     "metadata": {},
     "output_type": "execute_result"
    }
   ],
   "source": [
    "G.nodes(data=True)"
   ]
  },
  {
   "cell_type": "code",
   "execution_count": 97,
   "metadata": {},
   "outputs": [
    {
     "name": "stderr",
     "output_type": "stream",
     "text": [
      "  0%|                             | 0/6026 [00:00<?, ?it/s]\n"
     ]
    },
    {
     "ename": "ValueError",
     "evalue": "too many values to unpack (expected 2)",
     "output_type": "error",
     "traceback": [
      "\u001b[1;31m------------------------------------------------------------\u001b[0m",
      "\u001b[1;31mTypeError\u001b[0m                  Traceback (most recent call last)",
      "\u001b[1;32mc:\\users\\a101889\\appdata\\local\\programs\\python\\python37\\lib\\site-packages\\networkx\\classes\\digraph.py\u001b[0m in \u001b[0;36madd_nodes_from\u001b[1;34m(self, nodes_for_adding, **attr)\u001b[0m\n\u001b[0;32m    473\u001b[0m             \u001b[1;32mtry\u001b[0m\u001b[1;33m:\u001b[0m\u001b[1;33m\u001b[0m\u001b[1;33m\u001b[0m\u001b[0m\n\u001b[1;32m--> 474\u001b[1;33m                 \u001b[1;32mif\u001b[0m \u001b[0mn\u001b[0m \u001b[1;32mnot\u001b[0m \u001b[1;32min\u001b[0m \u001b[0mself\u001b[0m\u001b[1;33m.\u001b[0m\u001b[0m_succ\u001b[0m\u001b[1;33m:\u001b[0m\u001b[1;33m\u001b[0m\u001b[1;33m\u001b[0m\u001b[0m\n\u001b[0m\u001b[0;32m    475\u001b[0m                     \u001b[0mself\u001b[0m\u001b[1;33m.\u001b[0m\u001b[0m_succ\u001b[0m\u001b[1;33m[\u001b[0m\u001b[0mn\u001b[0m\u001b[1;33m]\u001b[0m \u001b[1;33m=\u001b[0m \u001b[0mself\u001b[0m\u001b[1;33m.\u001b[0m\u001b[0madjlist_inner_dict_factory\u001b[0m\u001b[1;33m(\u001b[0m\u001b[1;33m)\u001b[0m\u001b[1;33m\u001b[0m\u001b[1;33m\u001b[0m\u001b[0m\n",
      "\u001b[1;31mTypeError\u001b[0m: unhashable type: 'dict'",
      "\nDuring handling of the above exception, another exception occurred:\n",
      "\u001b[1;31mValueError\u001b[0m                 Traceback (most recent call last)",
      "\u001b[1;32m<ipython-input-97-fea2ebf194eb>\u001b[0m in \u001b[0;36m<module>\u001b[1;34m\u001b[0m\n\u001b[0;32m      4\u001b[0m     \u001b[1;32mfor\u001b[0m \u001b[0mi\u001b[0m \u001b[1;32min\u001b[0m \u001b[0muniqset\u001b[0m\u001b[1;33m:\u001b[0m\u001b[1;33m\u001b[0m\u001b[1;33m\u001b[0m\u001b[0m\n\u001b[0;32m      5\u001b[0m         \u001b[1;32mif\u001b[0m \u001b[0mi\u001b[0m \u001b[1;32min\u001b[0m \u001b[0mjsonobj\u001b[0m\u001b[1;33m.\u001b[0m\u001b[0mkeys\u001b[0m\u001b[1;33m(\u001b[0m\u001b[1;33m)\u001b[0m\u001b[1;33m:\u001b[0m\u001b[1;33m\u001b[0m\u001b[1;33m\u001b[0m\u001b[0m\n\u001b[1;32m----> 6\u001b[1;33m             \u001b[0mG\u001b[0m\u001b[1;33m.\u001b[0m\u001b[0madd_nodes_from\u001b[0m\u001b[1;33m(\u001b[0m  \u001b[1;33m(\u001b[0m \u001b[0mjsonobj\u001b[0m\u001b[1;33m[\u001b[0m\u001b[0mi\u001b[0m\u001b[1;33m]\u001b[0m\u001b[1;33m,\u001b[0m \u001b[0mjsonobj\u001b[0m \u001b[1;33m)\u001b[0m  \u001b[1;33m)\u001b[0m\u001b[1;33m\u001b[0m\u001b[1;33m\u001b[0m\u001b[0m\n\u001b[0m",
      "\u001b[1;32mc:\\users\\a101889\\appdata\\local\\programs\\python\\python37\\lib\\site-packages\\networkx\\classes\\digraph.py\u001b[0m in \u001b[0;36madd_nodes_from\u001b[1;34m(self, nodes_for_adding, **attr)\u001b[0m\n\u001b[0;32m    480\u001b[0m                     \u001b[0mself\u001b[0m\u001b[1;33m.\u001b[0m\u001b[0m_node\u001b[0m\u001b[1;33m[\u001b[0m\u001b[0mn\u001b[0m\u001b[1;33m]\u001b[0m\u001b[1;33m.\u001b[0m\u001b[0mupdate\u001b[0m\u001b[1;33m(\u001b[0m\u001b[0mattr\u001b[0m\u001b[1;33m)\u001b[0m\u001b[1;33m\u001b[0m\u001b[1;33m\u001b[0m\u001b[0m\n\u001b[0;32m    481\u001b[0m             \u001b[1;32mexcept\u001b[0m \u001b[0mTypeError\u001b[0m\u001b[1;33m:\u001b[0m\u001b[1;33m\u001b[0m\u001b[1;33m\u001b[0m\u001b[0m\n\u001b[1;32m--> 482\u001b[1;33m                 \u001b[0mnn\u001b[0m\u001b[1;33m,\u001b[0m \u001b[0mndict\u001b[0m \u001b[1;33m=\u001b[0m \u001b[0mn\u001b[0m\u001b[1;33m\u001b[0m\u001b[1;33m\u001b[0m\u001b[0m\n\u001b[0m\u001b[0;32m    483\u001b[0m                 \u001b[1;32mif\u001b[0m \u001b[0mnn\u001b[0m \u001b[1;32mnot\u001b[0m \u001b[1;32min\u001b[0m \u001b[0mself\u001b[0m\u001b[1;33m.\u001b[0m\u001b[0m_succ\u001b[0m\u001b[1;33m:\u001b[0m\u001b[1;33m\u001b[0m\u001b[1;33m\u001b[0m\u001b[0m\n\u001b[0;32m    484\u001b[0m                     \u001b[0mself\u001b[0m\u001b[1;33m.\u001b[0m\u001b[0m_succ\u001b[0m\u001b[1;33m[\u001b[0m\u001b[0mnn\u001b[0m\u001b[1;33m]\u001b[0m \u001b[1;33m=\u001b[0m \u001b[0mself\u001b[0m\u001b[1;33m.\u001b[0m\u001b[0madjlist_inner_dict_factory\u001b[0m\u001b[1;33m(\u001b[0m\u001b[1;33m)\u001b[0m\u001b[1;33m\u001b[0m\u001b[1;33m\u001b[0m\u001b[0m\n",
      "\u001b[1;31mValueError\u001b[0m: too many values to unpack (expected 2)"
     ]
    }
   ],
   "source": [
    "#add all attributes as nodes with all its attributes\n",
    "for item in tqdm(readfile):\n",
    "    jsonobj = json.loads(item)\n",
    "    for i in uniqset:\n",
    "        if i in jsonobj.keys():\n",
    "            G.add_nodes_from( jsonobj[i], jsonobj  )"
   ]
  },
  {
   "cell_type": "code",
   "execution_count": 58,
   "metadata": {},
   "outputs": [
    {
     "name": "stderr",
     "output_type": "stream",
     "text": [
      "100%|███████████████| 6026/6026 [00:00<00:00, 30794.55it/s]\n"
     ]
    }
   ],
   "source": [
    "#find all unique hosts\n",
    "for item in tqdm(readfile):\n",
    "    jsonobj = json.loads(item)\n",
    "    for i in uniqset:\n",
    "        if atrName in jsonobj.keys() and i in jsonobj.keys():\n",
    "            G.add_edges_from( [( jsonobj[atrName], jsonobj[i] )] )"
   ]
  },
  {
   "cell_type": "code",
   "execution_count": 116,
   "metadata": {},
   "outputs": [],
   "source": [
    "# view the result in pyviz\n",
    "nt = Network()\n",
    "nt.show_buttons()\n",
    "nt.from_nx(G)\n",
    "nt.show(\"nx.html\")"
   ]
  }
 ],
 "metadata": {
  "kernelspec": {
   "display_name": "Python 3",
   "language": "python",
   "name": "python3"
  },
  "language_info": {
   "codemirror_mode": {
    "name": "ipython",
    "version": 3
   },
   "file_extension": ".py",
   "mimetype": "text/x-python",
   "name": "python",
   "nbconvert_exporter": "python",
   "pygments_lexer": "ipython3",
   "version": "3.7.9"
  }
 },
 "nbformat": 4,
 "nbformat_minor": 4
}
