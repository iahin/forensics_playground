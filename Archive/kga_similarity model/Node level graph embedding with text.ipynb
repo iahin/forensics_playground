{
 "cells": [
  {
   "cell_type": "markdown",
   "id": "bfbb13b3",
   "metadata": {},
   "source": [
    "https://stackoverflow.com/questions/34052115/how-to-find-the-importance-of-the-features-for-a-logistic-regression-model"
   ]
  },
  {
   "cell_type": "code",
   "execution_count": 243,
   "id": "704b41e5",
   "metadata": {},
   "outputs": [],
   "source": [
    "import numpy as np\n",
    "from sklearn.linear_model import SGDClassifier\n",
    "from sklearn.preprocessing import StandardScaler\n",
    "from sklearn.pipeline import make_pipeline\n",
    "from karateclub import Graph2Vec, GL2Vec, FeatherNode, AE\n",
    "import networkx as nx\n",
    "import pandas as pd\n",
    "from sklearn.feature_extraction import DictVectorizer\n",
    "scl = StandardScaler()"
   ]
  },
  {
   "cell_type": "code",
   "execution_count": 337,
   "id": "21b230fe",
   "metadata": {},
   "outputs": [],
   "source": [
    "G1 = nx.Graph()\n",
    "G1.add_node(0, feature='yonke.exe')\n",
    "G1.add_node(1, feature='ipnet.exe')\n",
    "G1.add_node(2, feature='erop.exe' )\n",
    "G1.add_node(3, feature='prob.exe' )\n",
    "G1.add_edges_from([(0, 1), (1, 2)], prop='accessed')\n",
    "G1.add_edges_from([(3, 2), (2, 1)], prop='lead')\n",
    "\n",
    "G2 = nx.Graph()\n",
    "G2.add_node(0, feature='yonke.exe')\n",
    "G2.add_node(1, feature='ipnet.exe')\n",
    "G2.add_node(2, feature='grob.exe' )\n",
    "G2.add_node(3, feature='prob.exe' )\n",
    "G2.add_edges_from([(0, 1), (1, 2)], prop='accessed')\n",
    "G2.add_edges_from([(2, 1), (1, 3)], prop='lead')\n",
    "\n",
    "H1 = nx.Graph()\n",
    "H1.add_node(0, feature='fang.exe'  )\n",
    "H1.add_node(1, feature='ipneft.exe')\n",
    "H1.add_node(2, feature='grob.exe'  )\n",
    "H1.add_node(3, feature='prob.exe' )\n",
    "H1.add_edges_from([(0, 1), (1, 2)], prop='deleted')\n",
    "H1.add_edges_from([(2, 3), (3,1)], prop='lead')\n",
    "\n",
    "H2 = nx.Graph()\n",
    "H2.add_node(0, feature='fang.exe'  )\n",
    "H2.add_node(1, feature='ipneft.exe')\n",
    "H2.add_node(2, feature='grob.exe'  )\n",
    "H2.add_node(3, feature='prob.exe' )\n",
    "H2.add_node(4, feature='prob.exe' )\n",
    "H2.add_edges_from([(3, 1), (1, 3)], prop='deleted')\n",
    "H2.add_edges_from([(2, 1), (1, 4)], prop='lead')\n",
    "\n",
    "\n",
    "I = nx.Graph()\n",
    "I.add_node(0,feature='yonke.exe'  )\n",
    "I.add_node(1,feature='ipneft.exe')\n",
    "I.add_node(2,feature='erop.exe' )\n",
    "I.add_node(3, feature='prob.exe' )\n",
    "I.add_edges_from([(0, 1), (1, 2)], prop='deleted')\n",
    "I.add_edges_from([(3, 2), (2, 1)], prop='lead')\n",
    "\n",
    "graphlist = [G1, G2, H1,H2, I]"
   ]
  },
  {
   "cell_type": "code",
   "execution_count": 341,
   "id": "4fb0a5f8",
   "metadata": {},
   "outputs": [
    {
     "name": "stdout",
     "output_type": "stream",
     "text": [
      "[[0. 0. 0. 1.]\n",
      " [0. 1. 0. 0.]\n",
      " [1. 0. 0. 0.]\n",
      " [0. 0. 1. 0.]]\n",
      "[[0. 0. 0. 1.]\n",
      " [0. 1. 0. 0.]\n",
      " [1. 0. 0. 0.]\n",
      " [0. 0. 1. 0.]]\n",
      "[[1. 0. 0. 0.]\n",
      " [0. 0. 1. 0.]\n",
      " [0. 1. 0. 0.]\n",
      " [0. 0. 0. 1.]]\n",
      "[[1. 0. 0. 0.]\n",
      " [0. 0. 1. 0.]\n",
      " [0. 1. 0. 0.]\n",
      " [0. 0. 0. 1.]\n",
      " [0. 0. 0. 1.]]\n",
      "[[0. 0. 0. 1.]\n",
      " [0. 1. 0. 0.]\n",
      " [1. 0. 0. 0.]\n",
      " [0. 0. 1. 0.]]\n"
     ]
    }
   ],
   "source": [
    "gfeatlist = []\n",
    "\n",
    "for graphasda in graphlist:\n",
    "    # get node data\n",
    "    allnodes = list(graphasda.nodes(data=True))\n",
    "    allnodes = [x[1] for x in allnodes]\n",
    "\n",
    "    # Vectorise feats\n",
    "    vactmodel = DictVectorizer(sparse=False)\n",
    "    feats = vactmodel.fit_transform(allnodes)\n",
    "    print(feats)\n",
    "\n",
    "#     # get node embed\n",
    "#     nodeembmodel = FeatherNode()\n",
    "#     nodeembmodel.fit(graphasda, feats)\n",
    "#     graphemb = nodeembmodel.get_embedding()\n",
    "#     print(graphemb)\n",
    "#     # Sub node embed\n",
    "#     finalemb = np.sum(graphemb, axis=1)\n",
    "#     finalemb = np.squeeze(finalemb)\n",
    "    \n",
    "#     gfeatlist.append(finalemb)"
   ]
  },
  {
   "cell_type": "code",
   "execution_count": 351,
   "id": "8ea689a0",
   "metadata": {},
   "outputs": [
    {
     "data": {
      "text/plain": [
       "[[(0, {'feature': 'yonke.exe'}),\n",
       "  (1, {'feature': 'ipnet.exe'}),\n",
       "  (2, {'feature': 'erop.exe'}),\n",
       "  (3, {'feature': 'prob.exe'})],\n",
       " [(0, {'feature': 'yonke.exe'}),\n",
       "  (1, {'feature': 'ipnet.exe'}),\n",
       "  (2, {'feature': 'grob.exe'}),\n",
       "  (3, {'feature': 'prob.exe'})],\n",
       " [(0, {'feature': 'fang.exe'}),\n",
       "  (1, {'feature': 'ipneft.exe'}),\n",
       "  (2, {'feature': 'grob.exe'}),\n",
       "  (3, {'feature': 'prob.exe'})],\n",
       " [(0, {'feature': 'fang.exe'}),\n",
       "  (1, {'feature': 'ipneft.exe'}),\n",
       "  (2, {'feature': 'grob.exe'}),\n",
       "  (3, {'feature': 'prob.exe'}),\n",
       "  (4, {'feature': 'prob.exe'})],\n",
       " [(0, {'feature': 'yonke.exe'}),\n",
       "  (1, {'feature': 'ipneft.exe'}),\n",
       "  (2, {'feature': 'erop.exe'}),\n",
       "  (3, {'feature': 'prob.exe'})]]"
      ]
     },
     "execution_count": 351,
     "metadata": {},
     "output_type": "execute_result"
    }
   ],
   "source": [
    "allnodes = [list(G.nodes(data=True)) for G in graphlist]\n",
    "allnodes"
   ]
  },
  {
   "cell_type": "code",
   "execution_count": 345,
   "id": "8ce1bf33",
   "metadata": {},
   "outputs": [
    {
     "ename": "AttributeError",
     "evalue": "'tuple' object has no attribute 'items'",
     "output_type": "error",
     "traceback": [
      "\u001b[1;31m---------------------------------------------------------------------------\u001b[0m",
      "\u001b[1;31mAttributeError\u001b[0m                            Traceback (most recent call last)",
      "\u001b[1;32m<ipython-input-345-02ad2049bd18>\u001b[0m in \u001b[0;36m<module>\u001b[1;34m\u001b[0m\n\u001b[0;32m      7\u001b[0m \u001b[1;31m# Vectorise feats\u001b[0m\u001b[1;33m\u001b[0m\u001b[1;33m\u001b[0m\u001b[1;33m\u001b[0m\u001b[0m\n\u001b[0;32m      8\u001b[0m \u001b[0mvactmodel\u001b[0m \u001b[1;33m=\u001b[0m \u001b[0mDictVectorizer\u001b[0m\u001b[1;33m(\u001b[0m\u001b[0msparse\u001b[0m\u001b[1;33m=\u001b[0m\u001b[1;32mFalse\u001b[0m\u001b[1;33m)\u001b[0m\u001b[1;33m\u001b[0m\u001b[1;33m\u001b[0m\u001b[0m\n\u001b[1;32m----> 9\u001b[1;33m \u001b[0mvactmodel\u001b[0m\u001b[1;33m.\u001b[0m\u001b[0mfit\u001b[0m\u001b[1;33m(\u001b[0m\u001b[0mallnodes\u001b[0m\u001b[1;33m)\u001b[0m\u001b[1;33m\u001b[0m\u001b[1;33m\u001b[0m\u001b[0m\n\u001b[0m\u001b[0;32m     10\u001b[0m \u001b[1;33m\u001b[0m\u001b[0m\n\u001b[0;32m     11\u001b[0m \u001b[0masdas\u001b[0m \u001b[1;33m=\u001b[0m \u001b[0mvactmodel\u001b[0m\u001b[1;33m.\u001b[0m\u001b[0mtransform\u001b[0m\u001b[1;33m(\u001b[0m\u001b[0mallnodes4\u001b[0m\u001b[1;33m)\u001b[0m\u001b[1;33m\u001b[0m\u001b[1;33m\u001b[0m\u001b[0m\n",
      "\u001b[1;32mc:\\users\\16sic\\appdata\\local\\programs\\python\\python37\\lib\\site-packages\\sklearn\\feature_extraction\\_dict_vectorizer.py\u001b[0m in \u001b[0;36mfit\u001b[1;34m(self, X, y)\u001b[0m\n\u001b[0;32m    159\u001b[0m \u001b[1;33m\u001b[0m\u001b[0m\n\u001b[0;32m    160\u001b[0m         \u001b[1;32mfor\u001b[0m \u001b[0mx\u001b[0m \u001b[1;32min\u001b[0m \u001b[0mX\u001b[0m\u001b[1;33m:\u001b[0m\u001b[1;33m\u001b[0m\u001b[1;33m\u001b[0m\u001b[0m\n\u001b[1;32m--> 161\u001b[1;33m             \u001b[1;32mfor\u001b[0m \u001b[0mf\u001b[0m\u001b[1;33m,\u001b[0m \u001b[0mv\u001b[0m \u001b[1;32min\u001b[0m \u001b[0mx\u001b[0m\u001b[1;33m.\u001b[0m\u001b[0mitems\u001b[0m\u001b[1;33m(\u001b[0m\u001b[1;33m)\u001b[0m\u001b[1;33m:\u001b[0m\u001b[1;33m\u001b[0m\u001b[1;33m\u001b[0m\u001b[0m\n\u001b[0m\u001b[0;32m    162\u001b[0m                 \u001b[1;32mif\u001b[0m \u001b[0misinstance\u001b[0m\u001b[1;33m(\u001b[0m\u001b[0mv\u001b[0m\u001b[1;33m,\u001b[0m \u001b[0mstr\u001b[0m\u001b[1;33m)\u001b[0m\u001b[1;33m:\u001b[0m\u001b[1;33m\u001b[0m\u001b[1;33m\u001b[0m\u001b[0m\n\u001b[0;32m    163\u001b[0m                     \u001b[0mfeature_name\u001b[0m \u001b[1;33m=\u001b[0m \u001b[1;34m\"%s%s%s\"\u001b[0m \u001b[1;33m%\u001b[0m \u001b[1;33m(\u001b[0m\u001b[0mf\u001b[0m\u001b[1;33m,\u001b[0m \u001b[0mself\u001b[0m\u001b[1;33m.\u001b[0m\u001b[0mseparator\u001b[0m\u001b[1;33m,\u001b[0m \u001b[0mv\u001b[0m\u001b[1;33m)\u001b[0m\u001b[1;33m\u001b[0m\u001b[1;33m\u001b[0m\u001b[0m\n",
      "\u001b[1;31mAttributeError\u001b[0m: 'tuple' object has no attribute 'items'"
     ]
    }
   ],
   "source": [
    "allnodes = [list(G.nodes(data=True))[1] for G in graphlist]\n",
    "#allnodes = [x[1] for x in allnodes]\n",
    "\n",
    "allnodes4 = list(H2.nodes(data=True))\n",
    "allnodes4 = [x[1] for x in allnodes4]\n",
    "\n",
    "# Vectorise feats\n",
    "vactmodel = DictVectorizer(sparse=False)\n",
    "vactmodel.fit(allnodes)\n",
    "\n",
    "asdas = vactmodel.transform(allnodes4)\n",
    "\n",
    "asdas"
   ]
  },
  {
   "cell_type": "code",
   "execution_count": 335,
   "id": "d334ae68",
   "metadata": {},
   "outputs": [],
   "source": [
    "train_X = gfeatlist[:4]\n",
    "train_X = scl.fit_transform(train_X)\n",
    "train_Y = [1,1,2,2]\n",
    "\n",
    "test_X = [gfeatlist[4]]\n",
    "test_X = scl.transform(test_X)\n",
    "test_Y = [2]"
   ]
  },
  {
   "cell_type": "code",
   "execution_count": 336,
   "id": "79a55a24",
   "metadata": {},
   "outputs": [
    {
     "data": {
      "text/plain": [
       "array([1])"
      ]
     },
     "execution_count": 336,
     "metadata": {},
     "output_type": "execute_result"
    }
   ],
   "source": [
    "clf = SGDClassifier(max_iter=1000, tol=1e-3)\n",
    "clf.fit(train_X, train_Y)\n",
    "clf.predict(test_X)"
   ]
  },
  {
   "cell_type": "code",
   "execution_count": null,
   "id": "5eb0791c",
   "metadata": {},
   "outputs": [],
   "source": []
  }
 ],
 "metadata": {
  "kernelspec": {
   "display_name": "Python 3",
   "language": "python",
   "name": "python3"
  },
  "language_info": {
   "codemirror_mode": {
    "name": "ipython",
    "version": 3
   },
   "file_extension": ".py",
   "mimetype": "text/x-python",
   "name": "python",
   "nbconvert_exporter": "python",
   "pygments_lexer": "ipython3",
   "version": "3.7.6"
  }
 },
 "nbformat": 4,
 "nbformat_minor": 5
}
