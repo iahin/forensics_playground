{
 "cells": [
  {
   "cell_type": "code",
   "execution_count": 1,
   "metadata": {},
   "outputs": [],
   "source": [
    "from py2neo import Graph, Node, Relationship, NodeMatcher, cypher\n",
    "import networkx as nx\n",
    "from pyvis.network import Network"
   ]
  },
  {
   "cell_type": "code",
   "execution_count": 2,
   "metadata": {},
   "outputs": [],
   "source": [
    "graph = Graph(password=\"admin\")\n",
    "graph.delete_all()"
   ]
  },
  {
   "cell_type": "code",
   "execution_count": 4,
   "metadata": {},
   "outputs": [],
   "source": [
    "def matchnode(label, **props):\n",
    "    nodes = NodeMatcher(graph)\n",
    "    return nodes.match(label, **props).first()\n",
    "\n",
    "\n",
    "def createNode(label, **props):\n",
    "    newnode = Node(label, **props)\n",
    "    graph.merge(newnode, label, \"name\")\n",
    "    return newnode\n",
    "\n",
    "\n",
    "def createRelationship(node1, relationshiptype, node2):\n",
    "    newnodelink = Relationship(node1, relationshiptype, node2)\n",
    "    graph.create(newnodelink)\n",
    "    \n",
    "def showgraph(G):\n",
    "    # view the result in pyviz\n",
    "    nt = Network(width=\"1000\", height=\"500\", directed=True)\n",
    "    #nt.show_buttons()\n",
    "    nt.set_options(\"\"\"var options = {\n",
    "      \"nodes\": {\n",
    "        \"physics\": false\n",
    "      },\n",
    "      \"edges\": {\n",
    "        \"color\": {\n",
    "          \"inherit\": true\n",
    "        },\n",
    "        \"smooth\": false\n",
    "      },\n",
    "      \"physics\": {\n",
    "        \"minVelocity\": 0.75\n",
    "      }\n",
    "    }\"\"\")\n",
    "    nt.from_nx(G)\n",
    "    nt.show(\"nx.html\")\n",
    "    \n",
    "def vizuliser(tuplist):\n",
    "    G = nx.DiGraph()\n",
    "    for x in tuplist:\n",
    "        G.add_edge(x[1], x[4], name=x[2])\n",
    "    showgraph(G)\n",
    "    \n",
    "def schemabuild(elm):\n",
    "    node1 = matchnode(elm[0], name=elm[1])\n",
    "    if node1:\n",
    "        node2 = createNode(elm[3], name=elm[4])\n",
    "        createRelationship(node1, elm[2], node2)\n",
    "    else:\n",
    "        node1 = createNode(elm[0], name=elm[1])\n",
    "        node2 = createNode(elm[3], name=elm[4])\n",
    "        createRelationship(node1, elm[2], node2)\n",
    "        \n",
    "    "
   ]
  },
  {
   "cell_type": "code",
   "execution_count": 5,
   "metadata": {},
   "outputs": [],
   "source": [
    "# Create dummy data\n",
    "\n",
    "# data = [(nodeclass, nodelabel, relationship, nodeclass, nodelabel)]\n",
    "data = [\n",
    "    # these are attack vector\n",
    "    ('program','cmd','modify','file', 'shadow'),\n",
    "    ('ip','123.10.10.1','remote_execute','program', 'cmd'),\n",
    "    ('program', 'cmd','callback','ip','123.10.10.1'),\n",
    "    ('file','funny.pdf','execute','program', 'cmd'),\n",
    "    ('website','http://192.2.2.1/ad','download','file','funny.pdf'),\n",
    "    ('user','Smith','visit','website','http://192.2.2.1/ad'),\n",
    "    # these are noises\n",
    "    ('program','cmd','run','program', 'test.py'),\n",
    "    ('ip','123.10.10.1','dns_connect','server', 'singtel'),\n",
    "    ('program', 'cmd','close','program','test.py'),\n",
    "    ('file','funny.pdf','start','program', 'painter.exe'),\n",
    "    ('website','http://192.2.2.1/ad','navigate','website','google.com'),\n",
    "    ('user','Smith','opens','program','chrome'),\n",
    "]\n",
    "\n",
    "newdata = [\n",
    "    ('user','James','remote_login','ip','196.123.10.1'),\n",
    "    ('ip','196.123.10.1','ssh_in','program','cmd'),\n",
    "    ('program','cmd', 'modify','file', 'shadow'),\n",
    "]"
   ]
  },
  {
   "cell_type": "code",
   "execution_count": 6,
   "metadata": {},
   "outputs": [],
   "source": [
    "# Visualise synthetic data\n",
    "vizuliser(data)"
   ]
  },
  {
   "cell_type": "code",
   "execution_count": 7,
   "metadata": {},
   "outputs": [],
   "source": [
    "# upload edges to graph database\n",
    "for x in data:\n",
    "    schemabuild(x)"
   ]
  },
  {
   "cell_type": "code",
   "execution_count": 8,
   "metadata": {},
   "outputs": [
    {
     "data": {
      "text/plain": [
       "[{'name': 'Smith', 'dist': 0.0},\n",
       " {'name': 'http://192.2.2.1/ad', 'dist': 1.0},\n",
       " {'name': 'funny.pdf', 'dist': 2.0},\n",
       " {'name': 'cmd', 'dist': 3.0},\n",
       " {'name': 'shadow', 'dist': 4.0}]"
      ]
     },
     "execution_count": 8,
     "metadata": {},
     "output_type": "execute_result"
    }
   ],
   "source": [
    "# Find all users who access the malicious file \"shadow\"\n",
    "cypherQ = \"\"\"\n",
    "MATCH (u:user),(f:file{name: \"shadow\"})\n",
    "CALL gds.alpha.shortestPath.stream({\n",
    "  startNode: u,\n",
    "  endNode: f,\n",
    "  nodeProjection: \"*\",\n",
    "  relationshipProjection: {\n",
    "    all: {\n",
    "      type: \"*\",\n",
    "      orientation:  \"UNDIRECTED\"\n",
    "    }\n",
    "  }\n",
    "})\n",
    "YIELD nodeId, cost\n",
    "RETURN gds.util.asNode(nodeId).name AS name, cost as dist\n",
    "\"\"\"\n",
    "result = graph.run(cypherQ)\n",
    "result = result.data()\n",
    "result"
   ]
  },
  {
   "cell_type": "code",
   "execution_count": 9,
   "metadata": {},
   "outputs": [],
   "source": [
    "edgelist = [(result[n]['name'], result[n+1]['name']) for n in range(len(result)-1)]\n",
    "G1 = nx.DiGraph()\n",
    "G1.add_edges_from(edgelist)\n",
    "showgraph(G1)"
   ]
  },
  {
   "cell_type": "code",
   "execution_count": 10,
   "metadata": {},
   "outputs": [],
   "source": [
    "# Add new synthetic attack vector\n",
    "for x in newdata:\n",
    "    schemabuild(x)"
   ]
  },
  {
   "cell_type": "code",
   "execution_count": 11,
   "metadata": {},
   "outputs": [
    {
     "data": {
      "text/plain": [
       "[{'name': 'Smith', 'dist': 0.0},\n",
       " {'name': 'http://192.2.2.1/ad', 'dist': 1.0},\n",
       " {'name': 'funny.pdf', 'dist': 2.0},\n",
       " {'name': 'cmd', 'dist': 3.0},\n",
       " {'name': 'shadow', 'dist': 4.0},\n",
       " {'name': 'James', 'dist': 0.0},\n",
       " {'name': '196.123.10.1', 'dist': 1.0},\n",
       " {'name': 'cmd', 'dist': 2.0},\n",
       " {'name': 'shadow', 'dist': 3.0}]"
      ]
     },
     "execution_count": 11,
     "metadata": {},
     "output_type": "execute_result"
    }
   ],
   "source": [
    "cypherQ = \"\"\"\n",
    "MATCH (u:user),(f:file{name: \"shadow\"})\n",
    "CALL gds.alpha.shortestPath.stream({\n",
    "  startNode: u,\n",
    "  endNode: f,\n",
    "  nodeProjection: \"*\",\n",
    "  relationshipProjection: {\n",
    "    all: {\n",
    "      type: \"*\",\n",
    "      orientation:  \"UNDIRECTED\"\n",
    "    }\n",
    "  }\n",
    "})\n",
    "YIELD nodeId, cost\n",
    "RETURN gds.util.asNode(nodeId).name AS name, cost as dist\n",
    "\"\"\"\n",
    "result = graph.run(cypherQ)\n",
    "result = result.data()\n",
    "result"
   ]
  },
  {
   "cell_type": "code",
   "execution_count": 12,
   "metadata": {},
   "outputs": [],
   "source": [
    "cypherQ = \"\"\"\n",
    "MATCH (u:user{name:\"James\"}),(f:file{name: \"shadow\"})\n",
    "CALL gds.alpha.shortestPath.stream({\n",
    "  startNode: u,\n",
    "  endNode: f,\n",
    "  nodeProjection: \"*\",\n",
    "  relationshipProjection: {\n",
    "    all: {\n",
    "      type: \"*\",\n",
    "      orientation:  \"UNDIRECTED\"\n",
    "    }\n",
    "  }\n",
    "})\n",
    "YIELD nodeId, cost\n",
    "RETURN gds.util.asNode(nodeId).name AS name, cost as dist\n",
    "\"\"\"\n",
    "result = graph.run(cypherQ)\n",
    "result = result.data()\n",
    "edgelist = [(result[n]['name'], result[n+1]['name']) for n in range(len(result)-1)]\n",
    "G1 = nx.DiGraph()\n",
    "G1.add_edges_from(edgelist)\n",
    "showgraph(G1)"
   ]
  },
  {
   "cell_type": "code",
   "execution_count": null,
   "metadata": {},
   "outputs": [],
   "source": []
  }
 ],
 "metadata": {
  "kernelspec": {
   "display_name": "Python 3",
   "language": "python",
   "name": "python3"
  },
  "language_info": {
   "codemirror_mode": {
    "name": "ipython",
    "version": 3
   },
   "file_extension": ".py",
   "mimetype": "text/x-python",
   "name": "python",
   "nbconvert_exporter": "python",
   "pygments_lexer": "ipython3",
   "version": "3.7.9"
  }
 },
 "nbformat": 4,
 "nbformat_minor": 4
}
