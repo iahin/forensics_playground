{
 "cells": [
  {
   "cell_type": "code",
   "execution_count": 17,
   "id": "3d07b9d9",
   "metadata": {},
   "outputs": [
    {
     "ename": "ConnectionUnavailable",
     "evalue": "Connection has been closed",
     "output_type": "error",
     "traceback": [
      "\u001b[1;31m---------------------------------------------------------------------------\u001b[0m",
      "\u001b[1;31mIndexError\u001b[0m                                Traceback (most recent call last)",
      "\u001b[1;32mc:\\users\\16sic\\appdata\\local\\programs\\python\\python37\\lib\\site-packages\\py2neo\\client\\__init__.py\u001b[0m in \u001b[0;36macquire\u001b[1;34m(self, force_reset, can_overfill)\u001b[0m\n\u001b[0;32m    791\u001b[0m                 \u001b[1;31m# Plan A: select a free connection from the pool\u001b[0m\u001b[1;33m\u001b[0m\u001b[1;33m\u001b[0m\u001b[1;33m\u001b[0m\u001b[0m\n\u001b[1;32m--> 792\u001b[1;33m                 \u001b[0mcx\u001b[0m \u001b[1;33m=\u001b[0m \u001b[0mself\u001b[0m\u001b[1;33m.\u001b[0m\u001b[0m_free_list\u001b[0m\u001b[1;33m.\u001b[0m\u001b[0mpopleft\u001b[0m\u001b[1;33m(\u001b[0m\u001b[1;33m)\u001b[0m\u001b[1;33m\u001b[0m\u001b[1;33m\u001b[0m\u001b[0m\n\u001b[0m\u001b[0;32m    793\u001b[0m             \u001b[1;32mexcept\u001b[0m \u001b[0mIndexError\u001b[0m\u001b[1;33m:\u001b[0m\u001b[1;33m\u001b[0m\u001b[1;33m\u001b[0m\u001b[0m\n",
      "\u001b[1;31mIndexError\u001b[0m: pop from an empty deque",
      "\nDuring handling of the above exception, another exception occurred:\n",
      "\u001b[1;31mClientError\u001b[0m                               Traceback (most recent call last)",
      "\u001b[1;32mc:\\users\\16sic\\appdata\\local\\programs\\python\\python37\\lib\\site-packages\\py2neo\\client\\bolt.py\u001b[0m in \u001b[0;36m_audit\u001b[1;34m(self, task)\u001b[0m\n\u001b[0;32m    757\u001b[0m         \u001b[1;32mtry\u001b[0m\u001b[1;33m:\u001b[0m\u001b[1;33m\u001b[0m\u001b[1;33m\u001b[0m\u001b[0m\n\u001b[1;32m--> 758\u001b[1;33m             \u001b[0mtask\u001b[0m\u001b[1;33m.\u001b[0m\u001b[0maudit\u001b[0m\u001b[1;33m(\u001b[0m\u001b[1;33m)\u001b[0m\u001b[1;33m\u001b[0m\u001b[1;33m\u001b[0m\u001b[0m\n\u001b[0m\u001b[0;32m    759\u001b[0m         \u001b[1;32mexcept\u001b[0m \u001b[0mNeo4jError\u001b[0m\u001b[1;33m:\u001b[0m\u001b[1;33m\u001b[0m\u001b[1;33m\u001b[0m\u001b[0m\n",
      "\u001b[1;32mc:\\users\\16sic\\appdata\\local\\programs\\python\\python37\\lib\\site-packages\\py2neo\\client\\bolt.py\u001b[0m in \u001b[0;36maudit\u001b[1;34m(self)\u001b[0m\n\u001b[0;32m   1262\u001b[0m             \u001b[0mself\u001b[0m\u001b[1;33m.\u001b[0m\u001b[0mset_ignored\u001b[0m\u001b[1;33m(\u001b[0m\u001b[1;33m)\u001b[0m\u001b[1;33m\u001b[0m\u001b[1;33m\u001b[0m\u001b[0m\n\u001b[1;32m-> 1263\u001b[1;33m             \u001b[1;32mraise\u001b[0m \u001b[0mself\u001b[0m\u001b[1;33m.\u001b[0m\u001b[0m_failure\u001b[0m\u001b[1;33m\u001b[0m\u001b[1;33m\u001b[0m\u001b[0m\n\u001b[0m\u001b[0;32m   1264\u001b[0m \u001b[1;33m\u001b[0m\u001b[0m\n",
      "\u001b[1;31mClientError\u001b[0m: [Security.Unauthorized] The client is unauthorized due to authentication failure.",
      "\nDuring handling of the above exception, another exception occurred:\n",
      "\u001b[1;31mConnectionUnavailable\u001b[0m                     Traceback (most recent call last)",
      "\u001b[1;32m<ipython-input-17-1503b533edbd>\u001b[0m in \u001b[0;36m<module>\u001b[1;34m\u001b[0m\n\u001b[0;32m     11\u001b[0m \u001b[1;33m\u001b[0m\u001b[0m\n\u001b[0;32m     12\u001b[0m \u001b[0mfake\u001b[0m \u001b[1;33m=\u001b[0m \u001b[0mFaker\u001b[0m\u001b[1;33m(\u001b[0m\u001b[1;33m)\u001b[0m\u001b[1;33m\u001b[0m\u001b[1;33m\u001b[0m\u001b[0m\n\u001b[1;32m---> 13\u001b[1;33m \u001b[0mgraph\u001b[0m \u001b[1;33m=\u001b[0m \u001b[0mGraph\u001b[0m\u001b[1;33m(\u001b[0m\u001b[0mpassword\u001b[0m\u001b[1;33m=\u001b[0m\u001b[1;34m\"12345\"\u001b[0m\u001b[1;33m)\u001b[0m\u001b[1;33m\u001b[0m\u001b[1;33m\u001b[0m\u001b[0m\n\u001b[0m\u001b[0;32m     14\u001b[0m \u001b[0mnode\u001b[0m \u001b[1;33m=\u001b[0m \u001b[0mNode\u001b[0m\u001b[1;33m(\u001b[0m\u001b[1;33m)\u001b[0m\u001b[1;33m\u001b[0m\u001b[1;33m\u001b[0m\u001b[0m\n",
      "\u001b[1;32mc:\\users\\16sic\\appdata\\local\\programs\\python\\python37\\lib\\site-packages\\py2neo\\database.py\u001b[0m in \u001b[0;36m__init__\u001b[1;34m(self, profile, name, **settings)\u001b[0m\n\u001b[0;32m    286\u001b[0m \u001b[1;33m\u001b[0m\u001b[0m\n\u001b[0;32m    287\u001b[0m     \u001b[1;32mdef\u001b[0m \u001b[0m__init__\u001b[0m\u001b[1;33m(\u001b[0m\u001b[0mself\u001b[0m\u001b[1;33m,\u001b[0m \u001b[0mprofile\u001b[0m\u001b[1;33m=\u001b[0m\u001b[1;32mNone\u001b[0m\u001b[1;33m,\u001b[0m \u001b[0mname\u001b[0m\u001b[1;33m=\u001b[0m\u001b[1;32mNone\u001b[0m\u001b[1;33m,\u001b[0m \u001b[1;33m**\u001b[0m\u001b[0msettings\u001b[0m\u001b[1;33m)\u001b[0m\u001b[1;33m:\u001b[0m\u001b[1;33m\u001b[0m\u001b[1;33m\u001b[0m\u001b[0m\n\u001b[1;32m--> 288\u001b[1;33m         \u001b[0mself\u001b[0m\u001b[1;33m.\u001b[0m\u001b[0mservice\u001b[0m \u001b[1;33m=\u001b[0m \u001b[0mGraphService\u001b[0m\u001b[1;33m(\u001b[0m\u001b[0mprofile\u001b[0m\u001b[1;33m,\u001b[0m \u001b[1;33m**\u001b[0m\u001b[0msettings\u001b[0m\u001b[1;33m)\u001b[0m\u001b[1;33m\u001b[0m\u001b[1;33m\u001b[0m\u001b[0m\n\u001b[0m\u001b[0;32m    289\u001b[0m         \u001b[0mself\u001b[0m\u001b[1;33m.\u001b[0m\u001b[0m__name__\u001b[0m \u001b[1;33m=\u001b[0m \u001b[0mname\u001b[0m\u001b[1;33m\u001b[0m\u001b[1;33m\u001b[0m\u001b[0m\n\u001b[0;32m    290\u001b[0m         \u001b[0mself\u001b[0m\u001b[1;33m.\u001b[0m\u001b[0mschema\u001b[0m \u001b[1;33m=\u001b[0m \u001b[0mSchema\u001b[0m\u001b[1;33m(\u001b[0m\u001b[0mself\u001b[0m\u001b[1;33m)\u001b[0m\u001b[1;33m\u001b[0m\u001b[1;33m\u001b[0m\u001b[0m\n",
      "\u001b[1;32mc:\\users\\16sic\\appdata\\local\\programs\\python\\python37\\lib\\site-packages\\py2neo\\database.py\u001b[0m in \u001b[0;36m__init__\u001b[1;34m(self, profile, **settings)\u001b[0m\n\u001b[0;32m    117\u001b[0m             \u001b[1;31m# Ensures credentials are checked on construction\u001b[0m\u001b[1;33m\u001b[0m\u001b[1;33m\u001b[0m\u001b[1;33m\u001b[0m\u001b[0m\n\u001b[0;32m    118\u001b[0m             \u001b[0mconnector_settings\u001b[0m\u001b[1;33m[\u001b[0m\u001b[1;34m\"init_size\"\u001b[0m\u001b[1;33m]\u001b[0m \u001b[1;33m=\u001b[0m \u001b[1;36m1\u001b[0m\u001b[1;33m\u001b[0m\u001b[1;33m\u001b[0m\u001b[0m\n\u001b[1;32m--> 119\u001b[1;33m         \u001b[0mself\u001b[0m\u001b[1;33m.\u001b[0m\u001b[0m_connector\u001b[0m \u001b[1;33m=\u001b[0m \u001b[0mConnector\u001b[0m\u001b[1;33m(\u001b[0m\u001b[0mprofile\u001b[0m\u001b[1;33m,\u001b[0m \u001b[1;33m**\u001b[0m\u001b[0mconnector_settings\u001b[0m\u001b[1;33m)\u001b[0m\u001b[1;33m\u001b[0m\u001b[1;33m\u001b[0m\u001b[0m\n\u001b[0m\u001b[0;32m    120\u001b[0m         \u001b[0mself\u001b[0m\u001b[1;33m.\u001b[0m\u001b[0m_graphs\u001b[0m \u001b[1;33m=\u001b[0m \u001b[1;33m{\u001b[0m\u001b[1;33m}\u001b[0m\u001b[1;33m\u001b[0m\u001b[1;33m\u001b[0m\u001b[0m\n\u001b[0;32m    121\u001b[0m \u001b[1;33m\u001b[0m\u001b[0m\n",
      "\u001b[1;32mc:\\users\\16sic\\appdata\\local\\programs\\python\\python37\\lib\\site-packages\\py2neo\\client\\__init__.py\u001b[0m in \u001b[0;36m__init__\u001b[1;34m(self, profile, user_agent, init_size, max_size, max_age, routing_refresh_ttl)\u001b[0m\n\u001b[0;32m    944\u001b[0m         \u001b[1;32melse\u001b[0m\u001b[1;33m:\u001b[0m\u001b[1;33m\u001b[0m\u001b[1;33m\u001b[0m\u001b[0m\n\u001b[0;32m    945\u001b[0m             \u001b[0mself\u001b[0m\u001b[1;33m.\u001b[0m\u001b[0m_router\u001b[0m \u001b[1;33m=\u001b[0m \u001b[1;32mNone\u001b[0m\u001b[1;33m\u001b[0m\u001b[1;33m\u001b[0m\u001b[0m\n\u001b[1;32m--> 946\u001b[1;33m         \u001b[0mself\u001b[0m\u001b[1;33m.\u001b[0m\u001b[0m_add_pools\u001b[0m\u001b[1;33m(\u001b[0m\u001b[1;33m*\u001b[0m\u001b[0mself\u001b[0m\u001b[1;33m.\u001b[0m\u001b[0m_initial_routers\u001b[0m\u001b[1;33m)\u001b[0m\u001b[1;33m\u001b[0m\u001b[1;33m\u001b[0m\u001b[0m\n\u001b[0m\u001b[0;32m    947\u001b[0m         \u001b[1;32mif\u001b[0m \u001b[0mself\u001b[0m\u001b[1;33m.\u001b[0m\u001b[0m_profile\u001b[0m\u001b[1;33m.\u001b[0m\u001b[0mrouting\u001b[0m\u001b[1;33m:\u001b[0m\u001b[1;33m\u001b[0m\u001b[1;33m\u001b[0m\u001b[0m\n\u001b[0;32m    948\u001b[0m             \u001b[0mself\u001b[0m\u001b[1;33m.\u001b[0m\u001b[0mrefresh_routing_table\u001b[0m\u001b[1;33m(\u001b[0m\u001b[1;32mNone\u001b[0m\u001b[1;33m)\u001b[0m\u001b[1;33m\u001b[0m\u001b[1;33m\u001b[0m\u001b[0m\n",
      "\u001b[1;32mc:\\users\\16sic\\appdata\\local\\programs\\python\\python37\\lib\\site-packages\\py2neo\\client\\__init__.py\u001b[0m in \u001b[0;36m_add_pools\u001b[1;34m(self, *profiles)\u001b[0m\n\u001b[0;32m    974\u001b[0m                 \u001b[0mmax_size\u001b[0m\u001b[1;33m=\u001b[0m\u001b[0mself\u001b[0m\u001b[1;33m.\u001b[0m\u001b[0m_max_size\u001b[0m\u001b[1;33m,\u001b[0m\u001b[1;33m\u001b[0m\u001b[1;33m\u001b[0m\u001b[0m\n\u001b[0;32m    975\u001b[0m                 \u001b[0mmax_age\u001b[0m\u001b[1;33m=\u001b[0m\u001b[0mself\u001b[0m\u001b[1;33m.\u001b[0m\u001b[0m_max_age\u001b[0m\u001b[1;33m,\u001b[0m\u001b[1;33m\u001b[0m\u001b[1;33m\u001b[0m\u001b[0m\n\u001b[1;32m--> 976\u001b[1;33m                 on_broken=self._on_broken)\n\u001b[0m\u001b[0;32m    977\u001b[0m             \u001b[0mself\u001b[0m\u001b[1;33m.\u001b[0m\u001b[0m_pools\u001b[0m\u001b[1;33m[\u001b[0m\u001b[0mprofile\u001b[0m\u001b[1;33m]\u001b[0m \u001b[1;33m=\u001b[0m \u001b[0mpool\u001b[0m\u001b[1;33m\u001b[0m\u001b[1;33m\u001b[0m\u001b[0m\n\u001b[0;32m    978\u001b[0m \u001b[1;33m\u001b[0m\u001b[0m\n",
      "\u001b[1;32mc:\\users\\16sic\\appdata\\local\\programs\\python\\python37\\lib\\site-packages\\py2neo\\client\\__init__.py\u001b[0m in \u001b[0;36mopen\u001b[1;34m(cls, profile, user_agent, init_size, max_size, max_age, on_broken)\u001b[0m\n\u001b[0;32m    605\u001b[0m         \"\"\"\n\u001b[0;32m    606\u001b[0m         \u001b[0mpool\u001b[0m \u001b[1;33m=\u001b[0m \u001b[0mcls\u001b[0m\u001b[1;33m(\u001b[0m\u001b[0mprofile\u001b[0m\u001b[1;33m,\u001b[0m \u001b[0muser_agent\u001b[0m\u001b[1;33m,\u001b[0m \u001b[0mmax_size\u001b[0m\u001b[1;33m,\u001b[0m \u001b[0mmax_age\u001b[0m\u001b[1;33m,\u001b[0m \u001b[0mon_broken\u001b[0m\u001b[1;33m)\u001b[0m\u001b[1;33m\u001b[0m\u001b[1;33m\u001b[0m\u001b[0m\n\u001b[1;32m--> 607\u001b[1;33m         \u001b[0mseeds\u001b[0m \u001b[1;33m=\u001b[0m \u001b[1;33m[\u001b[0m\u001b[0mpool\u001b[0m\u001b[1;33m.\u001b[0m\u001b[0macquire\u001b[0m\u001b[1;33m(\u001b[0m\u001b[1;33m)\u001b[0m \u001b[1;32mfor\u001b[0m \u001b[0m_\u001b[0m \u001b[1;32min\u001b[0m \u001b[0mrange\u001b[0m\u001b[1;33m(\u001b[0m\u001b[0minit_size\u001b[0m \u001b[1;32mor\u001b[0m \u001b[0mcls\u001b[0m\u001b[1;33m.\u001b[0m\u001b[0mdefault_init_size\u001b[0m\u001b[1;33m)\u001b[0m\u001b[1;33m]\u001b[0m\u001b[1;33m\u001b[0m\u001b[1;33m\u001b[0m\u001b[0m\n\u001b[0m\u001b[0;32m    608\u001b[0m         \u001b[1;32mfor\u001b[0m \u001b[0mseed\u001b[0m \u001b[1;32min\u001b[0m \u001b[0mseeds\u001b[0m\u001b[1;33m:\u001b[0m\u001b[1;33m\u001b[0m\u001b[1;33m\u001b[0m\u001b[0m\n\u001b[0;32m    609\u001b[0m             \u001b[0mseed\u001b[0m\u001b[1;33m.\u001b[0m\u001b[0mrelease\u001b[0m\u001b[1;33m(\u001b[0m\u001b[1;33m)\u001b[0m\u001b[1;33m\u001b[0m\u001b[1;33m\u001b[0m\u001b[0m\n",
      "\u001b[1;32mc:\\users\\16sic\\appdata\\local\\programs\\python\\python37\\lib\\site-packages\\py2neo\\client\\__init__.py\u001b[0m in \u001b[0;36m<listcomp>\u001b[1;34m(.0)\u001b[0m\n\u001b[0;32m    605\u001b[0m         \"\"\"\n\u001b[0;32m    606\u001b[0m         \u001b[0mpool\u001b[0m \u001b[1;33m=\u001b[0m \u001b[0mcls\u001b[0m\u001b[1;33m(\u001b[0m\u001b[0mprofile\u001b[0m\u001b[1;33m,\u001b[0m \u001b[0muser_agent\u001b[0m\u001b[1;33m,\u001b[0m \u001b[0mmax_size\u001b[0m\u001b[1;33m,\u001b[0m \u001b[0mmax_age\u001b[0m\u001b[1;33m,\u001b[0m \u001b[0mon_broken\u001b[0m\u001b[1;33m)\u001b[0m\u001b[1;33m\u001b[0m\u001b[1;33m\u001b[0m\u001b[0m\n\u001b[1;32m--> 607\u001b[1;33m         \u001b[0mseeds\u001b[0m \u001b[1;33m=\u001b[0m \u001b[1;33m[\u001b[0m\u001b[0mpool\u001b[0m\u001b[1;33m.\u001b[0m\u001b[0macquire\u001b[0m\u001b[1;33m(\u001b[0m\u001b[1;33m)\u001b[0m \u001b[1;32mfor\u001b[0m \u001b[0m_\u001b[0m \u001b[1;32min\u001b[0m \u001b[0mrange\u001b[0m\u001b[1;33m(\u001b[0m\u001b[0minit_size\u001b[0m \u001b[1;32mor\u001b[0m \u001b[0mcls\u001b[0m\u001b[1;33m.\u001b[0m\u001b[0mdefault_init_size\u001b[0m\u001b[1;33m)\u001b[0m\u001b[1;33m]\u001b[0m\u001b[1;33m\u001b[0m\u001b[1;33m\u001b[0m\u001b[0m\n\u001b[0m\u001b[0;32m    608\u001b[0m         \u001b[1;32mfor\u001b[0m \u001b[0mseed\u001b[0m \u001b[1;32min\u001b[0m \u001b[0mseeds\u001b[0m\u001b[1;33m:\u001b[0m\u001b[1;33m\u001b[0m\u001b[1;33m\u001b[0m\u001b[0m\n\u001b[0;32m    609\u001b[0m             \u001b[0mseed\u001b[0m\u001b[1;33m.\u001b[0m\u001b[0mrelease\u001b[0m\u001b[1;33m(\u001b[0m\u001b[1;33m)\u001b[0m\u001b[1;33m\u001b[0m\u001b[1;33m\u001b[0m\u001b[0m\n",
      "\u001b[1;32mc:\\users\\16sic\\appdata\\local\\programs\\python\\python37\\lib\\site-packages\\py2neo\\client\\__init__.py\u001b[0m in \u001b[0;36macquire\u001b[1;34m(self, force_reset, can_overfill)\u001b[0m\n\u001b[0;32m    797\u001b[0m                     \u001b[1;31m# ConnectionUnavailable exception, which\u001b[0m\u001b[1;33m\u001b[0m\u001b[1;33m\u001b[0m\u001b[1;33m\u001b[0m\u001b[0m\n\u001b[0;32m    798\u001b[0m                     \u001b[1;31m# should bubble up to the caller.\u001b[0m\u001b[1;33m\u001b[0m\u001b[1;33m\u001b[0m\u001b[1;33m\u001b[0m\u001b[0m\n\u001b[1;32m--> 799\u001b[1;33m                     \u001b[0mcx\u001b[0m \u001b[1;33m=\u001b[0m \u001b[0mself\u001b[0m\u001b[1;33m.\u001b[0m\u001b[0mconnect\u001b[0m\u001b[1;33m(\u001b[0m\u001b[1;33m)\u001b[0m\u001b[1;33m\u001b[0m\u001b[1;33m\u001b[0m\u001b[0m\n\u001b[0m\u001b[0;32m    800\u001b[0m                     \u001b[1;32mif\u001b[0m \u001b[0mcx\u001b[0m\u001b[1;33m.\u001b[0m\u001b[0msupports_multi\u001b[0m\u001b[1;33m(\u001b[0m\u001b[1;33m)\u001b[0m\u001b[1;33m:\u001b[0m\u001b[1;33m\u001b[0m\u001b[1;33m\u001b[0m\u001b[0m\n\u001b[0;32m    801\u001b[0m                         \u001b[0mself\u001b[0m\u001b[1;33m.\u001b[0m\u001b[0m_supports_multi\u001b[0m \u001b[1;33m=\u001b[0m \u001b[1;32mTrue\u001b[0m\u001b[1;33m\u001b[0m\u001b[1;33m\u001b[0m\u001b[0m\n",
      "\u001b[1;32mc:\\users\\16sic\\appdata\\local\\programs\\python\\python37\\lib\\site-packages\\py2neo\\client\\__init__.py\u001b[0m in \u001b[0;36mconnect\u001b[1;34m(self)\u001b[0m\n\u001b[0;32m    749\u001b[0m         cx = Connection.open(self.profile, user_agent=self.user_agent,\n\u001b[0;32m    750\u001b[0m                              \u001b[0mon_release\u001b[0m\u001b[1;33m=\u001b[0m\u001b[1;32mlambda\u001b[0m \u001b[0mc\u001b[0m\u001b[1;33m:\u001b[0m \u001b[0mself\u001b[0m\u001b[1;33m.\u001b[0m\u001b[0mrelease\u001b[0m\u001b[1;33m(\u001b[0m\u001b[0mc\u001b[0m\u001b[1;33m)\u001b[0m\u001b[1;33m,\u001b[0m\u001b[1;33m\u001b[0m\u001b[1;33m\u001b[0m\u001b[0m\n\u001b[1;32m--> 751\u001b[1;33m                              on_broken=lambda msg: self.__on_broken(msg))\n\u001b[0m\u001b[0;32m    752\u001b[0m         \u001b[0mself\u001b[0m\u001b[1;33m.\u001b[0m\u001b[0m_server_agent\u001b[0m \u001b[1;33m=\u001b[0m \u001b[0mcx\u001b[0m\u001b[1;33m.\u001b[0m\u001b[0mserver_agent\u001b[0m\u001b[1;33m\u001b[0m\u001b[1;33m\u001b[0m\u001b[0m\n\u001b[0;32m    753\u001b[0m         \u001b[0mself\u001b[0m\u001b[1;33m.\u001b[0m\u001b[0m_opened_list\u001b[0m\u001b[1;33m.\u001b[0m\u001b[0mappend\u001b[0m\u001b[1;33m(\u001b[0m\u001b[0mcx\u001b[0m\u001b[1;33m)\u001b[0m\u001b[1;33m\u001b[0m\u001b[1;33m\u001b[0m\u001b[0m\n",
      "\u001b[1;32mc:\\users\\16sic\\appdata\\local\\programs\\python\\python37\\lib\\site-packages\\py2neo\\client\\__init__.py\u001b[0m in \u001b[0;36mopen\u001b[1;34m(cls, profile, user_agent, on_release, on_broken)\u001b[0m\n\u001b[0;32m    172\u001b[0m             \u001b[1;32mfrom\u001b[0m \u001b[0mpy2neo\u001b[0m\u001b[1;33m.\u001b[0m\u001b[0mclient\u001b[0m\u001b[1;33m.\u001b[0m\u001b[0mbolt\u001b[0m \u001b[1;32mimport\u001b[0m \u001b[0mBolt\u001b[0m\u001b[1;33m\u001b[0m\u001b[1;33m\u001b[0m\u001b[0m\n\u001b[0;32m    173\u001b[0m             return Bolt.open(profile, user_agent=user_agent,\n\u001b[1;32m--> 174\u001b[1;33m                              on_release=on_release, on_broken=on_broken)\n\u001b[0m\u001b[0;32m    175\u001b[0m         \u001b[1;32melif\u001b[0m \u001b[0mprofile\u001b[0m\u001b[1;33m.\u001b[0m\u001b[0mprotocol\u001b[0m \u001b[1;33m==\u001b[0m \u001b[1;34m\"http\"\u001b[0m\u001b[1;33m:\u001b[0m\u001b[1;33m\u001b[0m\u001b[1;33m\u001b[0m\u001b[0m\n\u001b[0;32m    176\u001b[0m             \u001b[1;32mfrom\u001b[0m \u001b[0mpy2neo\u001b[0m\u001b[1;33m.\u001b[0m\u001b[0mclient\u001b[0m\u001b[1;33m.\u001b[0m\u001b[0mhttp\u001b[0m \u001b[1;32mimport\u001b[0m \u001b[0mHTTP\u001b[0m\u001b[1;33m\u001b[0m\u001b[1;33m\u001b[0m\u001b[0m\n",
      "\u001b[1;32mc:\\users\\16sic\\appdata\\local\\programs\\python\\python37\\lib\\site-packages\\py2neo\\client\\bolt.py\u001b[0m in \u001b[0;36mopen\u001b[1;34m(cls, profile, user_agent, on_release, on_broken)\u001b[0m\n\u001b[0;32m    266\u001b[0m                 \u001b[1;32mraise\u001b[0m \u001b[0mTypeError\u001b[0m\u001b[1;33m(\u001b[0m\u001b[1;34m\"Unable to agree supported protocol version\"\u001b[0m\u001b[1;33m)\u001b[0m\u001b[1;33m\u001b[0m\u001b[1;33m\u001b[0m\u001b[0m\n\u001b[0;32m    267\u001b[0m             \u001b[0mbolt\u001b[0m \u001b[1;33m=\u001b[0m \u001b[0msubclass\u001b[0m\u001b[1;33m(\u001b[0m\u001b[0mwire\u001b[0m\u001b[1;33m,\u001b[0m \u001b[0mprofile\u001b[0m\u001b[1;33m,\u001b[0m \u001b[0mon_release\u001b[0m\u001b[1;33m=\u001b[0m\u001b[0mon_release\u001b[0m\u001b[1;33m)\u001b[0m\u001b[1;33m\u001b[0m\u001b[1;33m\u001b[0m\u001b[0m\n\u001b[1;32m--> 268\u001b[1;33m             \u001b[0mbolt\u001b[0m\u001b[1;33m.\u001b[0m\u001b[0m_hello\u001b[0m\u001b[1;33m(\u001b[0m\u001b[0muser_agent\u001b[0m \u001b[1;32mor\u001b[0m \u001b[0mbolt_user_agent\u001b[0m\u001b[1;33m(\u001b[0m\u001b[1;33m)\u001b[0m\u001b[1;33m)\u001b[0m\u001b[1;33m\u001b[0m\u001b[1;33m\u001b[0m\u001b[0m\n\u001b[0m\u001b[0;32m    269\u001b[0m             \u001b[1;32mreturn\u001b[0m \u001b[0mbolt\u001b[0m\u001b[1;33m\u001b[0m\u001b[1;33m\u001b[0m\u001b[0m\n\u001b[0;32m    270\u001b[0m         \u001b[1;32mexcept\u001b[0m \u001b[1;33m(\u001b[0m\u001b[0mTypeError\u001b[0m\u001b[1;33m,\u001b[0m \u001b[0mWireError\u001b[0m\u001b[1;33m)\u001b[0m \u001b[1;32mas\u001b[0m \u001b[0merror\u001b[0m\u001b[1;33m:\u001b[0m\u001b[1;33m\u001b[0m\u001b[1;33m\u001b[0m\u001b[0m\n",
      "\u001b[1;32mc:\\users\\16sic\\appdata\\local\\programs\\python\\python37\\lib\\site-packages\\py2neo\\client\\bolt.py\u001b[0m in \u001b[0;36m_hello\u001b[1;34m(self, user_agent)\u001b[0m\n\u001b[0;32m    813\u001b[0m         \u001b[0mself\u001b[0m\u001b[1;33m.\u001b[0m\u001b[0msend\u001b[0m\u001b[1;33m(\u001b[0m\u001b[1;33m)\u001b[0m\u001b[1;33m\u001b[0m\u001b[1;33m\u001b[0m\u001b[0m\n\u001b[0;32m    814\u001b[0m         \u001b[0mself\u001b[0m\u001b[1;33m.\u001b[0m\u001b[0m_fetch\u001b[0m\u001b[1;33m(\u001b[0m\u001b[1;33m)\u001b[0m\u001b[1;33m\u001b[0m\u001b[1;33m\u001b[0m\u001b[0m\n\u001b[1;32m--> 815\u001b[1;33m         \u001b[0mself\u001b[0m\u001b[1;33m.\u001b[0m\u001b[0m_audit\u001b[0m\u001b[1;33m(\u001b[0m\u001b[0mresponse\u001b[0m\u001b[1;33m)\u001b[0m\u001b[1;33m\u001b[0m\u001b[1;33m\u001b[0m\u001b[0m\n\u001b[0m\u001b[0;32m    816\u001b[0m         \u001b[0mself\u001b[0m\u001b[1;33m.\u001b[0m\u001b[0mserver_agent\u001b[0m \u001b[1;33m=\u001b[0m \u001b[0mresponse\u001b[0m\u001b[1;33m.\u001b[0m\u001b[0mmetadata\u001b[0m\u001b[1;33m.\u001b[0m\u001b[0mget\u001b[0m\u001b[1;33m(\u001b[0m\u001b[1;34m\"server\"\u001b[0m\u001b[1;33m)\u001b[0m\u001b[1;33m\u001b[0m\u001b[1;33m\u001b[0m\u001b[0m\n\u001b[0;32m    817\u001b[0m         \u001b[0mself\u001b[0m\u001b[1;33m.\u001b[0m\u001b[0mconnection_id\u001b[0m \u001b[1;33m=\u001b[0m \u001b[0mresponse\u001b[0m\u001b[1;33m.\u001b[0m\u001b[0mmetadata\u001b[0m\u001b[1;33m.\u001b[0m\u001b[0mget\u001b[0m\u001b[1;33m(\u001b[0m\u001b[1;34m\"connection_id\"\u001b[0m\u001b[1;33m)\u001b[0m\u001b[1;33m\u001b[0m\u001b[1;33m\u001b[0m\u001b[0m\n",
      "\u001b[1;32mc:\\users\\16sic\\appdata\\local\\programs\\python\\python37\\lib\\site-packages\\py2neo\\client\\bolt.py\u001b[0m in \u001b[0;36m_audit\u001b[1;34m(self, task)\u001b[0m\n\u001b[0;32m    758\u001b[0m             \u001b[0mtask\u001b[0m\u001b[1;33m.\u001b[0m\u001b[0maudit\u001b[0m\u001b[1;33m(\u001b[0m\u001b[1;33m)\u001b[0m\u001b[1;33m\u001b[0m\u001b[1;33m\u001b[0m\u001b[0m\n\u001b[0;32m    759\u001b[0m         \u001b[1;32mexcept\u001b[0m \u001b[0mNeo4jError\u001b[0m\u001b[1;33m:\u001b[0m\u001b[1;33m\u001b[0m\u001b[1;33m\u001b[0m\u001b[0m\n\u001b[1;32m--> 760\u001b[1;33m             \u001b[0mself\u001b[0m\u001b[1;33m.\u001b[0m\u001b[0mreset\u001b[0m\u001b[1;33m(\u001b[0m\u001b[0mforce\u001b[0m\u001b[1;33m=\u001b[0m\u001b[1;32mTrue\u001b[0m\u001b[1;33m)\u001b[0m\u001b[1;33m\u001b[0m\u001b[1;33m\u001b[0m\u001b[0m\n\u001b[0m\u001b[0;32m    761\u001b[0m             \u001b[1;32mraise\u001b[0m\u001b[1;33m\u001b[0m\u001b[1;33m\u001b[0m\u001b[0m\n\u001b[0;32m    762\u001b[0m         \u001b[1;32mfinally\u001b[0m\u001b[1;33m:\u001b[0m\u001b[1;33m\u001b[0m\u001b[1;33m\u001b[0m\u001b[0m\n",
      "\u001b[1;32mc:\\users\\16sic\\appdata\\local\\programs\\python\\python37\\lib\\site-packages\\py2neo\\client\\bolt.py\u001b[0m in \u001b[0;36mreset\u001b[1;34m(self, force)\u001b[0m\n\u001b[0;32m    419\u001b[0m \u001b[1;33m\u001b[0m\u001b[0m\n\u001b[0;32m    420\u001b[0m     \u001b[1;32mdef\u001b[0m \u001b[0mreset\u001b[0m\u001b[1;33m(\u001b[0m\u001b[0mself\u001b[0m\u001b[1;33m,\u001b[0m \u001b[0mforce\u001b[0m\u001b[1;33m=\u001b[0m\u001b[1;32mFalse\u001b[0m\u001b[1;33m)\u001b[0m\u001b[1;33m:\u001b[0m\u001b[1;33m\u001b[0m\u001b[1;33m\u001b[0m\u001b[0m\n\u001b[1;32m--> 421\u001b[1;33m         \u001b[0mself\u001b[0m\u001b[1;33m.\u001b[0m\u001b[0m_assert_open\u001b[0m\u001b[1;33m(\u001b[0m\u001b[1;33m)\u001b[0m\u001b[1;33m\u001b[0m\u001b[1;33m\u001b[0m\u001b[0m\n\u001b[0m\u001b[0;32m    422\u001b[0m         \u001b[1;32mif\u001b[0m \u001b[0mforce\u001b[0m \u001b[1;32mor\u001b[0m \u001b[0mself\u001b[0m\u001b[1;33m.\u001b[0m\u001b[0m_transaction\u001b[0m\u001b[1;33m:\u001b[0m\u001b[1;33m\u001b[0m\u001b[1;33m\u001b[0m\u001b[0m\n\u001b[0;32m    423\u001b[0m             \u001b[0mresponse\u001b[0m \u001b[1;33m=\u001b[0m \u001b[0mself\u001b[0m\u001b[1;33m.\u001b[0m\u001b[0mappend_message\u001b[0m\u001b[1;33m(\u001b[0m\u001b[1;36m0x0F\u001b[0m\u001b[1;33m,\u001b[0m \u001b[0mvital\u001b[0m\u001b[1;33m=\u001b[0m\u001b[1;32mTrue\u001b[0m\u001b[1;33m)\u001b[0m\u001b[1;33m\u001b[0m\u001b[1;33m\u001b[0m\u001b[0m\n",
      "\u001b[1;32mc:\\users\\16sic\\appdata\\local\\programs\\python\\python37\\lib\\site-packages\\py2neo\\client\\bolt.py\u001b[0m in \u001b[0;36m_assert_open\u001b[1;34m(self)\u001b[0m\n\u001b[0;32m    362\u001b[0m     \u001b[1;32mdef\u001b[0m \u001b[0m_assert_open\u001b[0m\u001b[1;33m(\u001b[0m\u001b[0mself\u001b[0m\u001b[1;33m)\u001b[0m\u001b[1;33m:\u001b[0m\u001b[1;33m\u001b[0m\u001b[1;33m\u001b[0m\u001b[0m\n\u001b[0;32m    363\u001b[0m         \u001b[1;32mif\u001b[0m \u001b[0mself\u001b[0m\u001b[1;33m.\u001b[0m\u001b[0mclosed\u001b[0m\u001b[1;33m:\u001b[0m\u001b[1;33m\u001b[0m\u001b[1;33m\u001b[0m\u001b[0m\n\u001b[1;32m--> 364\u001b[1;33m             \u001b[1;32mraise\u001b[0m \u001b[0mConnectionUnavailable\u001b[0m\u001b[1;33m(\u001b[0m\u001b[1;34m\"Connection has been closed\"\u001b[0m\u001b[1;33m)\u001b[0m\u001b[1;33m\u001b[0m\u001b[1;33m\u001b[0m\u001b[0m\n\u001b[0m\u001b[0;32m    365\u001b[0m         \u001b[1;32mif\u001b[0m \u001b[0mself\u001b[0m\u001b[1;33m.\u001b[0m\u001b[0mbroken\u001b[0m\u001b[1;33m:\u001b[0m\u001b[1;33m\u001b[0m\u001b[1;33m\u001b[0m\u001b[0m\n\u001b[0;32m    366\u001b[0m             \u001b[1;32mraise\u001b[0m \u001b[0mConnectionUnavailable\u001b[0m\u001b[1;33m(\u001b[0m\u001b[1;34m\"Connection is broken\"\u001b[0m\u001b[1;33m)\u001b[0m\u001b[1;33m\u001b[0m\u001b[1;33m\u001b[0m\u001b[0m\n",
      "\u001b[1;31mConnectionUnavailable\u001b[0m: Connection has been closed"
     ]
    }
   ],
   "source": [
    "import pymongo\n",
    "from pymongo import MongoClient\n",
    "from jsonschema import validate\n",
    "import json\n",
    "from dataclasses import dataclass, asdict, field,make_dataclass\n",
    "from dataclasses_json import config, dataclass_json\n",
    "from py2neo import NodeMatcher, Graph, Node, Relationship, RelationshipMatcher\n",
    "from scalpl import Cut\n",
    "from faker import Faker\n",
    "import random\n",
    "\n",
    "fake = Faker()\n",
    "graph = Graph(password=\"12345\")\n",
    "node = Node()"
   ]
  },
  {
   "cell_type": "code",
   "execution_count": 18,
   "id": "4795812a",
   "metadata": {},
   "outputs": [],
   "source": [
    "@dataclass_json\n",
    "@dataclass(order=True, frozen=True)\n",
    "class graphfield_d:\n",
    "    labels: dict = field(default_factory=list) # node/link type\n",
    "    score_ttp: str = \" \" # ??\n",
    "    mitre_attack: dict = field(default_factory=list, metadata=config(field_name=\"mitre-attack\"))\n",
    "    ids: dict = field(default_factory=list) # property id\n",
    "\n",
    "@dataclass_json            \n",
    "@dataclass(order=True, frozen=True)\n",
    "class node:\n",
    "    id: str # uniwue node id\n",
    "    parentId: str = \" \"# node grouping id\n",
    "    type: str = \"node\"\n",
    "    t: str = \"\" # node display title\n",
    "    d: dict = field(default_factory=graphfield_d)\n",
    "    tag: int = 0\n",
    "        \n",
    "@dataclass_json            \n",
    "@dataclass(order=True, frozen=True)\n",
    "class link:\n",
    "    dt: list = field(default_factory=list)\n",
    "    a2: str = \"true\"\n",
    "    id1: str = \" \"\n",
    "    id2: str = \" \"\n",
    "    id: str = \" \"\n",
    "    type: str = \"link\"\n",
    "    t: str = \"\" # node display title\n",
    "    d: dict = field(default_factory=graphfield_d)\n",
    "\n",
    "@dataclass_json            \n",
    "@dataclass(order=True, frozen=True)\n",
    "class graphData_l2:\n",
    "    type: str = \"LinkChart\"\n",
    "    items: list = field(default_factory=list)\n",
    "        \n",
    "@dataclass_json            \n",
    "@dataclass(order=True, frozen=True)\n",
    "class graphData_l1:\n",
    "    _id: str = \"000\"\n",
    "    type: str = \"graphData\"\n",
    "    data: dict = field(default_factory=graphData_l2)\n",
    "        \n",
    "@dataclass_json            \n",
    "@dataclass(order=True, frozen=True)\n",
    "class property_l2:\n",
    "    ComputerName: str\n",
    "    Account_Name: str\n",
    "    Creator_Process_Name: str\n",
    "    Creator_Process_ID: str\n",
    "    EventCode: str\n",
    "    New_Process_ID: str\n",
    "    New_Process_Name: str\n",
    "    OriginatingComputerName: str\n",
    "    RecordNumber: str\n",
    "    _time: str\n",
    "    Process_Command_Line: str\n",
    "    custodio_time: int\n",
    "    path: str\n",
    "    Title: list = field(default_factory=list)\n",
    "        \n",
    "@dataclass_json            \n",
    "@dataclass(order=True, frozen=True)\n",
    "class property_l1:\n",
    "    _id: str = \"000\"\n",
    "    type: str = \"property\"\n",
    "    id: str = \" \"\n",
    "    Properties: dict = field(default_factory=property_l2)"
   ]
  },
  {
   "cell_type": "code",
   "execution_count": 19,
   "id": "e2b106e8",
   "metadata": {},
   "outputs": [],
   "source": [
    "def create_node(id, title, labelslist, mitrelist):\n",
    "    graphfield_d_template = graphfield_d(labels=labelslist, mitre_attack=mitrelist)\n",
    "    node_template = node(id= id, t=title, d=graphfield_d_template)\n",
    "    node_data = node_template.to_dict()\n",
    "    return node_data\n",
    "\n",
    "def create_link(id, datetimelist, id1, id2, linkname, propertyidlist, mitrelist):\n",
    "    graphfield_d_template = graphfield_d(ids=propertyidlist, mitre_attack=mitrelist)\n",
    "    link_template = link(\n",
    "        id= id,\n",
    "        dt=datetimelist,\n",
    "        id1=id1,\n",
    "        id2=id2,\n",
    "        t= linkname,\n",
    "        d= graphfield_d_template)\n",
    "    link_data = link_template.to_dict()\n",
    "    return link_data\n",
    "\n",
    "def create_graphdata(items_data):\n",
    "    graphData_l2_template = graphData_l2(items=items_data)\n",
    "    graphData_l1_template = graphData_l1(data = graphData_l2_template)\n",
    "    graphData_l1_data = graphData_l1_template.to_dict()\n",
    "    return graphData_l1_data\n",
    "\n",
    "def create_property(id,\n",
    "                    ComputerName, \n",
    "                    Account_Name, \n",
    "                    Creator_Process_Name, \n",
    "                    Creator_Process_ID, \n",
    "                    EventCode, \n",
    "                    New_Process_ID, \n",
    "                    New_Process_Name,\n",
    "                   OriginatingComputerName,\n",
    "                   RecordNumber,\n",
    "                   _time,\n",
    "                   Process_Command_Line,\n",
    "                   custodio_time,\n",
    "                   path,\n",
    "                   Title):\n",
    "    property_l2_template = property_l2(\n",
    "        ComputerName = ComputerName,\n",
    "        Account_Name=  Account_Name,\n",
    "        Creator_Process_Name=  Creator_Process_Name,\n",
    "        Creator_Process_ID=  Creator_Process_ID,\n",
    "        EventCode= EventCode,\n",
    "        New_Process_ID=  New_Process_ID,\n",
    "        New_Process_Name=  New_Process_Name,\n",
    "        OriginatingComputerName=  OriginatingComputerName,\n",
    "        RecordNumber=  RecordNumber,\n",
    "        _time=  _time,\n",
    "        Process_Command_Line=  Process_Command_Line,\n",
    "        custodio_time= custodio_time,\n",
    "        path=  path,\n",
    "        Title=  Title)\n",
    "    property_l1_template = property_l1(id = \"1\", Properties= property_l2_template)\n",
    "    property_l1_data = property_l1_template.to_dict()\n",
    "    return property_l1_data"
   ]
  },
  {
   "cell_type": "code",
   "execution_count": 20,
   "id": "25d57730",
   "metadata": {},
   "outputs": [],
   "source": [
    "nodedata = [(\"servicehost.exe\", \"process\", \"T1045\"),\n",
    "           (\"someprocess.exe\", \"process\", \"T1045\")\n",
    "           ]\n",
    "\n",
    "nodepack = []\n",
    "for i, data in enumerate(nodedata, start=1):\n",
    "    temp = create_node(i, title=data[0], labelslist = data[1], mitrelist = data[2])\n",
    "    nodepack.append(temp)"
   ]
  },
  {
   "cell_type": "code",
   "execution_count": 21,
   "id": "5470b020",
   "metadata": {},
   "outputs": [
    {
     "data": {
      "text/plain": [
       "[{'id': 1,\n",
       "  'parentId': ' ',\n",
       "  'type': 'node',\n",
       "  't': 'servicehost.exe',\n",
       "  'd': {'labels': 'process',\n",
       "   'score_ttp': ' ',\n",
       "   'mitre-attack': 'T1045',\n",
       "   'ids': []},\n",
       "  'tag': 0},\n",
       " {'id': 2,\n",
       "  'parentId': ' ',\n",
       "  'type': 'node',\n",
       "  't': 'someprocess.exe',\n",
       "  'd': {'labels': 'process',\n",
       "   'score_ttp': ' ',\n",
       "   'mitre-attack': 'T1045',\n",
       "   'ids': []},\n",
       "  'tag': 0}]"
      ]
     },
     "execution_count": 21,
     "metadata": {},
     "output_type": "execute_result"
    }
   ],
   "source": [
    "nodepack"
   ]
  },
  {
   "cell_type": "code",
   "execution_count": 22,
   "id": "13f1c19d",
   "metadata": {},
   "outputs": [],
   "source": [
    "link1 = create_link(\"1\", [12222, 212121], \"1\", \"2\", \"created\", [\"101\"], [\"T1022\"])"
   ]
  },
  {
   "cell_type": "code",
   "execution_count": 23,
   "id": "4ec9a7f2",
   "metadata": {},
   "outputs": [
    {
     "data": {
      "text/plain": [
       "{'_id': '000',\n",
       " 'type': 'property',\n",
       " 'id': '1',\n",
       " 'Properties': {'ComputerName': 'DESKTOP-GNSLAB2.STELLA.LOCAL\\t',\n",
       "  'Account_Name': 'DESKTOP-GNSLAB2$',\n",
       "  'Creator_Process_Name': ' C:\\\\Program Files\\\\SplunkUniversalForwarder\\\\bin\\\\splunkd.exe  ',\n",
       "  'Creator_Process_ID': ' 0x728  ',\n",
       "  'EventCode': '4688',\n",
       "  'New_Process_ID': '  0x14c8  ',\n",
       "  'New_Process_Name': ' C:\\\\Program Files\\\\SplunkUniversalForwarder\\\\bin\\\\splunk-winprintmon.exe  ',\n",
       "  'OriginatingComputerName': '10.0.5.112\\t',\n",
       "  'RecordNumber': '968797\\t',\n",
       "  '_time': '2020-05-08 11:01:11',\n",
       "  'Process_Command_Line': ' \"C:\\\\Program Files\\\\SplunkUniversalForwarder\\\\bin\\\\splunk-winprintmon.exe\"  ',\n",
       "  'custodio_time': 1588935671000,\n",
       "  'path': ' C:\\\\Program Files\\\\SplunkUniversalForwarder\\\\bin\\\\splunk-winprintmon.exe  ',\n",
       "  'Title': ['splunk-winprintmon.exe']}}"
      ]
     },
     "execution_count": 23,
     "metadata": {},
     "output_type": "execute_result"
    }
   ],
   "source": [
    "property1 = create_property(\n",
    "        id = \"1\",\n",
    "        ComputerName = \"DESKTOP-GNSLAB2.STELLA.LOCAL\\t\",\n",
    "        Account_Name=  \"DESKTOP-GNSLAB2$\",\n",
    "        Creator_Process_Name=  \" C:\\\\Program Files\\\\SplunkUniversalForwarder\\\\bin\\\\splunkd.exe  \",\n",
    "        Creator_Process_ID=  \" 0x728  \",\n",
    "        EventCode= \"4688\",\n",
    "        New_Process_ID=  \"  0x14c8  \",\n",
    "        New_Process_Name=  \" C:\\\\Program Files\\\\SplunkUniversalForwarder\\\\bin\\\\splunk-winprintmon.exe  \",\n",
    "        OriginatingComputerName=  \"10.0.5.112\\t\",\n",
    "        RecordNumber=  \"968797\\t\",\n",
    "        _time=  \"2020-05-08 11:01:11\",\n",
    "        Process_Command_Line=  \" \\\"C:\\\\Program Files\\\\SplunkUniversalForwarder\\\\bin\\\\splunk-winprintmon.exe\\\"  \",\n",
    "        custodio_time=  1588935671000,\n",
    "        path=  \" C:\\\\Program Files\\\\SplunkUniversalForwarder\\\\bin\\\\splunk-winprintmon.exe  \",\n",
    "        Title=  [\n",
    "          \"splunk-winprintmon.exe\"\n",
    "        ])\n",
    "property1"
   ]
  },
  {
   "cell_type": "code",
   "execution_count": 11,
   "id": "3ac48d7e",
   "metadata": {},
   "outputs": [
    {
     "ename": "NameError",
     "evalue": "name 'node1' is not defined",
     "output_type": "error",
     "traceback": [
      "\u001b[1;31m---------------------------------------------------------------------------\u001b[0m",
      "\u001b[1;31mNameError\u001b[0m                                 Traceback (most recent call last)",
      "\u001b[1;32m<ipython-input-11-9b4ac07eab02>\u001b[0m in \u001b[0;36m<module>\u001b[1;34m\u001b[0m\n\u001b[1;32m----> 1\u001b[1;33m \u001b[0mgraphdata1\u001b[0m \u001b[1;33m=\u001b[0m \u001b[0mcreate_graphdata\u001b[0m\u001b[1;33m(\u001b[0m\u001b[1;33m[\u001b[0m\u001b[0mnode1\u001b[0m\u001b[1;33m,\u001b[0m \u001b[0mnode2\u001b[0m\u001b[1;33m,\u001b[0m \u001b[0mlink1\u001b[0m\u001b[1;33m]\u001b[0m\u001b[1;33m)\u001b[0m\u001b[1;33m\u001b[0m\u001b[1;33m\u001b[0m\u001b[0m\n\u001b[0m\u001b[0;32m      2\u001b[0m data = [\n\u001b[0;32m      3\u001b[0m     \u001b[0mgraphdata1\u001b[0m\u001b[1;33m,\u001b[0m\u001b[1;33m\u001b[0m\u001b[1;33m\u001b[0m\u001b[0m\n\u001b[0;32m      4\u001b[0m     \u001b[0mproperty1\u001b[0m\u001b[1;33m\u001b[0m\u001b[1;33m\u001b[0m\u001b[0m\n\u001b[0;32m      5\u001b[0m ]\n",
      "\u001b[1;31mNameError\u001b[0m: name 'node1' is not defined"
     ]
    }
   ],
   "source": [
    "graphdata1 = create_graphdata([node1, node2, link1])\n",
    "data = [\n",
    "    graphdata1,\n",
    "    property1\n",
    "]\n",
    "data"
   ]
  },
  {
   "cell_type": "markdown",
   "id": "042d60b9",
   "metadata": {},
   "source": [
    "# Synthetic Data"
   ]
  },
  {
   "cell_type": "code",
   "execution_count": 24,
   "id": "dc8597a5",
   "metadata": {},
   "outputs": [],
   "source": [
    "fakemitre = [\"T1022\", \"T9433\"]"
   ]
  },
  {
   "cell_type": "code",
   "execution_count": 25,
   "id": "c60b3b28",
   "metadata": {},
   "outputs": [
    {
     "data": {
      "text/plain": [
       "[{'id': 0,\n",
       "  'parentId': ' ',\n",
       "  'type': 'node',\n",
       "  't': 'happy.odp',\n",
       "  'd': {'labels': ['think'],\n",
       "   'score_ttp': ' ',\n",
       "   'mitre-attack': ['T9433'],\n",
       "   'ids': []},\n",
       "  'tag': 0},\n",
       " {'id': 1,\n",
       "  'parentId': ' ',\n",
       "  'type': 'node',\n",
       "  't': 'authority.mp3',\n",
       "  'd': {'labels': ['traditional'],\n",
       "   'score_ttp': ' ',\n",
       "   'mitre-attack': ['T1022'],\n",
       "   'ids': []},\n",
       "  'tag': 0},\n",
       " {'id': 2,\n",
       "  'parentId': ' ',\n",
       "  'type': 'node',\n",
       "  't': 'interview.avi',\n",
       "  'd': {'labels': ['decade'],\n",
       "   'score_ttp': ' ',\n",
       "   'mitre-attack': ['T9433'],\n",
       "   'ids': []},\n",
       "  'tag': 0},\n",
       " {'id': 3,\n",
       "  'parentId': ' ',\n",
       "  'type': 'node',\n",
       "  't': 'want.bmp',\n",
       "  'd': {'labels': ['fish'],\n",
       "   'score_ttp': ' ',\n",
       "   'mitre-attack': ['T1022'],\n",
       "   'ids': []},\n",
       "  'tag': 0},\n",
       " {'id': 4,\n",
       "  'parentId': ' ',\n",
       "  'type': 'node',\n",
       "  't': 'stop.pptx',\n",
       "  'd': {'labels': ['quality'],\n",
       "   'score_ttp': ' ',\n",
       "   'mitre-attack': ['T1022'],\n",
       "   'ids': []},\n",
       "  'tag': 0},\n",
       " {'dt': [1614398580, 1624525276, 1612449551, 1611084958, 1628573150],\n",
       "  'a2': 'true',\n",
       "  'id1': 0,\n",
       "  'id2': 1,\n",
       "  'id': 0,\n",
       "  'type': 'link',\n",
       "  't': 'created',\n",
       "  'd': {'labels': [],\n",
       "   'score_ttp': ' ',\n",
       "   'mitre-attack': ['T9433'],\n",
       "   'ids': ['100']}},\n",
       " {'dt': [1624061574, 1621389210, 1621696838, 1609943701, 1620893487],\n",
       "  'a2': 'true',\n",
       "  'id1': 1,\n",
       "  'id2': 2,\n",
       "  'id': 1,\n",
       "  'type': 'link',\n",
       "  't': 'created',\n",
       "  'd': {'labels': [],\n",
       "   'score_ttp': ' ',\n",
       "   'mitre-attack': ['T1022'],\n",
       "   'ids': ['101']}},\n",
       " {'dt': [1611261695, 1620907209, 1622455002, 1626673004, 1625323939],\n",
       "  'a2': 'true',\n",
       "  'id1': 0,\n",
       "  'id2': 1,\n",
       "  'id': 2,\n",
       "  'type': 'link',\n",
       "  't': 'created',\n",
       "  'd': {'labels': [],\n",
       "   'score_ttp': ' ',\n",
       "   'mitre-attack': ['T9433'],\n",
       "   'ids': ['102']}},\n",
       " {'dt': [1613037942, 1627400823, 1628503947, 1610841809, 1610501948],\n",
       "  'a2': 'true',\n",
       "  'id1': 0,\n",
       "  'id2': 4,\n",
       "  'id': 3,\n",
       "  'type': 'link',\n",
       "  't': 'created',\n",
       "  'd': {'labels': [],\n",
       "   'score_ttp': ' ',\n",
       "   'mitre-attack': ['T1022'],\n",
       "   'ids': ['103']}},\n",
       " {'dt': [1618426184, 1628811271, 1622403245, 1625435026, 1615307488],\n",
       "  'a2': 'true',\n",
       "  'id1': 3,\n",
       "  'id2': 3,\n",
       "  'id': 4,\n",
       "  'type': 'link',\n",
       "  't': 'created',\n",
       "  'd': {'labels': [],\n",
       "   'score_ttp': ' ',\n",
       "   'mitre-attack': ['T1022'],\n",
       "   'ids': ['104']}},\n",
       " {'_id': '000',\n",
       "  'type': 'property',\n",
       "  'id': '1',\n",
       "  'Properties': {'ComputerName': 'Girl others perform rate have spend.',\n",
       "   'Account_Name': 'Down such single they usually today.',\n",
       "   'Creator_Process_Name': 'Senior condition Republican raise actually organization country up.',\n",
       "   'Creator_Process_ID': ' 0x728  ',\n",
       "   'EventCode': '4688',\n",
       "   'New_Process_ID': '  0x14c8  ',\n",
       "   'New_Process_Name': 'International tough administration reflect cell.',\n",
       "   'OriginatingComputerName': '10.0.5.112\\t',\n",
       "   'RecordNumber': '968797\\t',\n",
       "   '_time': '2021-04-25T20:23:37',\n",
       "   'Process_Command_Line': 'Stuff road along technology along expect catch.',\n",
       "   'custodio_time': 1588935671000,\n",
       "   'path': 'Small station range ball sea nice institution.',\n",
       "   'Title': ['compare.css']}},\n",
       " {'_id': '000',\n",
       "  'type': 'property',\n",
       "  'id': '1',\n",
       "  'Properties': {'ComputerName': 'Consumer adult dinner kitchen past discuss.',\n",
       "   'Account_Name': 'Yourself than worker six month note.',\n",
       "   'Creator_Process_Name': 'While job road mission course.',\n",
       "   'Creator_Process_ID': ' 0x728  ',\n",
       "   'EventCode': '4688',\n",
       "   'New_Process_ID': '  0x14c8  ',\n",
       "   'New_Process_Name': 'Remain land road pay TV provide.',\n",
       "   'OriginatingComputerName': '10.0.5.112\\t',\n",
       "   'RecordNumber': '968797\\t',\n",
       "   '_time': '2021-05-16T13:38:05',\n",
       "   'Process_Command_Line': 'Early care commercial rise not.',\n",
       "   'custodio_time': 1588935671000,\n",
       "   'path': 'Night term pass produce sing since.',\n",
       "   'Title': ['be.mp3']}},\n",
       " {'_id': '000',\n",
       "  'type': 'property',\n",
       "  'id': '1',\n",
       "  'Properties': {'ComputerName': 'Show others loss without can mouth protect.',\n",
       "   'Account_Name': 'Local determine pressure write financial sound long.',\n",
       "   'Creator_Process_Name': 'Economy low single simple always want common.',\n",
       "   'Creator_Process_ID': ' 0x728  ',\n",
       "   'EventCode': '4688',\n",
       "   'New_Process_ID': '  0x14c8  ',\n",
       "   'New_Process_Name': 'Still big lay reduce open.',\n",
       "   'OriginatingComputerName': '10.0.5.112\\t',\n",
       "   'RecordNumber': '968797\\t',\n",
       "   '_time': '2021-01-04T07:23:18',\n",
       "   'Process_Command_Line': 'Hot age range but science.',\n",
       "   'custodio_time': 1588935671000,\n",
       "   'path': 'Fund everything medical first training.',\n",
       "   'Title': ['offer.json']}},\n",
       " {'_id': '000',\n",
       "  'type': 'property',\n",
       "  'id': '1',\n",
       "  'Properties': {'ComputerName': 'Page worry both than other.',\n",
       "   'Account_Name': 'Tv toward open though hot.',\n",
       "   'Creator_Process_Name': 'Late able each require role hot record.',\n",
       "   'Creator_Process_ID': ' 0x728  ',\n",
       "   'EventCode': '4688',\n",
       "   'New_Process_ID': '  0x14c8  ',\n",
       "   'New_Process_Name': 'Fund evidence anything first buy.',\n",
       "   'OriginatingComputerName': '10.0.5.112\\t',\n",
       "   'RecordNumber': '968797\\t',\n",
       "   '_time': '2021-08-03T09:37:03',\n",
       "   'Process_Command_Line': 'None before power risk.',\n",
       "   'custodio_time': 1588935671000,\n",
       "   'path': 'Drop computer age spend agreement everyone performance.',\n",
       "   'Title': ['major.avi']}},\n",
       " {'_id': '000',\n",
       "  'type': 'property',\n",
       "  'id': '1',\n",
       "  'Properties': {'ComputerName': 'Sell either affect.',\n",
       "   'Account_Name': 'Nation happen standard record whatever note growth.',\n",
       "   'Creator_Process_Name': 'Toward may ready rich.',\n",
       "   'Creator_Process_ID': ' 0x728  ',\n",
       "   'EventCode': '4688',\n",
       "   'New_Process_ID': '  0x14c8  ',\n",
       "   'New_Process_Name': 'Involve head agreement every economy.',\n",
       "   'OriginatingComputerName': '10.0.5.112\\t',\n",
       "   'RecordNumber': '968797\\t',\n",
       "   '_time': '2021-03-03T03:57:06',\n",
       "   'Process_Command_Line': 'Watch himself buy discuss agency boy indeed.',\n",
       "   'custodio_time': 1588935671000,\n",
       "   'path': 'There door test various friend tough.',\n",
       "   'Title': ['phone.jpeg']}}]"
      ]
     },
     "execution_count": 25,
     "metadata": {},
     "output_type": "execute_result"
    }
   ],
   "source": [
    "fakegraphdata = []\n",
    "\n",
    "for i in range(5):\n",
    "    temp = create_node(i, title=fake.file_name(), labelslist = [fake.word()], mitrelist = [random.choice(fakemitre)])\n",
    "    fakegraphdata.append(temp)\n",
    "    \n",
    "for i in range(5):\n",
    "    datatime = [int(fake.date_time_this_year().timestamp()) for x in range(5)]\n",
    "    temp = create_link(i, datatime, random.randrange(0, 5), random.randrange(0, 5), \"created\", [\"10\"+str(i)], [random.choice(fakemitre)])\n",
    "    fakegraphdata.append(temp)\n",
    "\n",
    "for i in range(5):\n",
    "    temp = create_property(\n",
    "        id = i,\n",
    "        ComputerName = fake.sentence(),\n",
    "        Account_Name=  fake.sentence(),\n",
    "        Creator_Process_Name=  fake.sentence(),\n",
    "        Creator_Process_ID=  \" 0x728  \",\n",
    "        EventCode= \"4688\",\n",
    "        New_Process_ID=  \"  0x14c8  \",\n",
    "        New_Process_Name=  fake.sentence(),\n",
    "        OriginatingComputerName=  \"10.0.5.112\\t\",\n",
    "        RecordNumber=  \"968797\\t\",\n",
    "        _time=  fake.date_time_this_year().isoformat(),\n",
    "        Process_Command_Line= fake.sentence(),\n",
    "        custodio_time=  1588935671000,\n",
    "        path=  fake.sentence(),\n",
    "        Title=  [\n",
    "          fake.file_name()\n",
    "        ])\n",
    "    fakegraphdata.append(temp)\n",
    "    \n",
    "fakegraphdata"
   ]
  },
  {
   "cell_type": "markdown",
   "id": "10978f27",
   "metadata": {},
   "source": [
    "# NEO4J"
   ]
  },
  {
   "cell_type": "code",
   "execution_count": 14,
   "id": "8ab4d368",
   "metadata": {},
   "outputs": [
    {
     "ename": "TypeError",
     "evalue": "Cannot access key 'data' in path 'data.items': the element must be a dictionary or a list but is of type '<class 'str'>'.",
     "output_type": "error",
     "traceback": [
      "\u001b[1;31m---------------------------------------------------------------------------\u001b[0m",
      "\u001b[1;31mTypeError\u001b[0m                                 Traceback (most recent call last)",
      "\u001b[1;32mc:\\users\\16sic\\appdata\\local\\programs\\python\\python37\\lib\\site-packages\\scalpl\\scalpl.py\u001b[0m in \u001b[0;36mtraverse\u001b[1;34m(data, keys, original_path)\u001b[0m\n\u001b[0;32m     72\u001b[0m         \u001b[1;32mfor\u001b[0m \u001b[0mkey\u001b[0m \u001b[1;32min\u001b[0m \u001b[0mkeys\u001b[0m\u001b[1;33m:\u001b[0m\u001b[1;33m\u001b[0m\u001b[1;33m\u001b[0m\u001b[0m\n\u001b[1;32m---> 73\u001b[1;33m             \u001b[0mvalue\u001b[0m \u001b[1;33m=\u001b[0m \u001b[0mvalue\u001b[0m\u001b[1;33m[\u001b[0m\u001b[0mkey\u001b[0m\u001b[1;33m]\u001b[0m\u001b[1;33m\u001b[0m\u001b[1;33m\u001b[0m\u001b[0m\n\u001b[0m\u001b[0;32m     74\u001b[0m     \u001b[1;32mexcept\u001b[0m \u001b[0mKeyError\u001b[0m \u001b[1;32mas\u001b[0m \u001b[0merror\u001b[0m\u001b[1;33m:\u001b[0m\u001b[1;33m\u001b[0m\u001b[1;33m\u001b[0m\u001b[0m\n",
      "\u001b[1;31mTypeError\u001b[0m: string indices must be integers",
      "\nDuring handling of the above exception, another exception occurred:\n",
      "\u001b[1;31mTypeError\u001b[0m                                 Traceback (most recent call last)",
      "\u001b[1;32m<ipython-input-14-1492eed785ef>\u001b[0m in \u001b[0;36m<module>\u001b[1;34m\u001b[0m\n\u001b[0;32m      2\u001b[0m \u001b[0mscalpeldata\u001b[0m \u001b[1;33m=\u001b[0m \u001b[0mCut\u001b[0m\u001b[1;33m(\u001b[0m\u001b[0mgraphdata\u001b[0m\u001b[1;33m)\u001b[0m\u001b[1;33m\u001b[0m\u001b[1;33m\u001b[0m\u001b[0m\n\u001b[0;32m      3\u001b[0m \u001b[1;33m\u001b[0m\u001b[0m\n\u001b[1;32m----> 4\u001b[1;33m \u001b[0mgraph_nodelist\u001b[0m \u001b[1;33m=\u001b[0m \u001b[1;33m[\u001b[0m\u001b[0mx\u001b[0m\u001b[1;33m.\u001b[0m\u001b[0mdata\u001b[0m \u001b[1;32mfor\u001b[0m \u001b[0mx\u001b[0m \u001b[1;32min\u001b[0m \u001b[0mscalpeldata\u001b[0m\u001b[1;33m.\u001b[0m\u001b[0mall\u001b[0m\u001b[1;33m(\u001b[0m\u001b[1;34m'data.items'\u001b[0m\u001b[1;33m)\u001b[0m \u001b[1;32mif\u001b[0m \u001b[0mx\u001b[0m\u001b[1;33m[\u001b[0m\u001b[1;34m'type'\u001b[0m\u001b[1;33m]\u001b[0m \u001b[1;33m==\u001b[0m \u001b[1;34m'node'\u001b[0m\u001b[1;33m]\u001b[0m\u001b[1;33m\u001b[0m\u001b[1;33m\u001b[0m\u001b[0m\n\u001b[0m\u001b[0;32m      5\u001b[0m \u001b[0mgraph_linklist\u001b[0m \u001b[1;33m=\u001b[0m \u001b[1;33m[\u001b[0m\u001b[0mx\u001b[0m\u001b[1;33m.\u001b[0m\u001b[0mdata\u001b[0m \u001b[1;32mfor\u001b[0m \u001b[0mx\u001b[0m \u001b[1;32min\u001b[0m \u001b[0mscalpeldata\u001b[0m\u001b[1;33m.\u001b[0m\u001b[0mall\u001b[0m\u001b[1;33m(\u001b[0m\u001b[1;34m'data.items'\u001b[0m\u001b[1;33m)\u001b[0m \u001b[1;32mif\u001b[0m \u001b[0mx\u001b[0m\u001b[1;33m[\u001b[0m\u001b[1;34m'type'\u001b[0m\u001b[1;33m]\u001b[0m \u001b[1;33m==\u001b[0m \u001b[1;34m'link'\u001b[0m\u001b[1;33m]\u001b[0m\u001b[1;33m\u001b[0m\u001b[1;33m\u001b[0m\u001b[0m\n\u001b[0;32m      6\u001b[0m \u001b[0mgraph_properties\u001b[0m \u001b[1;33m=\u001b[0m \u001b[0mdata\u001b[0m\u001b[1;33m[\u001b[0m\u001b[1;36m1\u001b[0m\u001b[1;33m:\u001b[0m\u001b[1;33m]\u001b[0m\u001b[1;33m\u001b[0m\u001b[1;33m\u001b[0m\u001b[0m\n",
      "\u001b[1;32mc:\\users\\16sic\\appdata\\local\\programs\\python\\python37\\lib\\site-packages\\scalpl\\scalpl.py\u001b[0m in \u001b[0;36mall\u001b[1;34m(self, path)\u001b[0m\n\u001b[0;32m    179\u001b[0m     \u001b[1;32mdef\u001b[0m \u001b[0mall\u001b[0m\u001b[1;33m(\u001b[0m\u001b[0mself\u001b[0m\u001b[1;33m:\u001b[0m \u001b[0mTCut\u001b[0m\u001b[1;33m,\u001b[0m \u001b[0mpath\u001b[0m\u001b[1;33m:\u001b[0m \u001b[0mstr\u001b[0m\u001b[1;33m)\u001b[0m \u001b[1;33m->\u001b[0m \u001b[0mIterator\u001b[0m\u001b[1;33m[\u001b[0m\u001b[0mTCut\u001b[0m\u001b[1;33m]\u001b[0m\u001b[1;33m:\u001b[0m\u001b[1;33m\u001b[0m\u001b[1;33m\u001b[0m\u001b[0m\n\u001b[0;32m    180\u001b[0m         \u001b[1;34m\"\"\"Wrap each item of an Iterable.\"\"\"\u001b[0m\u001b[1;33m\u001b[0m\u001b[1;33m\u001b[0m\u001b[0m\n\u001b[1;32m--> 181\u001b[1;33m         \u001b[0mitems\u001b[0m \u001b[1;33m=\u001b[0m \u001b[0mself\u001b[0m\u001b[1;33m[\u001b[0m\u001b[0mpath\u001b[0m\u001b[1;33m]\u001b[0m\u001b[1;33m\u001b[0m\u001b[1;33m\u001b[0m\u001b[0m\n\u001b[0m\u001b[0;32m    182\u001b[0m         \u001b[0mcls\u001b[0m \u001b[1;33m=\u001b[0m \u001b[0mself\u001b[0m\u001b[1;33m.\u001b[0m\u001b[0m__class__\u001b[0m\u001b[1;33m\u001b[0m\u001b[1;33m\u001b[0m\u001b[0m\n\u001b[0;32m    183\u001b[0m         \u001b[1;32mreturn\u001b[0m \u001b[1;33m(\u001b[0m\u001b[0mcls\u001b[0m\u001b[1;33m(\u001b[0m\u001b[0m_dict\u001b[0m\u001b[1;33m,\u001b[0m \u001b[0mself\u001b[0m\u001b[1;33m.\u001b[0m\u001b[0msep\u001b[0m\u001b[1;33m)\u001b[0m \u001b[1;32mfor\u001b[0m \u001b[0m_dict\u001b[0m \u001b[1;32min\u001b[0m \u001b[0mitems\u001b[0m\u001b[1;33m)\u001b[0m\u001b[1;33m\u001b[0m\u001b[1;33m\u001b[0m\u001b[0m\n",
      "\u001b[1;32mc:\\users\\16sic\\appdata\\local\\programs\\python\\python37\\lib\\site-packages\\scalpl\\scalpl.py\u001b[0m in \u001b[0;36m__getitem__\u001b[1;34m(self, path)\u001b[0m\n\u001b[0;32m    140\u001b[0m     \u001b[1;32mdef\u001b[0m \u001b[0m__getitem__\u001b[0m\u001b[1;33m(\u001b[0m\u001b[0mself\u001b[0m\u001b[1;33m,\u001b[0m \u001b[0mpath\u001b[0m\u001b[1;33m:\u001b[0m \u001b[0mstr\u001b[0m\u001b[1;33m)\u001b[0m\u001b[1;33m:\u001b[0m\u001b[1;33m\u001b[0m\u001b[1;33m\u001b[0m\u001b[0m\n\u001b[0;32m    141\u001b[0m         \u001b[1;33m*\u001b[0m\u001b[0mkeys\u001b[0m\u001b[1;33m,\u001b[0m \u001b[0mlast_key\u001b[0m \u001b[1;33m=\u001b[0m \u001b[0msplit_path\u001b[0m\u001b[1;33m(\u001b[0m\u001b[0mpath\u001b[0m\u001b[1;33m,\u001b[0m \u001b[0mself\u001b[0m\u001b[1;33m.\u001b[0m\u001b[0msep\u001b[0m\u001b[1;33m)\u001b[0m\u001b[1;33m\u001b[0m\u001b[1;33m\u001b[0m\u001b[0m\n\u001b[1;32m--> 142\u001b[1;33m         \u001b[0mitem\u001b[0m \u001b[1;33m=\u001b[0m \u001b[0mtraverse\u001b[0m\u001b[1;33m(\u001b[0m\u001b[0mdata\u001b[0m\u001b[1;33m=\u001b[0m\u001b[0mself\u001b[0m\u001b[1;33m.\u001b[0m\u001b[0mdata\u001b[0m\u001b[1;33m,\u001b[0m \u001b[0mkeys\u001b[0m\u001b[1;33m=\u001b[0m\u001b[0mkeys\u001b[0m\u001b[1;33m,\u001b[0m \u001b[0moriginal_path\u001b[0m\u001b[1;33m=\u001b[0m\u001b[0mpath\u001b[0m\u001b[1;33m)\u001b[0m\u001b[1;33m\u001b[0m\u001b[1;33m\u001b[0m\u001b[0m\n\u001b[0m\u001b[0;32m    143\u001b[0m \u001b[1;33m\u001b[0m\u001b[0m\n\u001b[0;32m    144\u001b[0m         \u001b[1;32mtry\u001b[0m\u001b[1;33m:\u001b[0m\u001b[1;33m\u001b[0m\u001b[1;33m\u001b[0m\u001b[0m\n",
      "\u001b[1;32mc:\\users\\16sic\\appdata\\local\\programs\\python\\python37\\lib\\site-packages\\scalpl\\scalpl.py\u001b[0m in \u001b[0;36mtraverse\u001b[1;34m(data, keys, original_path)\u001b[0m\n\u001b[0;32m     77\u001b[0m         \u001b[1;32mraise\u001b[0m \u001b[0mindex_error\u001b[0m\u001b[1;33m(\u001b[0m\u001b[0mkey\u001b[0m\u001b[1;33m,\u001b[0m \u001b[0moriginal_path\u001b[0m\u001b[1;33m,\u001b[0m \u001b[0merror\u001b[0m\u001b[1;33m)\u001b[0m\u001b[1;33m\u001b[0m\u001b[1;33m\u001b[0m\u001b[0m\n\u001b[0;32m     78\u001b[0m     \u001b[1;32mexcept\u001b[0m \u001b[0mTypeError\u001b[0m\u001b[1;33m:\u001b[0m\u001b[1;33m\u001b[0m\u001b[1;33m\u001b[0m\u001b[0m\n\u001b[1;32m---> 79\u001b[1;33m         \u001b[1;32mraise\u001b[0m \u001b[0mtype_error\u001b[0m\u001b[1;33m(\u001b[0m\u001b[0mkey\u001b[0m\u001b[1;33m,\u001b[0m \u001b[0moriginal_path\u001b[0m\u001b[1;33m,\u001b[0m \u001b[0mvalue\u001b[0m\u001b[1;33m)\u001b[0m\u001b[1;33m\u001b[0m\u001b[1;33m\u001b[0m\u001b[0m\n\u001b[0m\u001b[0;32m     80\u001b[0m \u001b[1;33m\u001b[0m\u001b[0m\n\u001b[0;32m     81\u001b[0m     \u001b[1;32mreturn\u001b[0m \u001b[0mvalue\u001b[0m\u001b[1;33m\u001b[0m\u001b[1;33m\u001b[0m\u001b[0m\n",
      "\u001b[1;32mc:\\users\\16sic\\appdata\\local\\programs\\python\\python37\\lib\\site-packages\\scalpl\\scalpl.py\u001b[0m in \u001b[0;36mtype_error\u001b[1;34m(failing_key, original_path, item)\u001b[0m\n\u001b[0;32m     36\u001b[0m \u001b[1;32mdef\u001b[0m \u001b[0mtype_error\u001b[0m\u001b[1;33m(\u001b[0m\u001b[0mfailing_key\u001b[0m\u001b[1;33m,\u001b[0m \u001b[0moriginal_path\u001b[0m\u001b[1;33m,\u001b[0m \u001b[0mitem\u001b[0m\u001b[1;33m)\u001b[0m\u001b[1;33m:\u001b[0m\u001b[1;33m\u001b[0m\u001b[1;33m\u001b[0m\u001b[0m\n\u001b[0;32m     37\u001b[0m     raise TypeError(\n\u001b[1;32m---> 38\u001b[1;33m         \u001b[1;34mf\"Cannot access key '{failing_key}' in path '{original_path}': \"\u001b[0m\u001b[1;33m\u001b[0m\u001b[1;33m\u001b[0m\u001b[0m\n\u001b[0m\u001b[0;32m     39\u001b[0m         \u001b[1;34mf\"the element must be a dictionary or a list but is of type '{type(item)}'.\"\u001b[0m\u001b[1;33m\u001b[0m\u001b[1;33m\u001b[0m\u001b[0m\n\u001b[0;32m     40\u001b[0m     )\n",
      "\u001b[1;31mTypeError\u001b[0m: Cannot access key 'data' in path 'data.items': the element must be a dictionary or a list but is of type '<class 'str'>'."
     ]
    }
   ],
   "source": [
    "graphdata = data[0]\n",
    "scalpeldata = Cut(graphdata)\n",
    "\n",
    "graph_nodelist = [x.data for x in scalpeldata.all('data.items') if x['type'] == 'node']\n",
    "graph_linklist = [x.data for x in scalpeldata.all('data.items') if x['type'] == 'link']\n",
    "graph_properties = data[1:]"
   ]
  },
  {
   "cell_type": "code",
   "execution_count": 15,
   "id": "d07c5d49",
   "metadata": {},
   "outputs": [
    {
     "ename": "NameError",
     "evalue": "name 'graph_properties' is not defined",
     "output_type": "error",
     "traceback": [
      "\u001b[1;31m---------------------------------------------------------------------------\u001b[0m",
      "\u001b[1;31mNameError\u001b[0m                                 Traceback (most recent call last)",
      "\u001b[1;32m<ipython-input-15-3ffefad74a17>\u001b[0m in \u001b[0;36m<module>\u001b[1;34m\u001b[0m\n\u001b[1;32m----> 1\u001b[1;33m \u001b[0mgraph_properties\u001b[0m\u001b[1;33m\u001b[0m\u001b[1;33m\u001b[0m\u001b[0m\n\u001b[0m",
      "\u001b[1;31mNameError\u001b[0m: name 'graph_properties' is not defined"
     ]
    }
   ],
   "source": [
    "graph_properties"
   ]
  },
  {
   "cell_type": "code",
   "execution_count": 53,
   "id": "4374cabe",
   "metadata": {},
   "outputs": [
    {
     "data": {
      "text/plain": [
       "[['{\\'ComputerName\\': \\'DESKTOP-GNSLAB2.STELLA.LOCAL\\\\t\\', \\'Account_Name\\': \\'DESKTOP-GNSLAB2$\\', \\'Creator_Process_Name\\': \\' C:\\\\\\\\Program Files\\\\\\\\SplunkUniversalForwarder\\\\\\\\bin\\\\\\\\splunkd.exe  \\', \\'Creator_Process_ID\\': \\' 0x728  \\', \\'EventCode\\': \\'4688\\', \\'New_Process_ID\\': \\'  0x14c8  \\', \\'New_Process_Name\\': \\' C:\\\\\\\\Program Files\\\\\\\\SplunkUniversalForwarder\\\\\\\\bin\\\\\\\\splunk-winprintmon.exe  \\', \\'OriginatingComputerName\\': \\'10.0.5.112\\\\t\\', \\'RecordNumber\\': \\'968797\\\\t\\', \\'_time\\': \\'2020-05-08 11:01:11\\', \\'Process_Command_Line\\': \\' \"C:\\\\\\\\Program Files\\\\\\\\SplunkUniversalForwarder\\\\\\\\bin\\\\\\\\splunk-winprintmon.exe\"  \\', \\'custodio_time\\': 1588935671000, \\'path\\': \\' C:\\\\\\\\Program Files\\\\\\\\SplunkUniversalForwarder\\\\\\\\bin\\\\\\\\splunk-winprintmon.exe  \\', \\'Title\\': [\\'splunk-winprintmon.exe\\']}']]"
      ]
     },
     "execution_count": 53,
     "metadata": {},
     "output_type": "execute_result"
    }
   ],
   "source": [
    "graph_properties"
   ]
  },
  {
   "cell_type": "code",
   "execution_count": 49,
   "id": "9ff61e3e",
   "metadata": {},
   "outputs": [],
   "source": [
    "# add nodes to neo4j\n",
    "graph.delete_all()\n",
    "for elements in graph_nodelist:\n",
    "    label =  elements['d']['labels'][0]\n",
    "\n",
    "    props = {\n",
    "        \"id\" : elements['id'],\n",
    "        \"t\" : elements['t'],\n",
    "        \"mitre-attack\" : [x for x in elements['d']['mitre-attack']],\n",
    "        \"tag\" : elements['tag']\n",
    "    }\n",
    "    new_node = Node(label, **props)\n",
    "    graph.create(new_node)"
   ]
  },
  {
   "cell_type": "code",
   "execution_count": 52,
   "id": "04fe61f7",
   "metadata": {},
   "outputs": [
    {
     "ename": "AttributeError",
     "evalue": "'list' object has no attribute 'items'",
     "output_type": "error",
     "traceback": [
      "\u001b[1;31m---------------------------------------------------------------------------\u001b[0m",
      "\u001b[1;31mAttributeError\u001b[0m                            Traceback (most recent call last)",
      "\u001b[1;32m<ipython-input-52-6b67624d9f91>\u001b[0m in \u001b[0;36m<module>\u001b[1;34m\u001b[0m\n\u001b[0;32m      6\u001b[0m     \u001b[0mnode2\u001b[0m \u001b[1;33m=\u001b[0m \u001b[0mmathcerinit\u001b[0m\u001b[1;33m.\u001b[0m\u001b[0mmatch\u001b[0m\u001b[1;33m(\u001b[0m\u001b[1;33m)\u001b[0m\u001b[1;33m.\u001b[0m\u001b[0mwhere\u001b[0m\u001b[1;33m(\u001b[0m\u001b[0mid\u001b[0m\u001b[1;33m=\u001b[0m\u001b[0melements\u001b[0m\u001b[1;33m[\u001b[0m\u001b[1;34m'id2'\u001b[0m\u001b[1;33m]\u001b[0m\u001b[1;33m)\u001b[0m\u001b[1;33m.\u001b[0m\u001b[0mfirst\u001b[0m\u001b[1;33m(\u001b[0m\u001b[1;33m)\u001b[0m\u001b[1;33m\u001b[0m\u001b[1;33m\u001b[0m\u001b[0m\n\u001b[0;32m      7\u001b[0m \u001b[1;33m\u001b[0m\u001b[0m\n\u001b[1;32m----> 8\u001b[1;33m     \u001b[0mproperties\u001b[0m \u001b[1;33m=\u001b[0m \u001b[1;33m{\u001b[0m\u001b[0mk\u001b[0m\u001b[1;33m:\u001b[0m \u001b[0mstr\u001b[0m\u001b[1;33m(\u001b[0m\u001b[0mv\u001b[0m\u001b[1;33m)\u001b[0m \u001b[1;32mfor\u001b[0m \u001b[0mx\u001b[0m \u001b[1;32min\u001b[0m \u001b[0mgraph_properties\u001b[0m \u001b[1;32mfor\u001b[0m \u001b[0mk\u001b[0m\u001b[1;33m,\u001b[0m\u001b[0mv\u001b[0m \u001b[1;32min\u001b[0m \u001b[0mx\u001b[0m\u001b[1;33m.\u001b[0m\u001b[0mitems\u001b[0m\u001b[1;33m(\u001b[0m\u001b[1;33m)\u001b[0m \u001b[1;32mif\u001b[0m \u001b[0mx\u001b[0m\u001b[1;33m[\u001b[0m\u001b[1;34m'id'\u001b[0m\u001b[1;33m]\u001b[0m \u001b[1;33m==\u001b[0m \u001b[0melements\u001b[0m\u001b[1;33m[\u001b[0m\u001b[1;34m'id'\u001b[0m\u001b[1;33m]\u001b[0m\u001b[1;33m}\u001b[0m\u001b[1;33m\u001b[0m\u001b[1;33m\u001b[0m\u001b[0m\n\u001b[0m\u001b[0;32m      9\u001b[0m     properties.update({\"mitre-attack\": [x for x in elements['d']['mitre-attack']],\n\u001b[0;32m     10\u001b[0m                       \u001b[1;34m\"id1\"\u001b[0m \u001b[1;33m:\u001b[0m \u001b[0melements\u001b[0m\u001b[1;33m[\u001b[0m\u001b[1;34m'id1'\u001b[0m\u001b[1;33m]\u001b[0m\u001b[1;33m,\u001b[0m\u001b[1;33m\u001b[0m\u001b[1;33m\u001b[0m\u001b[0m\n",
      "\u001b[1;32m<ipython-input-52-6b67624d9f91>\u001b[0m in \u001b[0;36m<dictcomp>\u001b[1;34m(.0)\u001b[0m\n\u001b[0;32m      6\u001b[0m     \u001b[0mnode2\u001b[0m \u001b[1;33m=\u001b[0m \u001b[0mmathcerinit\u001b[0m\u001b[1;33m.\u001b[0m\u001b[0mmatch\u001b[0m\u001b[1;33m(\u001b[0m\u001b[1;33m)\u001b[0m\u001b[1;33m.\u001b[0m\u001b[0mwhere\u001b[0m\u001b[1;33m(\u001b[0m\u001b[0mid\u001b[0m\u001b[1;33m=\u001b[0m\u001b[0melements\u001b[0m\u001b[1;33m[\u001b[0m\u001b[1;34m'id2'\u001b[0m\u001b[1;33m]\u001b[0m\u001b[1;33m)\u001b[0m\u001b[1;33m.\u001b[0m\u001b[0mfirst\u001b[0m\u001b[1;33m(\u001b[0m\u001b[1;33m)\u001b[0m\u001b[1;33m\u001b[0m\u001b[1;33m\u001b[0m\u001b[0m\n\u001b[0;32m      7\u001b[0m \u001b[1;33m\u001b[0m\u001b[0m\n\u001b[1;32m----> 8\u001b[1;33m     \u001b[0mproperties\u001b[0m \u001b[1;33m=\u001b[0m \u001b[1;33m{\u001b[0m\u001b[0mk\u001b[0m\u001b[1;33m:\u001b[0m \u001b[0mstr\u001b[0m\u001b[1;33m(\u001b[0m\u001b[0mv\u001b[0m\u001b[1;33m)\u001b[0m \u001b[1;32mfor\u001b[0m \u001b[0mx\u001b[0m \u001b[1;32min\u001b[0m \u001b[0mgraph_properties\u001b[0m \u001b[1;32mfor\u001b[0m \u001b[0mk\u001b[0m\u001b[1;33m,\u001b[0m\u001b[0mv\u001b[0m \u001b[1;32min\u001b[0m \u001b[0mx\u001b[0m\u001b[1;33m.\u001b[0m\u001b[0mitems\u001b[0m\u001b[1;33m(\u001b[0m\u001b[1;33m)\u001b[0m \u001b[1;32mif\u001b[0m \u001b[0mx\u001b[0m\u001b[1;33m[\u001b[0m\u001b[1;34m'id'\u001b[0m\u001b[1;33m]\u001b[0m \u001b[1;33m==\u001b[0m \u001b[0melements\u001b[0m\u001b[1;33m[\u001b[0m\u001b[1;34m'id'\u001b[0m\u001b[1;33m]\u001b[0m\u001b[1;33m}\u001b[0m\u001b[1;33m\u001b[0m\u001b[1;33m\u001b[0m\u001b[0m\n\u001b[0m\u001b[0;32m      9\u001b[0m     properties.update({\"mitre-attack\": [x for x in elements['d']['mitre-attack']],\n\u001b[0;32m     10\u001b[0m                       \u001b[1;34m\"id1\"\u001b[0m \u001b[1;33m:\u001b[0m \u001b[0melements\u001b[0m\u001b[1;33m[\u001b[0m\u001b[1;34m'id1'\u001b[0m\u001b[1;33m]\u001b[0m\u001b[1;33m,\u001b[0m\u001b[1;33m\u001b[0m\u001b[1;33m\u001b[0m\u001b[0m\n",
      "\u001b[1;31mAttributeError\u001b[0m: 'list' object has no attribute 'items'"
     ]
    }
   ],
   "source": [
    "# add relationship to neo4j\n",
    "for elements in graph_linklist:\n",
    "    \n",
    "    mathcerinit = NodeMatcher(graph)\n",
    "    node1 = mathcerinit.match().where(id=elements['id1']).first()\n",
    "    node2 = mathcerinit.match().where(id=elements['id2']).first()\n",
    "    \n",
    "    properties = {k: str(v) for x in graph_properties for k,v in x.items() if x['id'] == elements['id']}\n",
    "    properties.update({\"mitre-attack\": [x for x in elements['d']['mitre-attack']],\n",
    "                      \"id1\" : elements['id1'],\n",
    "                       \"id2\" : elements['id2'],\n",
    "                       \"dt\" : elements['dt']\n",
    "                      })\n",
    "    newnodelink = Relationship(node1, elements['t'], node2, **properties)\n",
    "    graph.create(newnodelink)"
   ]
  },
  {
   "cell_type": "code",
   "execution_count": 79,
   "id": "a70b09fa",
   "metadata": {},
   "outputs": [
    {
     "data": {
      "text/plain": [
       "[{'id': '1',\n",
       "  'parentId': ' ',\n",
       "  'type': 'node',\n",
       "  't': 'servicehost.exe',\n",
       "  'd': {'labels': ['process'],\n",
       "   'score_ttp': ' ',\n",
       "   'mitre-attack': ['T1045'],\n",
       "   'ids': []},\n",
       "  'tag': 0},\n",
       " {'id': '2',\n",
       "  'parentId': ' ',\n",
       "  'type': 'node',\n",
       "  't': 'fisher.exe',\n",
       "  'd': {'labels': ['process'],\n",
       "   'score_ttp': ' ',\n",
       "   'mitre-attack': ['T1045'],\n",
       "   'ids': []},\n",
       "  'tag': 0}]"
      ]
     },
     "execution_count": 79,
     "metadata": {},
     "output_type": "execute_result"
    }
   ],
   "source": [
    "graphdata2 = []\n",
    "\n",
    "# get node and convert back to graph struct\n",
    "mathcerinit = NodeMatcher(graph)\n",
    "nodefound = mathcerinit.match()\n",
    "for elements in nodefound:\n",
    "    id = elements['id']\n",
    "    title=elements['t']\n",
    "    labelslist = list(elements.labels)\n",
    "    mitrelist = elements['mitre-attack']\n",
    "    obj = create_node(id, title, labelslist, mitrelist)\n",
    "    graphdata2.append(obj)"
   ]
  },
  {
   "cell_type": "code",
   "execution_count": 80,
   "id": "ea687ed0",
   "metadata": {},
   "outputs": [
    {
     "data": {
      "text/plain": [
       "[{'id': '1',\n",
       "  'parentId': ' ',\n",
       "  'type': 'node',\n",
       "  't': 'servicehost.exe',\n",
       "  'd': {'labels': ['process'],\n",
       "   'score_ttp': ' ',\n",
       "   'mitre-attack': ['T1045'],\n",
       "   'ids': []},\n",
       "  'tag': 0},\n",
       " {'id': '2',\n",
       "  'parentId': ' ',\n",
       "  'type': 'node',\n",
       "  't': 'fisher.exe',\n",
       "  'd': {'labels': ['process'],\n",
       "   'score_ttp': ' ',\n",
       "   'mitre-attack': ['T1045'],\n",
       "   'ids': []},\n",
       "  'tag': 0},\n",
       " {'dt': [12222, 212121],\n",
       "  'a2': 'true',\n",
       "  'id1': '1',\n",
       "  'id2': '2',\n",
       "  'id': '1',\n",
       "  'type': 'link',\n",
       "  't': 'created',\n",
       "  'd': {'labels': [],\n",
       "   'score_ttp': ' ',\n",
       "   'mitre-attack': ['T1045'],\n",
       "   'ids': ['1']}}]"
      ]
     },
     "execution_count": 80,
     "metadata": {},
     "output_type": "execute_result"
    }
   ],
   "source": [
    "# get relationship and convert back to graph struct\n",
    "mathcerinit = RelationshipMatcher(graph)\n",
    "nodefound = mathcerinit.match()\n",
    "for elements in nodefound:\n",
    "    id = elements['id']\n",
    "    datetimelist = elements['dt']\n",
    "    id1 = elements['id1']\n",
    "    id2 = elements['id2']\n",
    "    linkname = type(elements).__name__\n",
    "    propertyidlist = [id]\n",
    "\n",
    "    obj = create_link(id, datetimelist, id1, id2, linkname, propertyidlist, mitrelist)\n",
    "    graphdata2.append(obj)"
   ]
  },
  {
   "cell_type": "code",
   "execution_count": 123,
   "id": "2b9d49e7",
   "metadata": {},
   "outputs": [
    {
     "data": {
      "text/plain": [
       "['{\\'ComputerName\\': \\'DESKTOP-GNSLAB2.STELLA.LOCAL\\\\t\\', \\'Account_Name\\': \\'DESKTOP-GNSLAB2$\\', \\'Creator_Process_Name\\': \\' C:\\\\\\\\Program Files\\\\\\\\SplunkUniversalForwarder\\\\\\\\bin\\\\\\\\splunkd.exe  \\', \\'Creator_Process_ID\\': \\' 0x728  \\', \\'EventCode\\': \\'4688\\', \\'New_Process_ID\\': \\'  0x14c8  \\', \\'New_Process_Name\\': \\' C:\\\\\\\\Program Files\\\\\\\\SplunkUniversalForwarder\\\\\\\\bin\\\\\\\\splunk-winprintmon.exe  \\', \\'OriginatingComputerName\\': \\'10.0.5.112\\\\t\\', \\'RecordNumber\\': \\'968797\\\\t\\', \\'_time\\': \\'2020-05-08 11:01:11\\', \\'Process_Command_Line\\': \\' \"C:\\\\\\\\Program Files\\\\\\\\SplunkUniversalForwarder\\\\\\\\bin\\\\\\\\splunk-winprintmon.exe\"  \\', \\'custodio_time\\': 1588935671000, \\'path\\': \\' C:\\\\\\\\Program Files\\\\\\\\SplunkUniversalForwarder\\\\\\\\bin\\\\\\\\splunk-winprintmon.exe  \\', \\'Title\\': [\\'splunk-winprintmon.exe\\']}']"
      ]
     },
     "execution_count": 123,
     "metadata": {},
     "output_type": "execute_result"
    }
   ],
   "source": [
    "import ast\n",
    "graph_properties = []\n",
    "# get properties and convert back to graph struct\n",
    "mathcerinit = RelationshipMatcher(graph)\n",
    "nodefound = mathcerinit.match()\n",
    "for elements in nodefound:\n",
    "    props = elements['Properties']\n",
    "    temp = ast.literal_eval(props)\n",
    "    \n",
    "    temp['id'] = elements['id']\n",
    "    graph_properties.append(tempdoct)"
   ]
  },
  {
   "cell_type": "code",
   "execution_count": 124,
   "id": "4e637b56",
   "metadata": {},
   "outputs": [
    {
     "data": {
      "text/plain": [
       "[{'_id': '000',\n",
       "  'type': 'graphData',\n",
       "  'data': {'type': 'LinkChart',\n",
       "   'items': [{'id': '1',\n",
       "     'parentId': ' ',\n",
       "     'type': 'node',\n",
       "     't': 'servicehost.exe',\n",
       "     'd': {'labels': ['process'],\n",
       "      'score_ttp': ' ',\n",
       "      'mitre-attack': ['T1045'],\n",
       "      'ids': []},\n",
       "     'tag': 0},\n",
       "    {'id': '2',\n",
       "     'parentId': ' ',\n",
       "     'type': 'node',\n",
       "     't': 'fisher.exe',\n",
       "     'd': {'labels': ['process'],\n",
       "      'score_ttp': ' ',\n",
       "      'mitre-attack': ['T1045'],\n",
       "      'ids': []},\n",
       "     'tag': 0},\n",
       "    {'dt': [12222, 212121],\n",
       "     'a2': 'true',\n",
       "     'id1': '1',\n",
       "     'id2': '2',\n",
       "     'id': '1',\n",
       "     'type': 'link',\n",
       "     't': 'created',\n",
       "     'd': {'labels': [],\n",
       "      'score_ttp': ' ',\n",
       "      'mitre-attack': ['T1022'],\n",
       "      'ids': ['101']}}]}},\n",
       " ['{\\'ComputerName\\': \\'DESKTOP-GNSLAB2.STELLA.LOCAL\\\\t\\', \\'Account_Name\\': \\'DESKTOP-GNSLAB2$\\', \\'Creator_Process_Name\\': \\' C:\\\\\\\\Program Files\\\\\\\\SplunkUniversalForwarder\\\\\\\\bin\\\\\\\\splunkd.exe  \\', \\'Creator_Process_ID\\': \\' 0x728  \\', \\'EventCode\\': \\'4688\\', \\'New_Process_ID\\': \\'  0x14c8  \\', \\'New_Process_Name\\': \\' C:\\\\\\\\Program Files\\\\\\\\SplunkUniversalForwarder\\\\\\\\bin\\\\\\\\splunk-winprintmon.exe  \\', \\'OriginatingComputerName\\': \\'10.0.5.112\\\\t\\', \\'RecordNumber\\': \\'968797\\\\t\\', \\'_time\\': \\'2020-05-08 11:01:11\\', \\'Process_Command_Line\\': \\' \"C:\\\\\\\\Program Files\\\\\\\\SplunkUniversalForwarder\\\\\\\\bin\\\\\\\\splunk-winprintmon.exe\"  \\', \\'custodio_time\\': 1588935671000, \\'path\\': \\' C:\\\\\\\\Program Files\\\\\\\\SplunkUniversalForwarder\\\\\\\\bin\\\\\\\\splunk-winprintmon.exe  \\', \\'Title\\': [\\'splunk-winprintmon.exe\\']}']]"
      ]
     },
     "execution_count": 124,
     "metadata": {},
     "output_type": "execute_result"
    }
   ],
   "source": [
    "graphdata2 = create_graphdata(graphdata2)\n",
    "data = [\n",
    "    graphdata1,\n",
    "    graph_properties\n",
    "]\n",
    "data"
   ]
  },
  {
   "cell_type": "markdown",
   "id": "cc47af2d",
   "metadata": {},
   "source": [
    "# MONGODB"
   ]
  },
  {
   "cell_type": "code",
   "execution_count": 38,
   "id": "104a14ca",
   "metadata": {},
   "outputs": [],
   "source": [
    "client = MongoClient(\"mongodb://localhost:27017\")\n",
    "DB = client['DB']"
   ]
  },
  {
   "cell_type": "code",
   "execution_count": 39,
   "id": "562970a4",
   "metadata": {},
   "outputs": [],
   "source": [
    "gdata = DB.get_collection('Graphdata')"
   ]
  },
  {
   "cell_type": "code",
   "execution_count": 40,
   "id": "8d7aeeef",
   "metadata": {},
   "outputs": [
    {
     "data": {
      "text/plain": [
       "<pymongo.results.InsertOneResult at 0x1dabd755c08>"
      ]
     },
     "execution_count": 40,
     "metadata": {},
     "output_type": "execute_result"
    }
   ],
   "source": [
    "gdata.insert_one({'case': 'spf1', 'graphData': fakegraphdata})"
   ]
  },
  {
   "cell_type": "code",
   "execution_count": 54,
   "id": "a9c075d5",
   "metadata": {},
   "outputs": [
    {
     "data": {
      "text/plain": [
       "[{'_id': '000',\n",
       "  'type': 'graphData',\n",
       "  'data': {'type': 'LinkChart',\n",
       "   'items': [{'id': '1',\n",
       "     'parentId': ' ',\n",
       "     'type': 'node',\n",
       "     't': 'servicehost.exe',\n",
       "     'd': {'labels': ['process'],\n",
       "      'score_ttp': ' ',\n",
       "      'mitre-attack': ['T1045'],\n",
       "      'ids': []},\n",
       "     'tag': 0},\n",
       "    {'id': '2',\n",
       "     'parentId': ' ',\n",
       "     'type': 'node',\n",
       "     't': 'fisher.exe',\n",
       "     'd': {'labels': ['process'],\n",
       "      'score_ttp': ' ',\n",
       "      'mitre-attack': ['T1045'],\n",
       "      'ids': []},\n",
       "     'tag': 0},\n",
       "    {'dt': [12222, 212121],\n",
       "     'a2': 'true',\n",
       "     'id1': '1',\n",
       "     'id2': '2',\n",
       "     'id': '1',\n",
       "     'type': 'link',\n",
       "     't': 'created',\n",
       "     'd': {'labels': [],\n",
       "      'score_ttp': ' ',\n",
       "      'mitre-attack': ['T1022'],\n",
       "      'ids': ['101']}}]}},\n",
       " ['{\\'ComputerName\\': \\'DESKTOP-GNSLAB2.STELLA.LOCAL\\\\t\\', \\'Account_Name\\': \\'DESKTOP-GNSLAB2$\\', \\'Creator_Process_Name\\': \\' C:\\\\\\\\Program Files\\\\\\\\SplunkUniversalForwarder\\\\\\\\bin\\\\\\\\splunkd.exe  \\', \\'Creator_Process_ID\\': \\' 0x728  \\', \\'EventCode\\': \\'4688\\', \\'New_Process_ID\\': \\'  0x14c8  \\', \\'New_Process_Name\\': \\' C:\\\\\\\\Program Files\\\\\\\\SplunkUniversalForwarder\\\\\\\\bin\\\\\\\\splunk-winprintmon.exe  \\', \\'OriginatingComputerName\\': \\'10.0.5.112\\\\t\\', \\'RecordNumber\\': \\'968797\\\\t\\', \\'_time\\': \\'2020-05-08 11:01:11\\', \\'Process_Command_Line\\': \\' \"C:\\\\\\\\Program Files\\\\\\\\SplunkUniversalForwarder\\\\\\\\bin\\\\\\\\splunk-winprintmon.exe\"  \\', \\'custodio_time\\': 1588935671000, \\'path\\': \\' C:\\\\\\\\Program Files\\\\\\\\SplunkUniversalForwarder\\\\\\\\bin\\\\\\\\splunk-winprintmon.exe  \\', \\'Title\\': [\\'splunk-winprintmon.exe\\']}']]"
      ]
     },
     "execution_count": 54,
     "metadata": {},
     "output_type": "execute_result"
    }
   ],
   "source": [
    "getdata = gdata.find_one({'case': 'spf1'})\n",
    "data = getdata['graphData']\n",
    "data"
   ]
  },
  {
   "cell_type": "code",
   "execution_count": null,
   "id": "ac46aa08",
   "metadata": {},
   "outputs": [],
   "source": []
  }
 ],
 "metadata": {
  "kernelspec": {
   "display_name": "Python 3",
   "language": "python",
   "name": "python3"
  },
  "language_info": {
   "codemirror_mode": {
    "name": "ipython",
    "version": 3
   },
   "file_extension": ".py",
   "mimetype": "text/x-python",
   "name": "python",
   "nbconvert_exporter": "python",
   "pygments_lexer": "ipython3",
   "version": "3.7.6"
  }
 },
 "nbformat": 4,
 "nbformat_minor": 5
}
