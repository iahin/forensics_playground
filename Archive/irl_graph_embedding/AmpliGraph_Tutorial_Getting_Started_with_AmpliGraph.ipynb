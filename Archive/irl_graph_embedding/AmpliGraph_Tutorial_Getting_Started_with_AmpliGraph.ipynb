{
  "nbformat": 4,
  "nbformat_minor": 0,
  "metadata": {
    "colab": {
      "name": "AmpliGraph Tutorial: Getting Started with AmpliGraph.ipynb",
      "private_outputs": true,
      "provenance": [],
      "collapsed_sections": []
    },
    "kernelspec": {
      "name": "python3",
      "display_name": "Python 3"
    },
    "accelerator": "GPU"
  },
  "cells": [
    {
      "cell_type": "markdown",
      "metadata": {
        "id": "hTkVsbcKegOD"
      },
      "source": [
        "---\n",
        "# Getting Started with AmpliGraph\n",
        "---\n",
        "In this tutorial we will demonstrate how to use the AmpliGraph library. \n",
        "\n",
        "Things we will cover:\n",
        "\n",
        "1. Exploration of a graph dataset\n",
        "2. Splitting graph datasets into train and test sets\n",
        "3. Training a model\n",
        "4. Saving and restoring a model\n",
        "5. Evaluating a model\n",
        "6. Using link prediction to discover unknown relations\n",
        "7. Visualizing embeddings using Tensorboard\n",
        "\n",
        "---\n",
        "\n",
        "## Requirements\n",
        "\n",
        "A Python environment with the AmpliGraph library installed. Please follow [the install guide](http://docs.ampligraph.org/en/latest/install.html).\n",
        "\n"
      ]
    },
    {
      "cell_type": "markdown",
      "metadata": {
        "id": "xSgkd42Mj9EG"
      },
      "source": [
        "Some sanity check:"
      ]
    },
    {
      "cell_type": "code",
      "metadata": {
        "id": "Ha8tDo-6RtS9"
      },
      "source": [
        "%%capture \n",
        "!pip install ampligraph; "
      ],
      "execution_count": null,
      "outputs": []
    },
    {
      "cell_type": "code",
      "metadata": {
        "id": "XKqvke5GRv14"
      },
      "source": [
        "%tensorflow_version 1.x \n",
        "import numpy as np\n",
        "import pandas as pd\n",
        "import ampligraph\n",
        "\n",
        "ampligraph.__version__"
      ],
      "execution_count": null,
      "outputs": []
    },
    {
      "cell_type": "markdown",
      "metadata": {
        "id": "E2zQO7QqjYQW"
      },
      "source": [
        "## 1. Dataset exploration"
      ]
    },
    {
      "cell_type": "markdown",
      "metadata": {
        "id": "rHKHL-tsJYeE"
      },
      "source": [
        "First things first! Lets import the required libraries and retrieve some data.\n",
        "\n",
        "In this tutorial we're going to use the [**Game of Thrones knowledge Graph**](https://ampligraph.s3-eu-west-1.amazonaws.com/datasets/GoT.csv). Please note: this isn't the *greatest* dataset for demonstrating the power of knowledge graph embeddings, but is small, intuitive and should be familiar to most users. \n",
        "\n",
        "We downloaded the [neo4j graph published here](https://github.com/neo4j-examples/game-of-thrones). Such dataset has been generated using [these APIs](https://anapioficeandfire.com/)  which expose in a machine-readable fashion the content of open free sources such as A [Wiki of Ice and Fire](http://awoiaf.westeros.org/). We discarded all properties and saved all the directed, labeled relations in a plaintext file. Each relation (i.e. a triple) is in the form: \n",
        "\n",
        "    <subject, predicate, object>\n",
        "\n",
        "The schema of the graph looks like this (image from [neo4j-examples/game-of-thrones](https://github.com/neo4j-examples/game-of-thrones)):\n",
        "\n",
        "\n",
        "\n",
        "![Game of Thrones](https://drive.google.com/uc?id=1AWwu97znjNRAhjuahuRzouUtMOKSqEG-)\n",
        "\n",
        "\n",
        "Run the following cell to pull down the dataset and load it in memory with AmpliGraph [`load_from_csv()`](http://docs.ampligraph.org/en/1.0.3/generated/ampligraph.datasets.load_from_csv.html#ampligraph.datasets.load_from_csv) utility function:"
      ]
    },
    {
      "cell_type": "code",
      "metadata": {
        "id": "IYLn3NXKegOm"
      },
      "source": [
        "import requests\n",
        "from ampligraph.datasets import load_from_csv\n",
        "\n",
        "url = 'https://ampligraph.s3-eu-west-1.amazonaws.com/datasets/GoT.csv'\n",
        "open('GoT.csv', 'wb').write(requests.get(url).content)\n",
        "X = load_from_csv('.', 'GoT.csv', sep=',')\n",
        "X[:5, ]"
      ],
      "execution_count": null,
      "outputs": []
    },
    {
      "cell_type": "markdown",
      "metadata": {
        "id": "cEuP4TG6egPF"
      },
      "source": [
        "Let's list the subject and object entities found in the dataset:"
      ]
    },
    {
      "cell_type": "code",
      "metadata": {
        "id": "Oa5EU8R8egPH"
      },
      "source": [
        "entities = np.unique(np.concatenate([X[:, 0], X[:, 2]]))\n",
        "entities"
      ],
      "execution_count": null,
      "outputs": []
    },
    {
      "cell_type": "markdown",
      "metadata": {
        "id": "MKrD7K04egPS"
      },
      "source": [
        ".. and all of the relationships that link them. Remember, these relationships only link *some* of the entities."
      ]
    },
    {
      "cell_type": "code",
      "metadata": {
        "id": "cHzhvBhbegPX"
      },
      "source": [
        "relations = np.unique(X[:, 1])\n",
        "relations"
      ],
      "execution_count": null,
      "outputs": []
    },
    {
      "cell_type": "markdown",
      "metadata": {
        "id": "81NpVTA1egP5"
      },
      "source": [
        "---\n",
        "# 2. Defining train and test datasets"
      ]
    },
    {
      "cell_type": "markdown",
      "metadata": {
        "id": "flR0xOXmegP9"
      },
      "source": [
        "As is typical in machine learning, we need to split our dataset into training and test (and sometimes validation) datasets. What differs from the standard method of randomly sampling N points to make up our test set, is that our data points are two entities linked by some relationship, and we need to take care to ensure that all entities are represented in train and test sets by at least 1 triple. To accomplish AmpliGraph provides the `train_test_split_no_unseen` function. \n",
        "\n",
        "We'll stick to common practice and divide our training and test set in an 80/20 split. "
      ]
    },
    {
      "cell_type": "code",
      "metadata": {
        "id": "4pgpcidHegQC"
      },
      "source": [
        "from ampligraph.evaluation import train_test_split_no_unseen \n",
        "\n",
        "num_test = int(len(X) * (20 / 100))\n",
        "\n",
        "data = {}\n",
        "data['train'], data['test'] = train_test_split_no_unseen(X, test_size=num_test, seed=0, allow_duplication=False) "
      ],
      "execution_count": null,
      "outputs": []
    },
    {
      "cell_type": "markdown",
      "metadata": {
        "id": "PQJkziMCegQL"
      },
      "source": [
        "Our data is now split into train/test sets. If we need to further divide into a validation dataset we can just repeat using the same procedure on the test set (and adjusting the split percentages). "
      ]
    },
    {
      "cell_type": "code",
      "metadata": {
        "id": "ltijAdQtegQN"
      },
      "source": [
        "print('Train set size: ', data['train'].shape)\n",
        "print('Test set size: ', data['test'].shape)"
      ],
      "execution_count": null,
      "outputs": []
    },
    {
      "cell_type": "markdown",
      "metadata": {
        "id": "9qBTRJ57egQW"
      },
      "source": [
        "---\n",
        "# 3. Training a model \n",
        "\n",
        "AmpliGraph has implemented several Graph embedding models (TransE, ComplEx, DistMult, HolE), but to begin with we're just going to use the ComplEx model (with  default values), so lets import that:"
      ]
    },
    {
      "cell_type": "code",
      "metadata": {
        "id": "0RshQCjgegQX"
      },
      "source": [
        "from ampligraph.latent_features import ComplEx"
      ],
      "execution_count": null,
      "outputs": []
    },
    {
      "cell_type": "markdown",
      "metadata": {
        "id": "fgAcQ1g3egQe"
      },
      "source": [
        "Lets go through the parameters to understand what's going on:\n",
        "\n",
        "- **`k`** : the dimensionality of the embedding space\n",
        "- **`eta`** ($\\eta$) : the number of negative, or false triples that must be generated at training runtime for each positive, or true triple\n",
        "- **`batches_count`** : the number of batches in which the training set is split during the training loop. If you are having into low memory issues than settings this to a higher number may help.\n",
        "- **`epochs`** : the number of epochs to train the model for.\n",
        "- **`optimizer`** : the Adam optimizer, with a learning rate of 1e-3 set via the *optimizer_params* kwarg.\n",
        "- **`loss`** : pairwise loss, with a margin of 0.5 set via the *loss_params* kwarg.\n",
        "- **`regularizer`** : $L_p$ regularization with $p=2$, i.e. l2 regularization. $\\lambda$ = 1e-5, set via the *regularizer_params* kwarg. \n",
        "\n",
        "Now we can instantiate the model:\n"
      ]
    },
    {
      "cell_type": "code",
      "metadata": {
        "id": "ap1Yd4LEegQg"
      },
      "source": [
        "model = ComplEx(batches_count=100, \n",
        "                seed=0, \n",
        "                epochs=200, \n",
        "                k=150, \n",
        "                eta=5,\n",
        "                optimizer='adam', \n",
        "                optimizer_params={'lr':1e-3},\n",
        "                loss='multiclass_nll', \n",
        "                regularizer='LP', \n",
        "                regularizer_params={'p':3, 'lambda':1e-5}, \n",
        "                verbose=True)"
      ],
      "execution_count": null,
      "outputs": []
    },
    {
      "cell_type": "markdown",
      "metadata": {
        "id": "JaJeVr-megQq"
      },
      "source": [
        "## Filtering negatives\n",
        "\n",
        "AmpliGraph aims to follow scikit-learn's ease-of-use design philosophy and simplify everything down to **`fit`**, **`evaluate`**, and **`predict`** functions. \n",
        "\n",
        "However, there are some knowledge graph specific steps we must take to ensure our model can be trained and evaluated correctly. The first of these is defining the filter that will be used to ensure that no *negative* statements generated by the corruption procedure are actually positives. This is simply done by concatenating our train and test sets. Now when negative triples are generated by the corruption strategy, we can check that they aren't actually true statements.  \n"
      ]
    },
    {
      "cell_type": "code",
      "metadata": {
        "id": "edjJcTReegQs"
      },
      "source": [
        "positives_filter = X"
      ],
      "execution_count": null,
      "outputs": []
    },
    {
      "cell_type": "markdown",
      "metadata": {
        "id": "AcI2mTwSegRh"
      },
      "source": [
        "## Fitting the model\n",
        "\n",
        "Once you run the next cell the model will train. \n",
        "\n",
        "On a modern laptop this should take ~3 minutes (although your mileage may vary, especially if you've changed any of the hyper-parameters above)."
      ]
    },
    {
      "cell_type": "code",
      "metadata": {
        "id": "CebLOmJWegRj"
      },
      "source": [
        "import tensorflow as tf\n",
        "tf.logging.set_verbosity(tf.logging.ERROR)\n",
        "\n",
        "model.fit(data['train'], early_stopping = False)"
      ],
      "execution_count": null,
      "outputs": []
    },
    {
      "cell_type": "markdown",
      "metadata": {
        "id": "89U5Ck5GegSn"
      },
      "source": [
        "---\n",
        "# 4.  Saving and restoring a model\n",
        "\n",
        "Before we go any further, let's save the best model found so that we can restore it in future."
      ]
    },
    {
      "cell_type": "code",
      "metadata": {
        "id": "Hf4SqCrSegSq"
      },
      "source": [
        "from ampligraph.latent_features import save_model, restore_model"
      ],
      "execution_count": null,
      "outputs": []
    },
    {
      "cell_type": "markdown",
      "metadata": {
        "id": "20A3h6X_egSy"
      },
      "source": [
        "This will save the model in the ampligraph_tutorial directory as *model.pickle*."
      ]
    },
    {
      "cell_type": "code",
      "metadata": {
        "id": "2InkMwHVegS0"
      },
      "source": [
        "save_model(model, './best_model.pkl')"
      ],
      "execution_count": null,
      "outputs": []
    },
    {
      "cell_type": "markdown",
      "metadata": {
        "id": "tUdlNTiLegS3"
      },
      "source": [
        ".. we can then delete the model .. "
      ]
    },
    {
      "cell_type": "code",
      "metadata": {
        "id": "QFWnBc_cegS3"
      },
      "source": [
        "del model"
      ],
      "execution_count": null,
      "outputs": []
    },
    {
      "cell_type": "markdown",
      "metadata": {
        "id": "1fwMT87iegS7"
      },
      "source": [
        ".. and then restore it from disk! Ta-da! "
      ]
    },
    {
      "cell_type": "code",
      "metadata": {
        "id": "siCZ7ftLegS8"
      },
      "source": [
        "model = restore_model('./best_model.pkl')"
      ],
      "execution_count": null,
      "outputs": []
    },
    {
      "cell_type": "markdown",
      "metadata": {
        "id": "Jn638zNuegTA"
      },
      "source": [
        "And let's just double check that the model we restored has been fit:"
      ]
    },
    {
      "cell_type": "code",
      "metadata": {
        "id": "BON6T8HTegTA"
      },
      "source": [
        "if model.is_fitted:\n",
        "    print('The model is fit!')\n",
        "else:\n",
        "    print('The model is not fit! Did you skip a step?')"
      ],
      "execution_count": null,
      "outputs": []
    },
    {
      "cell_type": "markdown",
      "metadata": {
        "id": "5vZ3wn9xegTH"
      },
      "source": [
        "---\n",
        "# 5. Evaluating a model\n",
        "\n",
        "Now it's time to evaluate our model on the test set to see how well it's performing. \n",
        "\n",
        "For this we'll use the `evaluate_performance` function:"
      ]
    },
    {
      "cell_type": "code",
      "metadata": {
        "id": "DcjRY2UqegTI"
      },
      "source": [
        "from ampligraph.evaluation import evaluate_performance"
      ],
      "execution_count": null,
      "outputs": []
    },
    {
      "cell_type": "markdown",
      "metadata": {
        "id": "Lmrv9GkWegTL"
      },
      "source": [
        "And let's look at the arguments to this function:\n",
        "\n",
        "- **`X`** - the data to evaluate on. We're going to use our test set to evaluate.\n",
        "- **`model`** - the model we previously trained.\n",
        "- **`filter_triples`** - will filter out the false negatives generated by the corruption strategy. \n",
        "- **`use_default_protocol`** - specifies whether to use the default corruption protocol. If True, then subj and obj are corrupted separately during evaluation.\n",
        "- **`verbose`** - will give some nice log statements. Let's leave it on for now.\n"
      ]
    },
    {
      "cell_type": "markdown",
      "metadata": {
        "id": "hKTpMvV8egTM"
      },
      "source": [
        "## Running evaluation"
      ]
    },
    {
      "cell_type": "code",
      "metadata": {
        "id": "n1uWY6kdegTN"
      },
      "source": [
        "ranks = evaluate_performance(data['test'], \n",
        "                             model=model, \n",
        "                             filter_triples=positives_filter,   # Corruption strategy filter defined above \n",
        "                             use_default_protocol=True, # corrupt subj and obj separately while evaluating\n",
        "                             verbose=True)"
      ],
      "execution_count": null,
      "outputs": []
    },
    {
      "cell_type": "markdown",
      "metadata": {
        "id": "hFPOvdFZegTX"
      },
      "source": [
        "\n",
        "The ***ranks*** returned by the evaluate_performance function indicate the rank at which the test set triple was found when performing link prediction using the model. \n",
        "\n",
        "For example, given the triple:\n",
        "\n",
        "    <House Stark of Winterfell, IN_REGION The North>\n",
        "    \n",
        "The model returns a rank of 7. This tells us that while it's not the highest likelihood true statement (which would be given a rank 1), it's pretty likely.\n"
      ]
    },
    {
      "cell_type": "markdown",
      "metadata": {
        "id": "r5-RjV2iegTc"
      },
      "source": [
        "## Metrics\n",
        "Let's compute some evaluate metrics and print them out.\n",
        "\n",
        "We're going to use the mrr_score (mean reciprocal rank) and hits_at_n_score functions. \n",
        "\n",
        "- ***mrr_score***:  The function computes the mean of the reciprocal of elements of a vector of rankings ranks.\n",
        "- ***hits_at_n_score***: The function computes how many elements of a vector of rankings ranks make it to the top n positions.\n"
      ]
    },
    {
      "cell_type": "code",
      "metadata": {
        "id": "ULu0QqJeegTd"
      },
      "source": [
        "from ampligraph.evaluation import mr_score, mrr_score, hits_at_n_score\n",
        "\n",
        "mrr = mrr_score(ranks)\n",
        "print(\"MRR: %.2f\" % (mrr))\n",
        "\n",
        "hits_10 = hits_at_n_score(ranks, n=10)\n",
        "print(\"Hits@10: %.2f\" % (hits_10))\n",
        "hits_3 = hits_at_n_score(ranks, n=3)\n",
        "print(\"Hits@3: %.2f\" % (hits_3))\n",
        "hits_1 = hits_at_n_score(ranks, n=1)\n",
        "print(\"Hits@1: %.2f\" % (hits_1))"
      ],
      "execution_count": null,
      "outputs": []
    },
    {
      "cell_type": "markdown",
      "metadata": {
        "id": "6qf-59ipegTo"
      },
      "source": [
        "\n",
        "# 6. Predicting New Links\n",
        "\n",
        "Link prediction allows us to infer missing links in a graph. This has many real-world use cases, such as predicting connections between people in a social network, interactions between proteins in a biological network, and music recommendation based on prior user taste. \n",
        "\n",
        "In our case, we're going to see which of the following candidate statements (that we made up) are more likely to be true:\n"
      ]
    },
    {
      "cell_type": "code",
      "metadata": {
        "id": "JW0IVcvjegTr"
      },
      "source": [
        "X_unseen = np.array([\n",
        "    ['Jorah Mormont', 'SPOUSE', 'Daenerys Targaryen'],\n",
        "    ['Tyrion Lannister', 'SPOUSE', 'Missandei'],\n",
        "    [\"King's Landing\", 'SEAT_OF', 'House Lannister of Casterly Rock'],\n",
        "    ['Sansa Stark', 'SPOUSE', 'Petyr Baelish'],\n",
        "    ['Daenerys Targaryen', 'SPOUSE', 'Jon Snow'],\n",
        "    ['Daenerys Targaryen', 'SPOUSE', 'Craster'],\n",
        "    ['House Stark of Winterfell', 'IN_REGION', 'The North'],\n",
        "    ['House Stark of Winterfell', 'IN_REGION', 'Dorne'],\n",
        "    ['House Tyrell of Highgarden', 'IN_REGION', 'Beyond the Wall'],\n",
        "    ['Brandon Stark', 'ALLIED_WITH', 'House Stark of Winterfell'],\n",
        "    ['Brandon Stark', 'ALLIED_WITH', 'House Lannister of Casterly Rock'],    \n",
        "    ['Rhaegar Targaryen', 'PARENT_OF', 'Jon Snow'],\n",
        "    ['House Hutcheson', 'SWORN_TO', 'House Tyrell of Highgarden'],\n",
        "    ['Daenerys Targaryen', 'ALLIED_WITH', 'House Stark of Winterfell'],\n",
        "    ['Daenerys Targaryen', 'ALLIED_WITH', 'House Lannister of Casterly Rock'],\n",
        "    ['Jaime Lannister', 'PARENT_OF', 'Myrcella Baratheon'],\n",
        "    ['Robert I Baratheon', 'PARENT_OF', 'Myrcella Baratheon'],\n",
        "    ['Cersei Lannister', 'PARENT_OF', 'Myrcella Baratheon'],\n",
        "    ['Cersei Lannister', 'PARENT_OF', 'Brandon Stark'],\n",
        "    [\"Tywin Lannister\", 'PARENT_OF', 'Jaime Lannister'],\n",
        "    [\"Missandei\", 'SPOUSE', 'Grey Worm'],\n",
        "    [\"Brienne of Tarth\", 'SPOUSE', 'Jaime Lannister']\n",
        "])"
      ],
      "execution_count": null,
      "outputs": []
    },
    {
      "cell_type": "code",
      "metadata": {
        "id": "V4berhGdNK9_"
      },
      "source": [
        "unseen_filter = np.array(list({tuple(i) for i in np.vstack((positives_filter, X_unseen))}))"
      ],
      "execution_count": null,
      "outputs": []
    },
    {
      "cell_type": "code",
      "metadata": {
        "id": "qqF540UmNOW0"
      },
      "source": [
        "ranks_unseen = evaluate_performance(\n",
        "    X_unseen, \n",
        "    model=model, \n",
        "    filter_triples=unseen_filter,   # Corruption strategy filter defined above \n",
        "    corrupt_side = 's+o',\n",
        "    use_default_protocol=False, # corrupt subj and obj separately while evaluating\n",
        "    verbose=True\n",
        ")"
      ],
      "execution_count": null,
      "outputs": []
    },
    {
      "cell_type": "code",
      "metadata": {
        "id": "ZjSa4sJxegTv"
      },
      "source": [
        "scores = model.predict(X_unseen)"
      ],
      "execution_count": null,
      "outputs": []
    },
    {
      "cell_type": "markdown",
      "metadata": {
        "id": "VDGYo-zbegT0"
      },
      "source": [
        "We transform the scores (real numbers) into probabilities (bound between 0 and 1) using the expit transform.\n",
        "\n",
        "Note that the probabilities are not calibrated in any sense. \n",
        "\n",
        "Advanced note: To calibrate the probabilities, one may use a procedure such as [Platt scaling](https://en.wikipedia.org/wiki/Platt_scaling) or [Isotonic regression](https://en.wikipedia.org/wiki/Isotonic_regression). The challenge is to define what is a true triple and what is a false one, as the calibration of the probability of a triple being true depends on the base rate of positives and negatives."
      ]
    },
    {
      "cell_type": "code",
      "metadata": {
        "id": "f0wD5YkbegT1"
      },
      "source": [
        "from scipy.special import expit\n",
        "probs = expit(scores)"
      ],
      "execution_count": null,
      "outputs": []
    },
    {
      "cell_type": "code",
      "metadata": {
        "scrolled": true,
        "id": "G1phXrSeegT6"
      },
      "source": [
        "pd.DataFrame(list(zip([' '.join(x) for x in X_unseen], \n",
        "                      ranks_unseen, \n",
        "                      np.squeeze(scores),\n",
        "                      np.squeeze(probs))), \n",
        "             columns=['statement', 'rank', 'score', 'prob']).sort_values(\"score\")"
      ],
      "execution_count": null,
      "outputs": []
    },
    {
      "cell_type": "markdown",
      "metadata": {
        "id": "R6t1peSpODTa"
      },
      "source": [
        "We see that the embeddings captured some truths about Westeros. For example, **House Stark is placed in the North rather than Dorne**. It also realises **Daenerys Targaryen has no relation with Craster**, **nor Tyrion with Missandei**. It captures random trivia, as **House Hutcheson is indeed in the Reach and sworn to the Tyrells**. On the other hand, some marriages that it predicts never really happened. These mistakes are understandable: those characters were indeed close and appeared together in many different circumstances. "
      ]
    },
    {
      "cell_type": "markdown",
      "metadata": {
        "id": "FCD_uxqDegT_"
      },
      "source": [
        "---\n",
        "# 7. Visualizing Embeddings with Tensorboard projector \n",
        "\n",
        "The kind folks at Google have created [Tensorboard](https://www.tensorflow.org/tensorboard), which allows us to graph how our model is learning (or .. not :|), peer into the innards of neural networks, and [visualize high-dimensional embeddings in the browser](https://projector.tensorflow.org/).   \n",
        "\n",
        "Lets import the [`create_tensorboard_visualization`](http://docs.ampligraph.org/en/1.0.3/generated/ampligraph.utils.create_tensorboard_visualizations.html#ampligraph.utils.create_tensorboard_visualizations) function, which simplifies the creation of the files necessary for Tensorboard to display the embeddings."
      ]
    },
    {
      "cell_type": "code",
      "metadata": {
        "id": "HbvX44gdegUA"
      },
      "source": [
        "from ampligraph.utils import create_tensorboard_visualizations"
      ],
      "execution_count": null,
      "outputs": []
    },
    {
      "cell_type": "markdown",
      "metadata": {
        "id": "g2MnRrb2egUD"
      },
      "source": [
        "And now we'll run the function with our model, specifying the output path:"
      ]
    },
    {
      "cell_type": "code",
      "metadata": {
        "id": "s1z0VrWRegUD"
      },
      "source": [
        "create_tensorboard_visualizations(model, 'GoT_embeddings')"
      ],
      "execution_count": null,
      "outputs": []
    },
    {
      "cell_type": "markdown",
      "metadata": {
        "id": "y8P-6-spq2ky"
      },
      "source": [
        "If all went well, we should now have a number of files in the `AmpliGraph/tutorials/GoT_embeddings` directory:\n",
        "\n",
        "```\n",
        "GoT_embeddings/\n",
        "    ├── checkpoint\n",
        "    ├── embeddings_projector.tsv\n",
        "    ├── graph_embedding.ckpt.data-00000-of-00001\n",
        "    ├── graph_embedding.ckpt.index\n",
        "    ├── graph_embedding.ckpt.meta\n",
        "    ├── metadata.tsv\n",
        "    └── projector_config.pbtxt\n",
        "```\n",
        "\n",
        "To visualize the embeddings in Tensorboard, run the following from your command line inside `AmpliGraph/tutorials`:\n",
        "\n",
        "```bash\n",
        "tensorboard --logdir=./visualizations\n",
        "```\n",
        "    \n",
        ".. and once your browser opens up you should be able to see and explore your embeddings as below (PCA-reduced, two components):\n",
        "\n",
        "![GoT Tensorboard plot](https://drive.google.com/uc?id=1LL11W7VtsabugOpg9NutuxD1l7lZI1zg)\n",
        "\n",
        "---\n",
        "# The End\n",
        "\n",
        "You made it to the end! Well done!\n",
        "\n",
        "For more information please visit the [AmpliGraph GitHub](github.com/Accenture/AmpliGraph) (and remember to star the project!), or check out the [documentation](docs.ampligraph.org) \n",
        "\n",
        "---"
      ]
    }
  ]
}