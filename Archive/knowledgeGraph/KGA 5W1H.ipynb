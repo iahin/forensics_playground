{
 "cells": [
  {
   "cell_type": "code",
   "execution_count": 2,
   "metadata": {},
   "outputs": [],
   "source": [
    "import json\n",
    "from tqdm import tqdm\n",
    "\n",
    "import pandas\n",
    "import networkx as nx\n",
    "from pyvis.network import Network"
   ]
  },
  {
   "cell_type": "code",
   "execution_count": 12,
   "metadata": {},
   "outputs": [],
   "source": [
    "G = nx.DiGraph()"
   ]
  },
  {
   "cell_type": "code",
   "execution_count": 24,
   "metadata": {},
   "outputs": [],
   "source": [
    "G.add_node( \"spf1\", type = \"case\"  )\n",
    "G.add_node( \"hacker666\", type = \"actor\"  )\n",
    "G.add_node( \"192.1.2.3\", type = \"ip_address\"  )\n",
    "G.add_node( \"innocentuser\", type = \"actor\"  )\n",
    "\n",
    "G.add_edge( \"spf1\", 'innocentuser' ,  link=\"has\" )\n",
    "G.add_edge( \"innocentuser\", '192.1.2.3' ,  link=\"accessed\" )\n",
    "G.add_edge( 'hacker666', \"192.1.2.3\",  link=\"domain_of\" )"
   ]
  },
  {
   "cell_type": "code",
   "execution_count": 14,
   "metadata": {},
   "outputs": [],
   "source": [
    "# view the result in pyviz\n",
    "nt = Network()\n",
    "nt.show_buttons()\n",
    "nt.from_nx(G)\n",
    "nt.show(\"nx.html\")"
   ]
  },
  {
   "cell_type": "markdown",
   "metadata": {},
   "source": [
    "# 5W1H\n",
    "Answering Who, when, where, what, why, how."
   ]
  },
  {
   "cell_type": "code",
   "execution_count": 25,
   "metadata": {},
   "outputs": [
    {
     "name": "stdout",
     "output_type": "stream",
     "text": [
      "{'innocentuser', 'hacker666'}\n"
     ]
    }
   ],
   "source": [
    "Query_Who = set(u for u,v,r in G.edges(data=True)\n",
    "               if G.node[u]['type']=='actor')\n",
    "\n",
    "print(Query_Who)"
   ]
  }
 ],
 "metadata": {
  "kernelspec": {
   "display_name": "Python 3",
   "language": "python",
   "name": "python3"
  },
  "language_info": {
   "codemirror_mode": {
    "name": "ipython",
    "version": 3
   },
   "file_extension": ".py",
   "mimetype": "text/x-python",
   "name": "python",
   "nbconvert_exporter": "python",
   "pygments_lexer": "ipython3",
   "version": "3.7.9"
  }
 },
 "nbformat": 4,
 "nbformat_minor": 4
}
