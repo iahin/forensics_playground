{
 "cells": [
  {
   "cell_type": "code",
   "execution_count": 4,
   "id": "60ad3822",
   "metadata": {},
   "outputs": [],
   "source": [
    "import numpy as np\n",
    "from glob import glob\n",
    "import json\n",
    "import networkx as nx\n",
    "from networkx.readwrite import json_graph\n",
    "from sklearn.metrics.pairwise import cosine_similarity\n",
    "from sklearn.preprocessing import MinMaxScaler, StandardScaler\n",
    "from karateclub import Graph2Vec\n",
    "from sklearn.linear_model import SGDClassifier\n",
    "from sklearn.manifold import TSNE\n",
    "from matplotlib import pyplot as plt\n",
    "from itertools import cycle, islice\n",
    "import creme\n",
    "import pandas as pd\n",
    "import random\n",
    "from sklearn.model_selection import train_test_split\n",
    "from sklearn.linear_model import SGDClassifier, SGDOneClassSVM\n",
    "from collections import defaultdict\n",
    "from sklearn.calibration import CalibratedClassifierCV\n",
    "from sklearn.linear_model import LogisticRegression\n",
    "from sklearn.ensemble import AdaBoostClassifier\n",
    "from sklearn.ensemble import GradientBoostingClassifier\n",
    "from sklearn.tree import DecisionTreeClassifier\n",
    "from sklearn.preprocessing import MinMaxScaler\n",
    "\n",
    "pd.set_option('display.max_colwidth', None)\n",
    "\n",
    "std = StandardScaler()\n"
   ]
  },
  {
   "cell_type": "code",
   "execution_count": 5,
   "id": "80e9e418",
   "metadata": {},
   "outputs": [],
   "source": [
    "with open('data/REDDIT-BINARY_graph2vec_classification_train.npy', 'rb') as f:\n",
    "    train = np.load(f, allow_pickle=True)\n",
    "with open('data/PROTEINS_graph2vec_classification_train.npy', 'rb') as f:\n",
    "    unknowntrain = np.load(f, allow_pickle=True)"
   ]
  },
  {
   "cell_type": "code",
   "execution_count": 6,
   "id": "8d6296ac",
   "metadata": {},
   "outputs": [
    {
     "data": {
      "text/plain": [
       "[2, 3, 0, 1, 2, 2, 3, 0, 1]"
      ]
     },
     "execution_count": 6,
     "metadata": {},
     "output_type": "execute_result"
    }
   ],
   "source": [
    "unknowntrain_y = []\n",
    "for x,y,g in unknowntrain:\n",
    "    if y == 0:\n",
    "        unknowntrain_y.append(2)\n",
    "    if y == 1:\n",
    "        unknowntrain_y.append(3)\n",
    "\n",
    "X = [x for x, y, g in train] + [x for x, y, g in unknowntrain]\n",
    "X = std.fit_transform(X)\n",
    "Y = [y for x, y, g in train] + unknowntrain_y\n",
    "\n",
    "X_train, X_test, y_train, y_test = train_test_split(\n",
    "    X, Y, train_size=0.6, random_state=47, shuffle=True)\n",
    "y_train\n"
   ]
  },
  {
   "cell_type": "markdown",
   "id": "468b95f0",
   "metadata": {},
   "source": [
    "# SGDclassifier\n",
    "- When inclue multiclass, automaticaly use OvA\n",
    "- Able to get score percentage by using min-max normalisation\n",
    "\n",
    "# Reference\n",
    "- https://www.youtube.com/watch?v=5KyH6v8oKNQ"
   ]
  },
  {
   "cell_type": "code",
   "execution_count": 7,
   "id": "66719ce1",
   "metadata": {},
   "outputs": [],
   "source": [
    "def train_classif(model, epoch, x_embed, y_label, unique_lbl):\n",
    "    for i in range(epoch):\n",
    "        model.partial_fit(x_embed, y_label, unique_lbl)\n",
    "\n",
    "    return model\n",
    "\n",
    "def predict_classif(model, x_embed):\n",
    "    pred = model.predict([x_embed]).squeeze()\n",
    "    score = model.decision_function([x_embed])\n",
    "#     score = (score - score.min()) / (score.max() - score.min())\n",
    "#     return pred.squeeze(), X_std.squeeze()[pred] * 100\n",
    "    return pred, score"
   ]
  },
  {
   "cell_type": "code",
   "execution_count": 8,
   "id": "fdce2d5d",
   "metadata": {},
   "outputs": [
    {
     "name": "stdout",
     "output_type": "stream",
     "text": [
      "0\n",
      "1 [[ -12.98859613   27.98421363  -56.50749914 -326.02952325]]\n"
     ]
    }
   ],
   "source": [
    "# initially train with 4 sameples\n",
    "model = SGDClassifier(random_state=47, tol=1e-3)\n",
    "model = train_classif(model, 100, X_train[:4], y_train[:4], [0, 1, 2, 3])\n",
    "pred, score = predict_classif(model, X_test[2])\n",
    "print(y_test[2])\n",
    "print(pred, score)"
   ]
  },
  {
   "cell_type": "code",
   "execution_count": 6,
   "id": "bb645d95",
   "metadata": {},
   "outputs": [
    {
     "name": "stdout",
     "output_type": "stream",
     "text": [
      "0\n",
      "0 [1.         0.71954004 0.54838626 0.        ]\n"
     ]
    }
   ],
   "source": [
    "# Train with 1 new sample\n",
    "model = train_classif(model, 100, X_train[4:5], y_train[4:5], [0,1,2,3])\n",
    "pred, score = predict_classif(model, X_test[2])\n",
    "print(y_test[2])\n",
    "print(pred, score)"
   ]
  },
  {
   "cell_type": "markdown",
   "id": "2189ea89",
   "metadata": {},
   "source": [
    "# Using dataset from custodio gen data"
   ]
  },
  {
   "cell_type": "code",
   "execution_count": 46,
   "id": "c799b3f1",
   "metadata": {},
   "outputs": [],
   "source": [
    "folder = glob('slade_data\\\\*')\n",
    "class1 = []\n",
    "class2 = []\n",
    "\n",
    "for file in folder:\n",
    "    casetype = file.split('\\\\')[1].split('-')[0]\n",
    "    if 'ipnet' in casetype:\n",
    "        graphjson = json.load(open(file,'r'))\n",
    "        G = json_graph.node_link_graph(graphjson)\n",
    "        H = nx.convert_node_labels_to_integers(G)\n",
    "        class1.append(H)\n",
    "    if 'smtp' in casetype:\n",
    "        graphjson = json.load(open(file,'r'))\n",
    "        G = json_graph.node_link_graph(graphjson)\n",
    "        H = nx.convert_node_labels_to_integers(G)\n",
    "        class2.append(H)"
   ]
  },
  {
   "cell_type": "code",
   "execution_count": 89,
   "id": "b0a6ca32",
   "metadata": {},
   "outputs": [],
   "source": [
    "packclass = class1 + class2\n",
    "model = Graph2Vec(dimensions=64, epochs=50)\n",
    "model.fit(packclass)\n",
    "packclassembelist = model.get_embedding()\n",
    "packclassembelist = scaler.fit_transform(packclassembelist)\n",
    "\n",
    "train_X = np.array([packclassembelist[0], packclassembelist[1], packclassembelist[3] , packclassembelist[4]])\n",
    "train_y = [0,0,1,1]\n",
    "\n",
    "test_X = np.array([packclassembelist[2] , packclassembelist[5] , packclassembelist[6]])\n",
    "test_y = [0,1,1]"
   ]
  },
  {
   "cell_type": "code",
   "execution_count": 90,
   "id": "4beb9591",
   "metadata": {},
   "outputs": [
    {
     "data": {
      "text/plain": [
       "array([1, 1, 0, 0, 0, 1, 0], dtype=int64)"
      ]
     },
     "execution_count": 90,
     "metadata": {},
     "output_type": "execute_result"
    }
   ],
   "source": [
    "from sklearn.cluster import SpectralClustering\n",
    "clustering = SpectralClustering(n_clusters=2,\n",
    "        assign_labels='discretize',\n",
    "        random_state=0).fit(packclassembelist)\n",
    "clustering.labels_"
   ]
  },
  {
   "cell_type": "code",
   "execution_count": 91,
   "id": "9e749632",
   "metadata": {},
   "outputs": [],
   "source": [
    "model = SGDClassifier(random_state=47, tol=1e-3)\n",
    "model = train_classif(model, 100, train_X, train_y, [0, 1])"
   ]
  },
  {
   "cell_type": "code",
   "execution_count": 92,
   "id": "245df1f2",
   "metadata": {},
   "outputs": [
    {
     "name": "stdout",
     "output_type": "stream",
     "text": [
      "0\n",
      "1 [16.7241284]\n"
     ]
    }
   ],
   "source": [
    "pred, score = predict_classif(model, test_X[0])\n",
    "print(test_y[0])\n",
    "print(pred, score)"
   ]
  },
  {
   "cell_type": "code",
   "execution_count": 93,
   "id": "a67bbc5e",
   "metadata": {},
   "outputs": [
    {
     "name": "stdout",
     "output_type": "stream",
     "text": [
      "0.6666666666666666\n"
     ]
    }
   ],
   "source": [
    "print(model.score(test_X,test_y))"
   ]
  },
  {
   "cell_type": "markdown",
   "id": "f22b1c82",
   "metadata": {},
   "source": [
    "# Experiment dump"
   ]
  },
  {
   "cell_type": "code",
   "execution_count": 100,
   "id": "6253424b",
   "metadata": {},
   "outputs": [],
   "source": [
    "def get_similairty_graph(G, H):\n",
    "    \"\"\"\n",
    "    to get D3 graph data object for rendering to see graph similarity\n",
    "    \"\"\"\n",
    "    GH = nx.compose(G, H)\n",
    "    # set edge colors\n",
    "    edge_colors = dict()\n",
    "    for u, v, attr in GH.edges(data=True):\n",
    "        if G.has_edge(u, v):\n",
    "            if H.has_edge(u, v):\n",
    "                GH[u][v]['color'] = 'magenta'\n",
    "                GH[u][v]['size'] = 5\n",
    "                continue\n",
    "            #GH[u][v]['color'] = 'lightgreen'\n",
    "        #elif H.has_edge(u, v):\n",
    "            #GH[u][v]['color'] = 'lightblue'\n",
    "\n",
    "    # # set node colors\n",
    "    # G_nodes = set(G.nodes())\n",
    "    # H_nodes = set(H.nodes())\n",
    "    # node_colors = []\n",
    "    # for node in GH.nodes():\n",
    "    #     if node in G_nodes:\n",
    "    #         if node in H_nodes:\n",
    "    #             node_colors.append('magenta')\n",
    "    #             continue\n",
    "    #         node_colors.append('lightgreen')\n",
    "    #     if node in H_nodes:\n",
    "    #         node_colors.append('lightblue')\n",
    "\n",
    "    graph2json = json_graph.node_link_data(GH)\n",
    "    graph2json.pop('directed', None)\n",
    "    graph2json.pop('multigraph', None)\n",
    "    graph2json.pop('graph', None)\n",
    "\n",
    "    return graph2json"
   ]
  },
  {
   "cell_type": "code",
   "execution_count": 101,
   "id": "68be470c",
   "metadata": {},
   "outputs": [],
   "source": [
    "grasdasd = get_similairty_graph(class1[0], class2[0])"
   ]
  },
  {
   "cell_type": "code",
   "execution_count": 102,
   "id": "da5992d5",
   "metadata": {},
   "outputs": [],
   "source": [
    "json.dump(grasdasd,open('asdasd.json', 'w'))"
   ]
  }
 ],
 "metadata": {
  "kernelspec": {
   "display_name": "Python 3",
   "language": "python",
   "name": "python3"
  },
  "language_info": {
   "codemirror_mode": {
    "name": "ipython",
    "version": 3
   },
   "file_extension": ".py",
   "mimetype": "text/x-python",
   "name": "python",
   "nbconvert_exporter": "python",
   "pygments_lexer": "ipython3",
   "version": "3.7.6"
  }
 },
 "nbformat": 4,
 "nbformat_minor": 5
}
