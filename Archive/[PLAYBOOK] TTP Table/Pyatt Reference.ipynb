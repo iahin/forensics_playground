{
 "cells": [
  {
   "cell_type": "code",
   "execution_count": 2,
   "metadata": {},
   "outputs": [],
   "source": [
    "from pyattck import Attck\n",
    "from pprint import pprint"
   ]
  },
  {
   "cell_type": "code",
   "execution_count": 7,
   "metadata": {},
   "outputs": [],
   "source": [
    "attck = Attck()\n",
    "detectionlist = []\n",
    "\n",
    "for technique in attck.enterprise.techniques:\n",
    "    poss_det = technique.possible_detections\n",
    "    if poss_det:\n",
    "        for items in poss_det:\n",
    "            if \"data_source\" in items.keys():\n",
    "                data_sor = items[\"data_source\"]\n",
    "                if isinstance(data_sor, dict) and \"detection\" in data_sor.keys() and \"logsource\" in data_sor.keys():\n",
    "                    detection = data_sor[\"detection\"]\n",
    "                    logsource = data_sor[\"logsource\"]\n",
    "                    techID = technique.id\n",
    "                    detectionlist.append((techID, detection))\n",
    "                    \n",
    "#                     if technique.id == \"T1087\":\n",
    "#                         detection = data_sor[\"detection\"]\n",
    "#                         logsource = data_sor[\"logsource\"]\n",
    "#                         tags = data_sor[\"tags\"]\n",
    "#                         techID = technique.id\n",
    "                        \n",
    "#                         pprint(techID)\n",
    "#                         pprint(detection)\n",
    "#                         pprint(tags)\n",
    "    "
   ]
  },
  {
   "cell_type": "code",
   "execution_count": 46,
   "metadata": {},
   "outputs": [],
   "source": [
    "selectech = []\n",
    "for technique in attck.enterprise.techniques:\n",
    "    technic = technique.id\n",
    "    tactic = technique.tactics\n",
    "    tactic = [x.id for x in tactic]\n",
    "\n",
    "    if any(x for x in tactic if x == \"TA0002\"):\n",
    "        selectech.append(technic)"
   ]
  },
  {
   "cell_type": "code",
   "execution_count": 47,
   "metadata": {},
   "outputs": [
    {
     "data": {
      "text/plain": [
       "['T1059',\n",
       " 'T1175',\n",
       " 'T1203',\n",
       " 'T1061',\n",
       " 'T1559',\n",
       " 'T1106',\n",
       " 'T1053',\n",
       " 'T1064',\n",
       " 'T1129',\n",
       " 'T1072',\n",
       " 'T1153',\n",
       " 'T1569',\n",
       " 'T1204',\n",
       " 'T1047']"
      ]
     },
     "execution_count": 47,
     "metadata": {},
     "output_type": "execute_result"
    }
   ],
   "source": [
    "selectech"
   ]
  },
  {
   "cell_type": "code",
   "execution_count": 48,
   "metadata": {},
   "outputs": [
    {
     "name": "stdout",
     "output_type": "stream",
     "text": [
      "yes\n",
      "yes\n",
      "yes\n",
      "yes\n",
      "yes\n",
      "yes\n",
      "yes\n",
      "yes\n",
      "yes\n",
      "yes\n",
      "yes\n",
      "yes\n",
      "yes\n",
      "yes\n",
      "yes\n",
      "yes\n",
      "yes\n"
     ]
    }
   ],
   "source": [
    "for y in selectech:\n",
    "    for x in detectionlist:\n",
    "        if y in x:\n",
    "            print(\"yes\")"
   ]
  },
  {
   "cell_type": "code",
   "execution_count": 53,
   "metadata": {
    "scrolled": false
   },
   "outputs": [
    {
     "name": "stdout",
     "output_type": "stream",
     "text": [
      "T1059_Command and Scripting Interpreter\n",
      "[{'data_source': {'author': 'Florian Roth',\n",
      "                  'description': 'Detects suspicious shell commands used in '\n",
      "                                 'various Equation Group scripts and tools',\n",
      "                  'detection': {'condition': 'keywords',\n",
      "                                'keywords': ['chown root*chmod 4777 ',\n",
      "                                             'cp /bin/sh .;chown',\n",
      "                                             'chmod 4777 '\n",
      "                                             '/tmp/.scsi/dev/bin/gsh',\n",
      "                                             'chown root:root '\n",
      "                                             '/tmp/.scsi/dev/bin/',\n",
      "                                             'chown root:root x;',\n",
      "                                             '/bin/telnet locip locport < '\n",
      "                                             '/dev/console | /bin/sh',\n",
      "                                             '/tmp/ratload',\n",
      "                                             'ewok -t ',\n",
      "                                             'xspy -display ',\n",
      "                                             'cat > /dev/tcp/127.0.0.1/80 '\n",
      "                                             '<<END',\n",
      "                                             'rm -f '\n",
      "                                             '/current/tmp/ftshell.latest',\n",
      "                                             'ghost_* -v ',\n",
      "                                             ' --wipe > /dev/null',\n",
      "                                             'ping -c 2 *; grep * '\n",
      "                                             '/proc/net/arp >/tmp/gx',\n",
      "                                             'iptables * OUTPUT -p tcp -d '\n",
      "                                             '127.0.0.1 --tcp-flags RST RST -j '\n",
      "                                             'DROP;',\n",
      "                                             '> /var/log/audit/audit.log; rm '\n",
      "                                             '-f .',\n",
      "                                             'cp /var/log/audit/audit.log .tmp',\n",
      "                                             'sh >/dev/tcp/* <&1 2>&1',\n",
      "                                             'ncat -vv -l -p * <',\n",
      "                                             'nc -vv -l -p * <',\n",
      "                                             '< /dev/console | uudecode && '\n",
      "                                             'uncompress',\n",
      "                                             'sendmail -osendmail;chmod +x '\n",
      "                                             'sendmail',\n",
      "                                             '/usr/bin/wget -O /tmp/a http* && '\n",
      "                                             'chmod 755 /tmp/cron',\n",
      "                                             'chmod 666 /var/run/utmp~',\n",
      "                                             'chmod 700 nscd crond',\n",
      "                                             'cp /etc/shadow /tmp/.',\n",
      "                                             '</dev/console |uudecode > '\n",
      "                                             '/dev/null 2>&1 && uncompress',\n",
      "                                             'chmod 700 jp&&netstat -an|grep',\n",
      "                                             'uudecode > /dev/null 2>&1 && '\n",
      "                                             'uncompress -f * && chmod 755',\n",
      "                                             'chmod 700 crond',\n",
      "                                             'wget http*; chmod +x '\n",
      "                                             '/tmp/sendmail',\n",
      "                                             'chmod 700 fp sendmail pt',\n",
      "                                             'chmod 755 /usr/vmsys/bin/pipe',\n",
      "                                             'chmod -R 755 /usr/vmsys',\n",
      "                                             'chmod 755 $opbin/*tunnel',\n",
      "                                             'chmod 700 sendmail',\n",
      "                                             'chmod 0700 sendmail',\n",
      "                                             '/usr/bin/wget '\n",
      "                                             'http*sendmail;chmod +x sendmail;',\n",
      "                                             '&& telnet * 2>&1 </dev/console']},\n",
      "                  'falsepositives': ['Unknown'],\n",
      "                  'id': '41e5c73d-9983-4b69-bd03-e13b67e9623c',\n",
      "                  'level': 'high',\n",
      "                  'logsource': {'product': 'linux'},\n",
      "                  'references': ['https://medium.com/@shadowbrokerss/dont-forget-your-base-867d304a94b1'],\n",
      "                  'tags': ['attack.execution', 'attack.g0020', 'attack.t1059'],\n",
      "                  'title': 'Equation Group Indicators'}},\n",
      " {'data_source': {'author': 'Florian Roth',\n",
      "                  'date': '2017/05/31',\n",
      "                  'description': 'This events that are generated when using '\n",
      "                                 'the hacktool Ruler by Sensepost',\n",
      "                  'detection': {'condition': '(1 of selection*)',\n",
      "                                'selection1': {'EventID': [4776],\n",
      "                                               'Workstation': 'RULER'},\n",
      "                                'selection2': {'EventID': [4624, 4625],\n",
      "                                               'WorkstationName': 'RULER'}},\n",
      "                  'falsepositives': ['Go utilities that use staaldraad awesome '\n",
      "                                     'NTLM library'],\n",
      "                  'id': '24549159-ac1b-479c-8175-d42aea947cae',\n",
      "                  'level': 'high',\n",
      "                  'logsource': {'product': 'windows', 'service': 'security'},\n",
      "                  'modified': '2019/07/26',\n",
      "                  'references': ['https://github.com/sensepost/ruler',\n",
      "                                 'https://github.com/sensepost/ruler/issues/47',\n",
      "                                 'https://github.com/staaldraad/go-ntlm/blob/master/ntlm/ntlmv1.go#L427',\n",
      "                                 'https://docs.microsoft.com/en-us/windows/security/threat-protection/auditing/event-4776',\n",
      "                                 'https://docs.microsoft.com/en-us/windows/security/threat-protection/auditing/event-4624'],\n",
      "                  'tags': ['attack.discovery',\n",
      "                           'attack.execution',\n",
      "                           'attack.t1087',\n",
      "                           'attack.t1075',\n",
      "                           'attack.t1114',\n",
      "                           'attack.t1059'],\n",
      "                  'title': 'Hacktool Ruler'}},\n",
      " {'data_source': {'author': 'Florian Roth',\n",
      "                  'description': 'Detects a suspicious command line execution '\n",
      "                                 'that includes an URL and AppData string in '\n",
      "                                 'the command line parameters as used by '\n",
      "                                 'several droppers (js/vbs > powershell)',\n",
      "                  'detection': {'condition': 'selection',\n",
      "                                'selection': {'CommandLine': ['cmd.exe /c '\n",
      "                                                              '*http://*%AppData%',\n",
      "                                                              'cmd.exe /c '\n",
      "                                                              '*https://*%AppData%']}},\n",
      "                  'falsepositives': ['High'],\n",
      "                  'fields': ['CommandLine', 'ParentCommandLine'],\n",
      "                  'id': '1ac8666b-046f-4201-8aba-1951aaec03a3',\n",
      "                  'level': 'medium',\n",
      "                  'logsource': {'category': 'process_creation',\n",
      "                                'product': 'windows'},\n",
      "                  'references': ['https://www.hybrid-analysis.com/sample/3a1f01206684410dbe8f1900bbeaaa543adfcd07368ba646b499fa5274b9edf6?environmentId=100',\n",
      "                                 'https://www.hybrid-analysis.com/sample/f16c729aad5c74f19784a24257236a8bbe27f7cdc4a89806031ec7f1bebbd475?environmentId=100'],\n",
      "                  'status': 'experimental',\n",
      "                  'tags': ['attack.execution', 'attack.t1059'],\n",
      "                  'title': 'Command Line Execution with suspicious URL and '\n",
      "                           'AppData Strings'}},\n",
      " {'data_source': ['4688 ', 'Process CMD Line']},\n",
      " {'data_source': ['4688', 'Process Execution']},\n",
      " {'data_source': ['4688 ', 'Process CMD Line']},\n",
      " {'data_source': ['4688', 'Process Execution']}]\n"
     ]
    }
   ],
   "source": [
    "attck = Attck()\n",
    "for technique in attck.enterprise.techniques:\n",
    "    poss_det = technique.id\n",
    "    selection = selectech[0]\n",
    "    if poss_det == selection:\n",
    "        print(selection + \"_\" + technique.name)\n",
    "        pprint(technique.possible_detections)"
   ]
  },
  {
   "cell_type": "code",
   "execution_count": null,
   "metadata": {},
   "outputs": [],
   "source": []
  }
 ],
 "metadata": {
  "kernelspec": {
   "display_name": "Python 3",
   "language": "python",
   "name": "python3"
  },
  "language_info": {
   "codemirror_mode": {
    "name": "ipython",
    "version": 3
   },
   "file_extension": ".py",
   "mimetype": "text/x-python",
   "name": "python",
   "nbconvert_exporter": "python",
   "pygments_lexer": "ipython3",
   "version": "3.7.6"
  }
 },
 "nbformat": 4,
 "nbformat_minor": 4
}
