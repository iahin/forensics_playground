{
 "cells": [
  {
   "cell_type": "code",
   "execution_count": 30,
   "metadata": {},
   "outputs": [],
   "source": [
    "import networkx as nx\n",
    "import pandas as pd\n",
    "import numpy as np\n",
    "import random\n",
    "from tqdm import tqdm\n",
    "\n",
    "import matplotlib.pyplot as plt\n",
    "%matplotlib inline"
   ]
  },
  {
   "cell_type": "code",
   "execution_count": 2,
   "metadata": {},
   "outputs": [],
   "source": [
    "from karateclub.dataset import GraphReader\n",
    "\n",
    "reader = GraphReader(\"twitch\")\n",
    "\n",
    "graph = reader.get_graph()\n",
    "y = reader.get_target()"
   ]
  },
  {
   "cell_type": "code",
   "execution_count": 31,
   "metadata": {},
   "outputs": [
    {
     "data": {
      "text/plain": [
       "'Name: \\nType: Graph\\nNumber of nodes: 7126\\nNumber of edges: 35324\\nAverage degree:   9.9141'"
      ]
     },
     "execution_count": 31,
     "metadata": {},
     "output_type": "execute_result"
    }
   ],
   "source": [
    "nx.info(graph)"
   ]
  },
  {
   "cell_type": "code",
   "execution_count": 16,
   "metadata": {},
   "outputs": [],
   "source": [
    "from karateclub import DeepWalk\n",
    "\n",
    "model = Diff2Vec(dimensions=64)\n",
    "model.fit(graph)\n",
    "X = model.get_embedding()"
   ]
  },
  {
   "cell_type": "code",
   "execution_count": 17,
   "metadata": {},
   "outputs": [
    {
     "data": {
      "text/plain": [
       "array([[-1.0940071 ,  0.6634695 , -0.35321265, ...,  0.13395189,\n",
       "         0.30999795,  0.14947864],\n",
       "       [-0.07322863, -1.2142566 ,  1.9357494 , ...,  0.49046165,\n",
       "         0.8310766 , -1.5011977 ],\n",
       "       [-0.23608817,  0.31833908,  0.17817482, ...,  0.81647336,\n",
       "         0.2133352 ,  0.5065616 ],\n",
       "       ...,\n",
       "       [ 0.80022424,  1.9550458 , -1.3445162 , ..., -1.6646028 ,\n",
       "         3.829967  , -0.22620302],\n",
       "       [ 1.7967317 ,  1.6303848 , -0.97350985, ..., -1.4684036 ,\n",
       "         0.79918563,  1.8495795 ],\n",
       "       [ 2.0727077 , -1.9437145 , -0.05728374, ...,  0.06646162,\n",
       "        -0.16485979, -0.6328429 ]], dtype=float32)"
      ]
     },
     "execution_count": 17,
     "metadata": {},
     "output_type": "execute_result"
    }
   ],
   "source": [
    "X"
   ]
  },
  {
   "cell_type": "code",
   "execution_count": 21,
   "metadata": {
    "scrolled": true
   },
   "outputs": [],
   "source": [
    "## Import Library\n",
    "import numpy as np\n",
    "import pandas as pd\n",
    "import seaborn as sns\n",
    "import matplotlib.pyplot as plt\n",
    "%matplotlib inline\n",
    "from mpl_toolkits.mplot3d import Axes3D\n",
    "from sklearn.cluster import KMeans\n",
    "from sklearn.preprocessing import StandardScaler"
   ]
  },
  {
   "cell_type": "code",
   "execution_count": 22,
   "metadata": {},
   "outputs": [],
   "source": [
    "## Feature Scaling\n",
    "sc_dfa = StandardScaler()\n",
    "dfa_std = sc_dfa.fit_transform(X)\n",
    "\n",
    "## Clustering with KMeans\n",
    "kmeans = KMeans(n_clusters=3, random_state=42).fit(dfa_std)\n",
    "labels = kmeans.labels_"
   ]
  },
  {
   "cell_type": "code",
   "execution_count": 37,
   "metadata": {},
   "outputs": [
    {
     "data": {
      "text/plain": [
       "array([[-1.1527998 ,  0.57167953, -0.26619205, ...,  0.12829606,\n",
       "         0.09952869,  0.10353517],\n",
       "       [-0.30163485, -1.0002462 ,  1.5770122 , ...,  0.43342042,\n",
       "         0.55318284, -1.2472811 ],\n",
       "       [-0.4374335 ,  0.28275594,  0.1617118 , ...,  0.7124425 ,\n",
       "         0.01537352,  0.3957508 ],\n",
       "       ...,\n",
       "       [ 0.42668435,  1.6529139 , -1.0644468 , ..., -1.4110243 ,\n",
       "         3.1640346 , -0.20390058],\n",
       "       [ 1.2576112 ,  1.3811262 , -0.7656911 , ..., -1.2431043 ,\n",
       "         0.5254184 ,  1.4947975 ],\n",
       "       [ 1.4877307 , -1.6109068 , -0.02789301, ...,  0.0705335 ,\n",
       "        -0.3138853 , -0.5366707 ]], dtype=float32)"
      ]
     },
     "execution_count": 37,
     "metadata": {},
     "output_type": "execute_result"
    }
   ],
   "source": [
    "dfa_std"
   ]
  },
  {
   "cell_type": "code",
   "execution_count": 35,
   "metadata": {},
   "outputs": [
    {
     "data": {
      "text/plain": [
       "<matplotlib.collections.PathCollection at 0x186c5801588>"
      ]
     },
     "execution_count": 35,
     "metadata": {},
     "output_type": "execute_result"
    },
    {
     "data": {
      "image/png": "[encoded data removed]",
      "text/plain": [
       "<Figure size 432x288 with 1 Axes>"
      ]
     },
     "metadata": {
      "needs_background": "light"
     },
     "output_type": "display_data"
    }
   ],
   "source": [
    "centers = kmeans.cluster_centers_\n",
    "plt.scatter(centers[:, 0], centers[:, 1], c='black', s=500)"
   ]
  },
  {
   "cell_type": "code",
   "execution_count": 33,
   "metadata": {},
   "outputs": [
    {
     "data": {
      "text/plain": [
       "Counter({0: 2693, 1: 2189, 2: 2244})"
      ]
     },
     "execution_count": 33,
     "metadata": {},
     "output_type": "execute_result"
    }
   ],
   "source": [
    "from collections import Counter\n",
    "Counter(labels)"
   ]
  },
  {
   "cell_type": "code",
   "execution_count": null,
   "metadata": {},
   "outputs": [],
   "source": []
  }
 ],
 "metadata": {
  "kernelspec": {
   "display_name": "Python 3",
   "language": "python",
   "name": "python3"
  },
  "language_info": {
   "codemirror_mode": {
    "name": "ipython",
    "version": 3
   },
   "file_extension": ".py",
   "mimetype": "text/x-python",
   "name": "python",
   "nbconvert_exporter": "python",
   "pygments_lexer": "ipython3",
   "version": "3.7.9"
  }
 },
 "nbformat": 4,
 "nbformat_minor": 4
}
