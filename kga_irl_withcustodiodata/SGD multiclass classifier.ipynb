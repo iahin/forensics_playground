{
 "cells": [
  {
   "cell_type": "code",
   "execution_count": 190,
   "id": "60ad3822",
   "metadata": {},
   "outputs": [],
   "source": [
    "import numpy as np\n",
    "from glob import glob\n",
    "import json\n",
    "import networkx as nx\n",
    "from networkx.readwrite import json_graph\n",
    "from sklearn.metrics.pairwise import cosine_similarity\n",
    "from sklearn.preprocessing import MinMaxScaler, StandardScaler\n",
    "from sklearn import preprocessing\n",
    "from karateclub import Graph2Vec\n",
    "from sklearn.linear_model import SGDClassifier\n",
    "from sklearn.manifold import TSNE\n",
    "from matplotlib import pyplot as plt\n",
    "from itertools import cycle, islice\n",
    "import creme\n",
    "import pandas as pd\n",
    "import random\n",
    "from sklearn.model_selection import train_test_split\n",
    "from sklearn.linear_model import SGDClassifier, SGDOneClassSVM\n",
    "from collections import defaultdict\n",
    "from sklearn.calibration import CalibratedClassifierCV\n",
    "from sklearn.linear_model import LogisticRegression\n",
    "from sklearn.ensemble import AdaBoostClassifier\n",
    "from sklearn.ensemble import GradientBoostingClassifier\n",
    "from sklearn.tree import DecisionTreeClassifier\n",
    "from sklearn.preprocessing import MinMaxScaler\n",
    "from scipy.special import softmax\n",
    "np.set_printoptions(precision=3)\n",
    "\n",
    "pd.set_option('display.max_colwidth', None)\n",
    "\n",
    "std = StandardScaler()\n"
   ]
  },
  {
   "cell_type": "code",
   "execution_count": 206,
   "id": "80e9e418",
   "metadata": {},
   "outputs": [],
   "source": [
    "with open('data/REDDIT-BINARY_graph2vec_classification_train.npy', 'rb') as f:\n",
    "    redit_train = np.load(f, allow_pickle=True)\n",
    "\n",
    "with open('data/REDDIT-BINARY_graph2vec_classification_test.npy', 'rb') as f:\n",
    "    reddit_test = np.load(f, allow_pickle=True)\n",
    "\n",
    "with open('data/PROTEINS_graph2vec_classification_test.npy', 'rb') as f:\n",
    "    unknown_test = np.load(f, allow_pickle=True)\n",
    "\n",
    "with open('data/PROTEINS_graph2vec_classification_train.npy', 'rb') as f:\n",
    "    unknown_train = np.load(f, allow_pickle=True)\n",
    "\n",
    "\n",
    "with open('data/IMDB-BINARY_graph2vec_classification_test.npy', 'rb') as f:\n",
    "    unknown_test_imdb = np.load(f, allow_pickle=True)\n",
    "\n",
    "with open('data/IMDB-BINARY_graph2vec_classification_train.npy', 'rb') as f:\n",
    "    unknown_train_imdb = np.load(f, allow_pickle=True)\n"
   ]
  },
  {
   "cell_type": "markdown",
   "id": "468b95f0",
   "metadata": {},
   "source": [
    "# SGDclassifier\n",
    "- When inclue multiclass, automaticaly use OvA\n",
    "- Able to get score percentage by using min-max normalisation\n",
    "\n",
    "# Reference\n",
    "- https://www.youtube.com/watch?v=5KyH6v8oKNQ"
   ]
  },
  {
   "cell_type": "code",
   "execution_count": 230,
   "id": "66719ce1",
   "metadata": {},
   "outputs": [],
   "source": [
    "def train_classif(model, epoch, x_embed, y_label, unique_lbl):\n",
    "    for i in range(epoch):\n",
    "        model.partial_fit(x_embed, y_label, unique_lbl)\n",
    "\n",
    "    return model\n",
    "\n",
    "def predict_classif(model, x_test_embed):\n",
    "    y_pred = model.predict([x_test_embed]).squeeze()\n",
    "    y_proba = model.decision_function([x_test_embed])\n",
    "    y_proba = (y_proba - y_proba.min()) / (y_proba.max() - y_proba.min())\n",
    "    y_proba = [x / np.sum(y_proba) for x in y_proba.squeeze()]\n",
    "    y_proba = y_proba[y_pred] * 100\n",
    "    y_proba = np.round(y_proba, 3)\n",
    "    return y_pred, y_proba\n"
   ]
  },
  {
   "cell_type": "code",
   "execution_count": 231,
   "id": "8d6296ac",
   "metadata": {},
   "outputs": [],
   "source": [
    "# Train with REDDIT data as unauth access+data theft with PROTEINS(train and test so have more sample->more accurate) as unknown\n",
    "unknown_protein_label = []\n",
    "# Replace with synthetic label for PROTEINS to equate it to unknwon type class(2==unknwon)\n",
    "for  y in [y for x, y, g in unknown_test] + [y for x, y, g in unknown_train]:\n",
    "    if y == 0:\n",
    "        unknown_protein_label.append(2)\n",
    "    if y == 1:\n",
    "        unknown_protein_label.append(2)\n",
    "\n",
    "X_train = [x for x, y, g in redit_train] + [x for x, y,\n",
    "                                            g in unknown_test] + [x for x, y, g in unknown_train]\n",
    "std_model = std.fit(X_train)\n",
    "X_train = std_model.transform(X_train)\n",
    "y_train = [y for x, y, g in redit_train] + unknown_protein_label\n",
    "\n",
    "X_test = [x for x, y, g in unknown_test]\n",
    "X_test = std_model.transform(X_test)\n",
    "y_test = unknown_protein_label\n"
   ]
  },
  {
   "cell_type": "code",
   "execution_count": 232,
   "id": "ef19da14",
   "metadata": {},
   "outputs": [
    {
     "name": "stdout",
     "output_type": "stream",
     "text": [
      "predicted: 2  with score: 74.006  actual: 2\n"
     ]
    }
   ],
   "source": [
    "# Test to check if given unknwon data, it should predict only 2, never 0 or 1\n",
    "model = SGDClassifier(random_state=47, tol=1e-3)\n",
    "model = train_classif(model, 100, X_train, y_train, [0, 1, 2])\n",
    "pred, score = predict_classif(model, X_test[2])\n",
    "print(\"predicted:\",pred, \" with score:\",score, \" actual:\", y_test[2])\n"
   ]
  },
  {
   "cell_type": "code",
   "execution_count": 220,
   "id": "d5458141",
   "metadata": {},
   "outputs": [
    {
     "name": "stdout",
     "output_type": "stream",
     "text": [
      "[1.000e+00 3.646e-85 1.485e-51]\n",
      "[0.7152863107608453, 0.0, 0.2847136892391548]\n",
      "predicted: 0  with score: 71.53  actual: 0\n"
     ]
    }
   ],
   "source": [
    "# Test to check if given knwon data, it should predict 0 or 1, never 2\n",
    "model = SGDClassifier(random_state=47, tol=1e-3)\n",
    "model = train_classif(model, 100, X_train, y_train, [0, 1, 2])\n",
    "pred, score = predict_classif(model, X_train[2])\n",
    "print(\"predicted:\", pred, \" with score:\", score, \" actual:\", y_train[2])\n"
   ]
  },
  {
   "cell_type": "code",
   "execution_count": 221,
   "id": "456d0950",
   "metadata": {},
   "outputs": [],
   "source": [
    "# Now train with another data IMDB(train only) to test if the data is predicted as unknown\n",
    "unknown_train_label_imdb = []\n",
    "for x,y,g in unknown_train_imdb:\n",
    "    if y == 0:\n",
    "        unknown_train_label_imdb.append(2)\n",
    "    if y == 1:\n",
    "        unknown_train_label_imdb.append(2)\n",
    "\n",
    "X_train_withunknown = [x for x, y, g in unknown_train_imdb]\n",
    "X_train_withunknown = std_model.transform(X_train_withunknown)\n",
    "y_train_withunknown = unknown_train_label_imdb\n"
   ]
  },
  {
   "cell_type": "code",
   "execution_count": 233,
   "id": "5dda4e39",
   "metadata": {},
   "outputs": [
    {
     "name": "stdout",
     "output_type": "stream",
     "text": [
      "predicted: 2  with score: 64.424  actual: 2\n"
     ]
    }
   ],
   "source": [
    "# Test to check if given unknwon data, it should predict only 2, never 0 or 1\n",
    "model = SGDClassifier(random_state=47, tol=1e-3)\n",
    "model = train_classif(model, 100, X_train, y_train, [0, 1, 2])\n",
    "pred, score = predict_classif(model, X_train_withunknown[0])\n",
    "print(\"predicted:\", pred, \" with score:\",\n",
    "      score, \" actual:\", y_train_withunknown[0])\n"
   ]
  },
  {
   "cell_type": "code",
   "execution_count": 224,
   "id": "81b3e641",
   "metadata": {},
   "outputs": [],
   "source": [
    "# Finally test with known sample REDDIT(test) to check if predicts either of the known classes 0 or 1\n",
    "X_train_known = [x for x, y, g in reddit_test]\n",
    "X_train_known = std_model.transform(X_train_known)\n",
    "y_train_known = [ y for x, y, g in reddit_test]\n"
   ]
  },
  {
   "cell_type": "code",
   "execution_count": 229,
   "id": "35619186",
   "metadata": {},
   "outputs": [
    {
     "name": "stdout",
     "output_type": "stream",
     "text": [
      "[1.000e+000 0.000e+000 1.697e-201]\n",
      "[0.5838577380086818, 0.0, 0.41614226199131826]\n",
      "predicted: 0  with score: 58.39  actual: 0\n"
     ]
    }
   ],
   "source": [
    "# Test to check if given knwon data, it should predict 0 or 1, never 2\n",
    "model = SGDClassifier(random_state=47, tol=1e-3)\n",
    "model = train_classif(model, 100, X_train, y_train, [0, 1, 2])\n",
    "pred, score = predict_classif(model, X_train_known[4])\n",
    "print(\"predicted:\", pred, \" with score:\",\n",
    "      score, \" actual:\", y_train_known[4])\n"
   ]
  },
  {
   "cell_type": "markdown",
   "id": "2189ea89",
   "metadata": {},
   "source": [
    "# Using dataset from custodio gen data"
   ]
  },
  {
   "cell_type": "code",
   "execution_count": 46,
   "id": "c799b3f1",
   "metadata": {},
   "outputs": [],
   "source": [
    "folder = glob('slade_data\\\\*')\n",
    "class1 = []\n",
    "class2 = []\n",
    "\n",
    "for file in folder:\n",
    "    casetype = file.split('\\\\')[1].split('-')[0]\n",
    "    if 'ipnet' in casetype:\n",
    "        graphjson = json.load(open(file,'r'))\n",
    "        G = json_graph.node_link_graph(graphjson)\n",
    "        H = nx.convert_node_labels_to_integers(G)\n",
    "        class1.append(H)\n",
    "    if 'smtp' in casetype:\n",
    "        graphjson = json.load(open(file,'r'))\n",
    "        G = json_graph.node_link_graph(graphjson)\n",
    "        H = nx.convert_node_labels_to_integers(G)\n",
    "        class2.append(H)"
   ]
  },
  {
   "cell_type": "code",
   "execution_count": 89,
   "id": "b0a6ca32",
   "metadata": {},
   "outputs": [],
   "source": [
    "packclass = class1 + class2\n",
    "model = Graph2Vec(dimensions=64, epochs=50)\n",
    "model.fit(packclass)\n",
    "packclassembelist = model.get_embedding()\n",
    "packclassembelist = scaler.fit_transform(packclassembelist)\n",
    "\n",
    "train_X = np.array([packclassembelist[0], packclassembelist[1], packclassembelist[3] , packclassembelist[4]])\n",
    "train_y = [0,0,1,1]\n",
    "\n",
    "test_X = np.array([packclassembelist[2] , packclassembelist[5] , packclassembelist[6]])\n",
    "test_y = [0,1,1]"
   ]
  },
  {
   "cell_type": "code",
   "execution_count": 90,
   "id": "4beb9591",
   "metadata": {},
   "outputs": [
    {
     "data": {
      "text/plain": [
       "array([1, 1, 0, 0, 0, 1, 0], dtype=int64)"
      ]
     },
     "execution_count": 90,
     "metadata": {},
     "output_type": "execute_result"
    }
   ],
   "source": [
    "from sklearn.cluster import SpectralClustering\n",
    "clustering = SpectralClustering(n_clusters=2,\n",
    "        assign_labels='discretize',\n",
    "        random_state=0).fit(packclassembelist)\n",
    "clustering.labels_"
   ]
  },
  {
   "cell_type": "code",
   "execution_count": 91,
   "id": "9e749632",
   "metadata": {},
   "outputs": [],
   "source": [
    "model = SGDClassifier(random_state=47, tol=1e-3)\n",
    "model = train_classif(model, 100, train_X, train_y, [0, 1])"
   ]
  },
  {
   "cell_type": "code",
   "execution_count": 92,
   "id": "245df1f2",
   "metadata": {},
   "outputs": [
    {
     "name": "stdout",
     "output_type": "stream",
     "text": [
      "0\n",
      "1 [16.7241284]\n"
     ]
    }
   ],
   "source": [
    "pred, score = predict_classif(model, test_X[0])\n",
    "print(test_y[0])\n",
    "print(pred, score)"
   ]
  },
  {
   "cell_type": "code",
   "execution_count": 93,
   "id": "a67bbc5e",
   "metadata": {},
   "outputs": [
    {
     "name": "stdout",
     "output_type": "stream",
     "text": [
      "0.6666666666666666\n"
     ]
    }
   ],
   "source": [
    "print(model.score(test_X,test_y))"
   ]
  },
  {
   "cell_type": "markdown",
   "id": "f22b1c82",
   "metadata": {},
   "source": [
    "# Experiment dump"
   ]
  },
  {
   "cell_type": "code",
   "execution_count": 100,
   "id": "6253424b",
   "metadata": {},
   "outputs": [],
   "source": [
    "def get_similairty_graph(G, H):\n",
    "    \"\"\"\n",
    "    to get D3 graph data object for rendering to see graph similarity\n",
    "    \"\"\"\n",
    "    GH = nx.compose(G, H)\n",
    "    # set edge colors\n",
    "    edge_colors = dict()\n",
    "    for u, v, attr in GH.edges(data=True):\n",
    "        if G.has_edge(u, v):\n",
    "            if H.has_edge(u, v):\n",
    "                GH[u][v]['color'] = 'magenta'\n",
    "                GH[u][v]['size'] = 5\n",
    "                continue\n",
    "            #GH[u][v]['color'] = 'lightgreen'\n",
    "        #elif H.has_edge(u, v):\n",
    "            #GH[u][v]['color'] = 'lightblue'\n",
    "\n",
    "    # # set node colors\n",
    "    # G_nodes = set(G.nodes())\n",
    "    # H_nodes = set(H.nodes())\n",
    "    # node_colors = []\n",
    "    # for node in GH.nodes():\n",
    "    #     if node in G_nodes:\n",
    "    #         if node in H_nodes:\n",
    "    #             node_colors.append('magenta')\n",
    "    #             continue\n",
    "    #         node_colors.append('lightgreen')\n",
    "    #     if node in H_nodes:\n",
    "    #         node_colors.append('lightblue')\n",
    "\n",
    "    graph2json = json_graph.node_link_data(GH)\n",
    "    graph2json.pop('directed', None)\n",
    "    graph2json.pop('multigraph', None)\n",
    "    graph2json.pop('graph', None)\n",
    "\n",
    "    return graph2json"
   ]
  },
  {
   "cell_type": "code",
   "execution_count": 101,
   "id": "68be470c",
   "metadata": {},
   "outputs": [],
   "source": [
    "grasdasd = get_similairty_graph(class1[0], class2[0])"
   ]
  },
  {
   "cell_type": "code",
   "execution_count": 102,
   "id": "da5992d5",
   "metadata": {},
   "outputs": [],
   "source": [
    "json.dump(grasdasd,open('asdasd.json', 'w'))"
   ]
  }
 ],
 "metadata": {
  "kernelspec": {
   "display_name": "Python 3",
   "language": "python",
   "name": "python3"
  },
  "language_info": {
   "codemirror_mode": {
    "name": "ipython",
    "version": 3
   },
   "file_extension": ".py",
   "mimetype": "text/x-python",
   "name": "python",
   "nbconvert_exporter": "python",
   "pygments_lexer": "ipython3",
   "version": "3.7.6"
  }
 },
 "nbformat": 4,
 "nbformat_minor": 5
}
